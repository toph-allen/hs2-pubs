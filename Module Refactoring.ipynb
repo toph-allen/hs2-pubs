{
 "metadata": {
  "name": ""
 },
 "nbformat": 3,
 "nbformat_minor": 0,
 "worksheets": [
  {
   "cells": [
    {
     "cell_type": "code",
     "collapsed": false,
     "input": [
      "# import numpy as np\n",
      "# from pandas import Series, DataFrame\n",
      "# import pandas as pd\n",
      "# from bs4 import BeautifulSoup\n",
      "import datetime"
     ],
     "language": "python",
     "metadata": {},
     "outputs": [],
     "prompt_number": 1
    },
    {
     "cell_type": "code",
     "collapsed": false,
     "input": [
      "import pdb"
     ],
     "language": "python",
     "metadata": {},
     "outputs": [],
     "prompt_number": 15
    },
    {
     "cell_type": "code",
     "collapsed": false,
     "input": [
      "pdb.help()"
     ],
     "language": "python",
     "metadata": {},
     "outputs": [],
     "prompt_number": 16
    },
    {
     "cell_type": "code",
     "collapsed": false,
     "input": [
      "import pubs\n",
      "reload(pubs)\n",
      "from pubs import *"
     ],
     "language": "python",
     "metadata": {},
     "outputs": [],
     "prompt_number": 2
    },
    {
     "cell_type": "code",
     "collapsed": false,
     "input": [
      "articlepaths = get_article_paths(testdir)\n",
      "places = get_geoname_dataframe(cities1000)\n",
      "countries = get_countryinfo_dataframe(countryInfo)\n",
      "articlepaths = articlepaths[0:10]\n",
      "articlepaths"
     ],
     "language": "python",
     "metadata": {},
     "outputs": [
      {
       "metadata": {},
       "output_type": "pyout",
       "prompt_number": 3,
       "text": [
        "['data/testarticles/AAPS_J_2008_Aug_27_10(3)_473-479.nxml',\n",
        " 'data/testarticles/AAPS_J_2010_Jul_13_12(4)_569-575.nxml',\n",
        " 'data/testarticles/AAPS_J_2012_Dec_7_15(2)_308-315.nxml',\n",
        " 'data/testarticles/AAPS_J_2012_May_8_14(3)_523-529.nxml',\n",
        " 'data/testarticles/Acta_Naturae_2009_Apr_1(1)_121-123.nxml',\n",
        " 'data/testarticles/Acta_Naturae_2009_Apr_1(1)_80-83.nxml',\n",
        " 'data/testarticles/Acta_Naturae_2009_Jul_1(2)_81-85.nxml',\n",
        " 'data/testarticles/Am_J_Epidemiol_2010_Jul_1_172(1)_70-80.nxml',\n",
        " 'data/testarticles/Am_J_Epidemiol_2011_Jul_15_174(2)_154-164.nxml',\n",
        " 'data/testarticles/Am_J_Epidemiol_2012_Aug_1_176(3)_261-268.nxml']"
       ]
      }
     ],
     "prompt_number": 3
    },
    {
     "cell_type": "code",
     "collapsed": false,
     "input": [
      "t1 = datetime.datetime.now()\n",
      "pcounts2 = get_all_matches(articlepaths, places, countries, 'p')\n",
      "# pcounts = pcounts.join(places)\n",
      "t2 = datetime.datetime.now()\n",
      "tdp = t2 - t1\n",
      "tdp"
     ],
     "language": "python",
     "metadata": {},
     "outputs": [
      {
       "output_type": "stream",
       "stream": "stdout",
       "text": [
        "Working on article 1 of 10...\n",
        "Matched 5 places in 2 countries."
       ]
      },
      {
       "output_type": "stream",
       "stream": "stdout",
       "text": [
        "\n",
        "[37254, 37255, 37256, 37257, 37258]\n",
        "Total matches: 0\n",
        "Working on article 2 of 10...\n",
        "Matched 15 places in 4 countries."
       ]
      },
      {
       "output_type": "stream",
       "stream": "stdout",
       "text": [
        "\n",
        "[5091, 5608, 34544, 35130, 35932, 35933, 37878, 38112, 53178, 53344, 53706, 54928, 91670, 92300, 92314]\n",
        "Total matches: 0\n",
        "Working on article 3 of 10...\n",
        "Matched 14 places in 5 countries."
       ]
      },
      {
       "output_type": "stream",
       "stream": "stdout",
       "text": [
        "\n",
        "[39976, 48039, 48510, 53520, 55106, 55999, 71847, 72979, 73788, 92527, 92528, 92560, 92778, 92795]\n",
        "Total matches: 0\n",
        "Working on article 4 of 10...\n",
        "Matched 1 places in 1 countries."
       ]
      },
      {
       "output_type": "stream",
       "stream": "stdout",
       "text": [
        "\n",
        "[84541]\n",
        "Total matches: 0\n",
        "Working on article 5 of 10...\n",
        "Matched 1 places in 2 countries."
       ]
      },
      {
       "output_type": "stream",
       "stream": "stdout",
       "text": [
        "\n",
        "[110089]\n",
        "Total matches: 0\n",
        "Working on article 6 of 10...\n",
        "Matched 0 places in 0 countries."
       ]
      },
      {
       "output_type": "stream",
       "stream": "stdout",
       "text": [
        "\n",
        "[]\n",
        "Total matches: 0\n",
        "Working on article 7 of 10...\n",
        "Matched 5 places in 3 countries."
       ]
      },
      {
       "output_type": "stream",
       "stream": "stdout",
       "text": [
        "\n",
        "[28872, 36290, 36297, 36298, 110845]\n",
        "Total matches: 0\n",
        "Working on article 8 of 10...\n",
        "Matched 10 places in 3 countries."
       ]
      },
      {
       "output_type": "stream",
       "stream": "stdout",
       "text": [
        "\n",
        "[11288, 11326, 11560, 14394, 16576, 21979, 23601, 24062, 25536, 113217]\n",
        "Total matches: 0\n",
        "Working on article 9 of 10...\n",
        "Matched 25 places in 10 countries."
       ]
      },
      {
       "output_type": "stream",
       "stream": "stdout",
       "text": [
        "\n",
        "[29515, 34346, 34578, 35932, 35933, 35996, 35997, 38210, 57071, 57383, 57471, 57599, 58055, 71749, 71847, 72513, 72785, 72889, 73204, 73788, 73804, 74224, 74304, 74695, 74696]\n",
        "Total matches: 0\n",
        "Working on article 10 of 10...\n",
        "Matched 4 places in 1 countries."
       ]
      },
      {
       "output_type": "stream",
       "stream": "stdout",
       "text": [
        "\n",
        "[57071, 57616, 57930, 58055]\n",
        "Total matches: 0\n"
       ]
      },
      {
       "metadata": {},
       "output_type": "pyout",
       "prompt_number": 4,
       "text": [
        "datetime.timedelta(0, 11, 339925)"
       ]
      }
     ],
     "prompt_number": 4
    },
    {
     "cell_type": "code",
     "collapsed": false,
     "input": [
      "pcounts"
     ],
     "language": "python",
     "metadata": {},
     "outputs": [
      {
       "ename": "NameError",
       "evalue": "name 'pcounts' is not defined",
       "output_type": "pyerr",
       "traceback": [
        "\u001b[0;31m---------------------------------------------------------------------------\u001b[0m\n\u001b[0;31mNameError\u001b[0m                                 Traceback (most recent call last)",
        "\u001b[0;32m<ipython-input-6-ce6e929e8295>\u001b[0m in \u001b[0;36m<module>\u001b[0;34m()\u001b[0m\n\u001b[0;32m----> 1\u001b[0;31m \u001b[0mpcounts\u001b[0m\u001b[0;34m\u001b[0m\u001b[0m\n\u001b[0m",
        "\u001b[0;31mNameError\u001b[0m: name 'pcounts' is not defined"
       ]
      }
     ],
     "prompt_number": 6
    },
    {
     "cell_type": "markdown",
     "metadata": {},
     "source": [
      "# Testing different ways of summing stuff\n",
      "\n",
      "For fun and profit. I mean, because we need to capture other metadata."
     ]
    },
    {
     "cell_type": "markdown",
     "metadata": {},
     "source": [
      "## Exploring what other metadata we might pull"
     ]
    },
    {
     "cell_type": "code",
     "collapsed": false,
     "input": [
      "article = open(articlepaths[4], 'r')\n",
      "articlesoup = BeautifulSoup(article, 'lxml')\n",
      "article.close()"
     ],
     "language": "python",
     "metadata": {},
     "outputs": [],
     "prompt_number": 77
    },
    {
     "cell_type": "code",
     "collapsed": false,
     "input": [
      "articlesoup.front.find('journal-title').get_text()"
     ],
     "language": "python",
     "metadata": {},
     "outputs": [
      {
       "metadata": {},
       "output_type": "pyout",
       "prompt_number": 78,
       "text": [
        "u'Acta Naturae'"
       ]
      }
     ],
     "prompt_number": 78
    },
    {
     "cell_type": "code",
     "collapsed": false,
     "input": [
      "int(articlesoup.front.find(name='pub-date', attrs={'pub-type': 'ppub'}).year.get_text())"
     ],
     "language": "python",
     "metadata": {},
     "outputs": [
      {
       "metadata": {},
       "output_type": "pyout",
       "prompt_number": 79,
       "text": [
        "2009"
       ]
      }
     ],
     "prompt_number": 79
    },
    {
     "cell_type": "code",
     "collapsed": false,
     "input": [
      "articlesoup.front.find(name='article-id', attrs={'pub-id-type': 'doi'})"
     ],
     "language": "python",
     "metadata": {},
     "outputs": [],
     "prompt_number": 80
    },
    {
     "cell_type": "code",
     "collapsed": false,
     "input": [
      "pcounts.to_csv(outdir + 'matched_places_p.csv', encoding = 'utf-8')"
     ],
     "language": "python",
     "metadata": {},
     "outputs": [],
     "prompt_number": 81
    },
    {
     "cell_type": "code",
     "collapsed": false,
     "input": [
      "tag = 'p'\n",
      "\n",
      "tags = articlesoup.find_all(tag)\n",
      "text = ''\n",
      "\n",
      "for t in tags:\n",
      "    tagtext = t.get_text() + '\\n\\n'\n",
      "    text += tagtext"
     ],
     "language": "python",
     "metadata": {},
     "outputs": [],
     "prompt_number": 82
    },
    {
     "cell_type": "code",
     "collapsed": false,
     "input": [
      "countrymatches = get_country_matches(text, countries, tag)\n",
      "criterion = places['countrycode'].map(lambda x: x in countrymatches)\n",
      "matches = get_place_matches(text, places[criterion], tag)\n",
      "print 'Matched %i places in %i countries.' % (len(matches),\n",
      "    len(countrymatches))"
     ],
     "language": "python",
     "metadata": {},
     "outputs": [
      {
       "output_type": "stream",
       "stream": "stdout",
       "text": [
        "Matched 1 places in 2 countries.\n"
       ]
      }
     ],
     "prompt_number": 83
    },
    {
     "cell_type": "code",
     "collapsed": false,
     "input": [
      "allmatches = DataFrame()\n",
      "matches = DataFrame({'row_index': matches})\n",
      "\n",
      "        # Originally, wanted to put the publication date for 'ppub' but not all articles have that.\n",
      "try:\n",
      "    matches['year'] = int(articlesoup.front.find(name='pub-date', attrs={'pub-type': 'ppub'}).year.get_text())\n",
      "except:\n",
      "    matches['year'] = int(articlesoup.front.find(name='pub-date').year.get_text())\n",
      "\n",
      "try:\n",
      "    matches['journal'] = articlesoup.front.find('journal-title').get_text()\n",
      "except:\n",
      "    pass\n",
      "\n",
      "try:\n",
      "    matches['doi'] = articlesoup.front.find(name='article-id', attrs={'pub-id-type': 'doi'}).get_text()\n",
      "except:\n",
      "    pass\n",
      "\n",
      "try:\n",
      "    matches['pmid'] = articlesoup.front.find(name='article-id', attrs={'pub-id-type': 'pmid'}).get_text()\n",
      "except:\n",
      "    pass\n"
     ],
     "language": "python",
     "metadata": {},
     "outputs": [
      {
       "ename": "ValueError",
       "evalue": "If using all scalar values, you must must pass an index",
       "output_type": "pyerr",
       "traceback": [
        "\u001b[0;31m---------------------------------------------------------------------------\u001b[0m\n\u001b[0;31mValueError\u001b[0m                                Traceback (most recent call last)",
        "\u001b[0;32m<ipython-input-95-d815c5261681>\u001b[0m in \u001b[0;36m<module>\u001b[0;34m()\u001b[0m\n\u001b[1;32m      1\u001b[0m \u001b[0mallmatches\u001b[0m \u001b[0;34m=\u001b[0m \u001b[0mDataFrame\u001b[0m\u001b[0;34m(\u001b[0m\u001b[0;34m)\u001b[0m\u001b[0;34m\u001b[0m\u001b[0m\n\u001b[0;32m----> 2\u001b[0;31m \u001b[0mmatches\u001b[0m \u001b[0;34m=\u001b[0m \u001b[0mDataFrame\u001b[0m\u001b[0;34m(\u001b[0m\u001b[0;34m{\u001b[0m\u001b[0;34m'row_index'\u001b[0m\u001b[0;34m:\u001b[0m \u001b[0mmatches\u001b[0m\u001b[0;34m}\u001b[0m\u001b[0;34m)\u001b[0m\u001b[0;34m\u001b[0m\u001b[0m\n\u001b[0m\u001b[1;32m      3\u001b[0m \u001b[0;34m\u001b[0m\u001b[0m\n\u001b[1;32m      4\u001b[0m         \u001b[0;31m# Originally, wanted to put the publication date for 'ppub' but not all articles have that.\u001b[0m\u001b[0;34m\u001b[0m\u001b[0;34m\u001b[0m\u001b[0m\n\u001b[1;32m      5\u001b[0m \u001b[0;32mtry\u001b[0m\u001b[0;34m:\u001b[0m\u001b[0;34m\u001b[0m\u001b[0m\n",
        "\u001b[0;32m/usr/local/Cellar/python/2.7.6/Frameworks/Python.framework/Versions/2.7/lib/python2.7/site-packages/pandas/core/frame.pyc\u001b[0m in \u001b[0;36m__init__\u001b[0;34m(self, data, index, columns, dtype, copy)\u001b[0m\n\u001b[1;32m    199\u001b[0m                                  dtype=dtype, copy=copy)\n\u001b[1;32m    200\u001b[0m         \u001b[0;32melif\u001b[0m \u001b[0misinstance\u001b[0m\u001b[0;34m(\u001b[0m\u001b[0mdata\u001b[0m\u001b[0;34m,\u001b[0m \u001b[0mdict\u001b[0m\u001b[0;34m)\u001b[0m\u001b[0;34m:\u001b[0m\u001b[0;34m\u001b[0m\u001b[0m\n\u001b[0;32m--> 201\u001b[0;31m             \u001b[0mmgr\u001b[0m \u001b[0;34m=\u001b[0m \u001b[0mself\u001b[0m\u001b[0;34m.\u001b[0m\u001b[0m_init_dict\u001b[0m\u001b[0;34m(\u001b[0m\u001b[0mdata\u001b[0m\u001b[0;34m,\u001b[0m \u001b[0mindex\u001b[0m\u001b[0;34m,\u001b[0m \u001b[0mcolumns\u001b[0m\u001b[0;34m,\u001b[0m \u001b[0mdtype\u001b[0m\u001b[0;34m=\u001b[0m\u001b[0mdtype\u001b[0m\u001b[0;34m)\u001b[0m\u001b[0;34m\u001b[0m\u001b[0m\n\u001b[0m\u001b[1;32m    202\u001b[0m         \u001b[0;32melif\u001b[0m \u001b[0misinstance\u001b[0m\u001b[0;34m(\u001b[0m\u001b[0mdata\u001b[0m\u001b[0;34m,\u001b[0m \u001b[0mma\u001b[0m\u001b[0;34m.\u001b[0m\u001b[0mMaskedArray\u001b[0m\u001b[0;34m)\u001b[0m\u001b[0;34m:\u001b[0m\u001b[0;34m\u001b[0m\u001b[0m\n\u001b[1;32m    203\u001b[0m             \u001b[0;32mimport\u001b[0m \u001b[0mnumpy\u001b[0m\u001b[0;34m.\u001b[0m\u001b[0mma\u001b[0m\u001b[0;34m.\u001b[0m\u001b[0mmrecords\u001b[0m \u001b[0;32mas\u001b[0m \u001b[0mmrecords\u001b[0m\u001b[0;34m\u001b[0m\u001b[0m\n",
        "\u001b[0;32m/usr/local/Cellar/python/2.7.6/Frameworks/Python.framework/Versions/2.7/lib/python2.7/site-packages/pandas/core/frame.pyc\u001b[0m in \u001b[0;36m_init_dict\u001b[0;34m(self, data, index, columns, dtype)\u001b[0m\n\u001b[1;32m    321\u001b[0m \u001b[0;34m\u001b[0m\u001b[0m\n\u001b[1;32m    322\u001b[0m         return _arrays_to_mgr(arrays, data_names, index, columns,\n\u001b[0;32m--> 323\u001b[0;31m                               dtype=dtype)\n\u001b[0m\u001b[1;32m    324\u001b[0m \u001b[0;34m\u001b[0m\u001b[0m\n\u001b[1;32m    325\u001b[0m     def _init_ndarray(self, values, index, columns, dtype=None,\n",
        "\u001b[0;32m/usr/local/Cellar/python/2.7.6/Frameworks/Python.framework/Versions/2.7/lib/python2.7/site-packages/pandas/core/frame.pyc\u001b[0m in \u001b[0;36m_arrays_to_mgr\u001b[0;34m(arrays, arr_names, index, columns, dtype)\u001b[0m\n\u001b[1;32m   4546\u001b[0m     \u001b[0;31m# figure out the index, if necessary\u001b[0m\u001b[0;34m\u001b[0m\u001b[0;34m\u001b[0m\u001b[0m\n\u001b[1;32m   4547\u001b[0m     \u001b[0;32mif\u001b[0m \u001b[0mindex\u001b[0m \u001b[0;32mis\u001b[0m \u001b[0mNone\u001b[0m\u001b[0;34m:\u001b[0m\u001b[0;34m\u001b[0m\u001b[0m\n\u001b[0;32m-> 4548\u001b[0;31m         \u001b[0mindex\u001b[0m \u001b[0;34m=\u001b[0m \u001b[0mextract_index\u001b[0m\u001b[0;34m(\u001b[0m\u001b[0marrays\u001b[0m\u001b[0;34m)\u001b[0m\u001b[0;34m\u001b[0m\u001b[0m\n\u001b[0m\u001b[1;32m   4549\u001b[0m     \u001b[0;32melse\u001b[0m\u001b[0;34m:\u001b[0m\u001b[0;34m\u001b[0m\u001b[0m\n\u001b[1;32m   4550\u001b[0m         \u001b[0mindex\u001b[0m \u001b[0;34m=\u001b[0m \u001b[0m_ensure_index\u001b[0m\u001b[0;34m(\u001b[0m\u001b[0mindex\u001b[0m\u001b[0;34m)\u001b[0m\u001b[0;34m\u001b[0m\u001b[0m\n",
        "\u001b[0;32m/usr/local/Cellar/python/2.7.6/Frameworks/Python.framework/Versions/2.7/lib/python2.7/site-packages/pandas/core/frame.pyc\u001b[0m in \u001b[0;36mextract_index\u001b[0;34m(data)\u001b[0m\n\u001b[1;32m   4585\u001b[0m \u001b[0;34m\u001b[0m\u001b[0m\n\u001b[1;32m   4586\u001b[0m         \u001b[0;32mif\u001b[0m \u001b[0;32mnot\u001b[0m \u001b[0mindexes\u001b[0m \u001b[0;32mand\u001b[0m \u001b[0;32mnot\u001b[0m \u001b[0mraw_lengths\u001b[0m\u001b[0;34m:\u001b[0m\u001b[0;34m\u001b[0m\u001b[0m\n\u001b[0;32m-> 4587\u001b[0;31m             raise ValueError('If using all scalar values, you must must pass'\n\u001b[0m\u001b[1;32m   4588\u001b[0m                              ' an index')\n\u001b[1;32m   4589\u001b[0m \u001b[0;34m\u001b[0m\u001b[0m\n",
        "\u001b[0;31mValueError\u001b[0m: If using all scalar values, you must must pass an index"
       ]
      }
     ],
     "prompt_number": 95
    },
    {
     "cell_type": "code",
     "collapsed": false,
     "input": [
      "x = Series([1, 2, 3, 4, 4, 4, 4, 4, 5])\n",
      "x.drop_duplicates()"
     ],
     "language": "python",
     "metadata": {},
     "outputs": [
      {
       "metadata": {},
       "output_type": "pyout",
       "prompt_number": 118,
       "text": [
        "0    1\n",
        "1    2\n",
        "2    3\n",
        "3    4\n",
        "8    5\n",
        "dtype: int64"
       ]
      }
     ],
     "prompt_number": 118
    }
   ],
   "metadata": {}
  }
 ]
}