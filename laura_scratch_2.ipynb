{
 "metadata": {
  "name": ""
 },
 "nbformat": 3,
 "nbformat_minor": 0,
 "worksheets": [
  {
   "cells": [
    {
     "cell_type": "code",
     "collapsed": false,
     "input": [
      "%load_ext autoreload\n",
      "%autoreload 2"
     ],
     "language": "python",
     "metadata": {},
     "outputs": [],
     "prompt_number": 1
    },
    {
     "cell_type": "code",
     "collapsed": false,
     "input": [
      "import os\n",
      "import csv\n",
      "from time import sleep\n",
      "import random\n",
      "\n",
      "from selenium import webdriver\n",
      "from selenium.webdriver.common.keys import Keys\n",
      "from selenium.common.exceptions import NoSuchElementException\n",
      "import numpy as np\n",
      "import pandas as pd\n",
      "from pandas import Series, DataFrame\n",
      "from bs4 import BeautifulSoup"
     ],
     "language": "python",
     "metadata": {},
     "outputs": [],
     "prompt_number": 2
    },
    {
     "cell_type": "code",
     "collapsed": false,
     "input": [
      "import laura\n",
      "from laura import *"
     ],
     "language": "python",
     "metadata": {},
     "outputs": [],
     "prompt_number": 3
    },
    {
     "cell_type": "code",
     "collapsed": false,
     "input": [
      "pub_dataframe = pd.io.parsers.read_table('data/laura_pubs_meta.csv', encoding='utf-8', quotechar='\"', sep=',', index_col=0)\n",
      "pub_dataframe['URL'] = ''"
     ],
     "language": "python",
     "metadata": {},
     "outputs": [],
     "prompt_number": 4
    },
    {
     "cell_type": "code",
     "collapsed": false,
     "input": [
      "pub_dataframe = pub_dataframe.iloc[0:10, :]"
     ],
     "language": "python",
     "metadata": {},
     "outputs": [],
     "prompt_number": 5
    },
    {
     "cell_type": "code",
     "collapsed": false,
     "input": [
      "getter = pub_html_getter()"
     ],
     "language": "python",
     "metadata": {},
     "outputs": [],
     "prompt_number": 6
    },
    {
     "cell_type": "code",
     "collapsed": false,
     "input": [
      "for i, row in pub_dataframe.iterrows():\n",
      "    article = pub_data(row)\n",
      "    article.get_html_for_article(getter)\n",
      "    article.write_html_to_file()\n",
      "    pub_dataframe.loc[i, \"URL\"] = getter.current_url\n",
      "    sleep(random.lognormvariate(1.5,0.5))\n",
      "    pub_dataframe.loc[i, \"URL\"] = getter.current_url"
     ],
     "language": "python",
     "metadata": {},
     "outputs": [],
     "prompt_number": 7
    },
    {
     "cell_type": "code",
     "collapsed": false,
     "input": [
      "pub_dataframe.to_csv(os.getcwd() + '/laura_out/laura_pub_urls.csv')"
     ],
     "language": "python",
     "metadata": {},
     "outputs": [],
     "prompt_number": 8
    },
    {
     "cell_type": "markdown",
     "metadata": {},
     "source": [
      "# Scratchier"
     ]
    },
    {
     "cell_type": "code",
     "collapsed": false,
     "input": [
      "a = pub_data(pub_dataframe.iloc[2])\n",
      "a.title"
     ],
     "language": "python",
     "metadata": {},
     "outputs": [
      {
       "metadata": {},
       "output_type": "pyout",
       "prompt_number": 33,
       "text": [
        "'EFFECTS OF HABITAT FRAGMENTATION AND DEGRADATION ON FLOCKS OF AFRICAN ANT-FOLLOWING BIRDS'"
       ]
      }
     ],
     "prompt_number": 33
    },
    {
     "cell_type": "code",
     "collapsed": false,
     "input": [
      "getter.search_scholar_for_article(a)\n",
      "getter.click_first_result()\n",
      "getter.ezproxy_login()"
     ],
     "language": "python",
     "metadata": {},
     "outputs": [],
     "prompt_number": 36
    },
    {
     "cell_type": "code",
     "collapsed": false,
     "input": [
      "getter.article_link_search_test()"
     ],
     "language": "python",
     "metadata": {},
     "outputs": [
      {
       "metadata": {},
       "output_type": "pyout",
       "prompt_number": 29,
       "text": [
        "'Full-text'"
       ]
      }
     ],
     "prompt_number": 29
    },
    {
     "cell_type": "code",
     "collapsed": false,
     "input": [
      "getter.go_to_full_article()"
     ],
     "language": "python",
     "metadata": {},
     "outputs": [],
     "prompt_number": 37
    },
    {
     "cell_type": "code",
     "collapsed": false,
     "input": [
      "url = getter.current_url"
     ],
     "language": "python",
     "metadata": {},
     "outputs": [],
     "prompt_number": 76
    },
    {
     "cell_type": "code",
     "collapsed": false,
     "input": [
      "i = 2"
     ],
     "language": "python",
     "metadata": {},
     "outputs": [],
     "prompt_number": 81
    },
    {
     "cell_type": "code",
     "collapsed": false,
     "input": [
      "pub_dataframe['URL'] = ''"
     ],
     "language": "python",
     "metadata": {},
     "outputs": [],
     "prompt_number": 85
    },
    {
     "cell_type": "code",
     "collapsed": false,
     "input": [
      "pub_dataframe"
     ],
     "language": "python",
     "metadata": {},
     "outputs": [
      {
       "html": [
        "<div style=\"max-height:1000px;max-width:1500px;overflow:auto;\">\n",
        "<table border=\"1\" class=\"dataframe\">\n",
        "  <thead>\n",
        "    <tr style=\"text-align: right;\">\n",
        "      <th></th>\n",
        "      <th>Number</th>\n",
        "      <th>Journal</th>\n",
        "      <th>Vol</th>\n",
        "      <th>Year</th>\n",
        "      <th>Issue</th>\n",
        "      <th>First.pg</th>\n",
        "      <th>Title</th>\n",
        "      <th>URL</th>\n",
        "      <th>(2, URL)</th>\n",
        "    </tr>\n",
        "  </thead>\n",
        "  <tbody>\n",
        "    <tr>\n",
        "      <th>1 </th>\n",
        "      <td> 1808</td>\n",
        "      <td>          Global change bio</td>\n",
        "      <td>  14</td>\n",
        "      <td> 2009</td>\n",
        "      <td> 12</td>\n",
        "      <td> 2810</td>\n",
        "      <td> Nutrient constraints to tropical agroecosystem...</td>\n",
        "      <td> </td>\n",
        "      <td> http://www.esajournals.org.ezproxy.cul.columbi...</td>\n",
        "    </tr>\n",
        "    <tr>\n",
        "      <th>2 </th>\n",
        "      <td> 2005</td>\n",
        "      <td>          Global change bio</td>\n",
        "      <td>  13</td>\n",
        "      <td> 2007</td>\n",
        "      <td>  2</td>\n",
        "      <td>  511</td>\n",
        "      <td> Long-term impacts of anthropogenic perturbatio...</td>\n",
        "      <td> </td>\n",
        "      <td> http://www.esajournals.org.ezproxy.cul.columbi...</td>\n",
        "    </tr>\n",
        "    <tr>\n",
        "      <th>3 </th>\n",
        "      <td> 2341</td>\n",
        "      <td>    Ecological Applications</td>\n",
        "      <td>  18</td>\n",
        "      <td> 2008</td>\n",
        "      <td>  4</td>\n",
        "      <td>  847</td>\n",
        "      <td> EFFECTS OF HABITAT FRAGMENTATION AND DEGRADATI...</td>\n",
        "      <td> </td>\n",
        "      <td> http://www.esajournals.org.ezproxy.cul.columbi...</td>\n",
        "    </tr>\n",
        "    <tr>\n",
        "      <th>4 </th>\n",
        "      <td>  136</td>\n",
        "      <td>                    Ecology</td>\n",
        "      <td>  89</td>\n",
        "      <td> 2008</td>\n",
        "      <td>  6</td>\n",
        "      <td> 1532</td>\n",
        "      <td> SEASON- AND HERBIVORE-DEPENDENT COMPETITION AN...</td>\n",
        "      <td> </td>\n",
        "      <td> http://www.esajournals.org.ezproxy.cul.columbi...</td>\n",
        "    </tr>\n",
        "    <tr>\n",
        "      <th>5 </th>\n",
        "      <td> 3037</td>\n",
        "      <td>                     Am Nat</td>\n",
        "      <td> 170</td>\n",
        "      <td> 2007</td>\n",
        "      <td>  1</td>\n",
        "      <td>  155</td>\n",
        "      <td> Temporal but Not Spatial Environmental Variati...</td>\n",
        "      <td> </td>\n",
        "      <td> http://www.esajournals.org.ezproxy.cul.columbi...</td>\n",
        "    </tr>\n",
        "    <tr>\n",
        "      <th>6 </th>\n",
        "      <td>  820</td>\n",
        "      <td>         Journal of Ecology</td>\n",
        "      <td>  95</td>\n",
        "      <td> 2007</td>\n",
        "      <td>  1</td>\n",
        "      <td>  129</td>\n",
        "      <td> Consequences of herbivory by native ungulates ...</td>\n",
        "      <td> </td>\n",
        "      <td> http://www.esajournals.org.ezproxy.cul.columbi...</td>\n",
        "    </tr>\n",
        "    <tr>\n",
        "      <th>7 </th>\n",
        "      <td>  359</td>\n",
        "      <td>                    Ecology</td>\n",
        "      <td>  87</td>\n",
        "      <td> 2006</td>\n",
        "      <td> 10</td>\n",
        "      <td> 2657</td>\n",
        "      <td> INDIRECT EFFECTS OF LARGE HERBIVORES ON SNAKES...</td>\n",
        "      <td> </td>\n",
        "      <td> http://www.esajournals.org.ezproxy.cul.columbi...</td>\n",
        "    </tr>\n",
        "    <tr>\n",
        "      <th>8 </th>\n",
        "      <td> 1243</td>\n",
        "      <td>            Ecology letters</td>\n",
        "      <td>  11</td>\n",
        "      <td> 2008</td>\n",
        "      <td> 12</td>\n",
        "      <td> 1328</td>\n",
        "      <td> Coupling of canopy and understory food webs by...</td>\n",
        "      <td> </td>\n",
        "      <td> http://www.esajournals.org.ezproxy.cul.columbi...</td>\n",
        "    </tr>\n",
        "    <tr>\n",
        "      <th>9 </th>\n",
        "      <td>  198</td>\n",
        "      <td>                    Ecology</td>\n",
        "      <td>  89</td>\n",
        "      <td> 2008</td>\n",
        "      <td>  1</td>\n",
        "      <td>   41</td>\n",
        "      <td> FOLIAR ABSORPTION OF INTERCEPTED RAINFALL IMPR...</td>\n",
        "      <td> </td>\n",
        "      <td> http://www.esajournals.org.ezproxy.cul.columbi...</td>\n",
        "    </tr>\n",
        "    <tr>\n",
        "      <th>10</th>\n",
        "      <td> 1603</td>\n",
        "      <td> Journal of Applied Ecology</td>\n",
        "      <td>  43</td>\n",
        "      <td> 2006</td>\n",
        "      <td>  6</td>\n",
        "      <td> 1160</td>\n",
        "      <td> Ecological patterns of plant diversity in a pl...</td>\n",
        "      <td> </td>\n",
        "      <td> http://www.esajournals.org.ezproxy.cul.columbi...</td>\n",
        "    </tr>\n",
        "  </tbody>\n",
        "</table>\n",
        "<p>10 rows \u00d7 9 columns</p>\n",
        "</div>"
       ],
       "metadata": {},
       "output_type": "pyout",
       "prompt_number": 83,
       "text": [
        "    Number                     Journal  Vol  Year  Issue  First.pg  \\\n",
        "1     1808           Global change bio   14  2009     12      2810   \n",
        "2     2005           Global change bio   13  2007      2       511   \n",
        "3     2341     Ecological Applications   18  2008      4       847   \n",
        "4      136                     Ecology   89  2008      6      1532   \n",
        "5     3037                      Am Nat  170  2007      1       155   \n",
        "6      820          Journal of Ecology   95  2007      1       129   \n",
        "7      359                     Ecology   87  2006     10      2657   \n",
        "8     1243             Ecology letters   11  2008     12      1328   \n",
        "9      198                     Ecology   89  2008      1        41   \n",
        "10    1603  Journal of Applied Ecology   43  2006      6      1160   \n",
        "\n",
        "                                                Title URL  \\\n",
        "1   Nutrient constraints to tropical agroecosystem...       \n",
        "2   Long-term impacts of anthropogenic perturbatio...       \n",
        "3   EFFECTS OF HABITAT FRAGMENTATION AND DEGRADATI...       \n",
        "4   SEASON- AND HERBIVORE-DEPENDENT COMPETITION AN...       \n",
        "5   Temporal but Not Spatial Environmental Variati...       \n",
        "6   Consequences of herbivory by native ungulates ...       \n",
        "7   INDIRECT EFFECTS OF LARGE HERBIVORES ON SNAKES...       \n",
        "8   Coupling of canopy and understory food webs by...       \n",
        "9   FOLIAR ABSORPTION OF INTERCEPTED RAINFALL IMPR...       \n",
        "10  Ecological patterns of plant diversity in a pl...       \n",
        "\n",
        "                                             (2, URL)  \n",
        "1   http://www.esajournals.org.ezproxy.cul.columbi...  \n",
        "2   http://www.esajournals.org.ezproxy.cul.columbi...  \n",
        "3   http://www.esajournals.org.ezproxy.cul.columbi...  \n",
        "4   http://www.esajournals.org.ezproxy.cul.columbi...  \n",
        "5   http://www.esajournals.org.ezproxy.cul.columbi...  \n",
        "6   http://www.esajournals.org.ezproxy.cul.columbi...  \n",
        "7   http://www.esajournals.org.ezproxy.cul.columbi...  \n",
        "8   http://www.esajournals.org.ezproxy.cul.columbi...  \n",
        "9   http://www.esajournals.org.ezproxy.cul.columbi...  \n",
        "10  http://www.esajournals.org.ezproxy.cul.columbi...  \n",
        "\n",
        "[10 rows x 9 columns]"
       ]
      }
     ],
     "prompt_number": 83
    }
   ],
   "metadata": {}
  }
 ]
}