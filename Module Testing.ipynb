{
 "metadata": {
  "name": ""
 },
 "nbformat": 3,
 "nbformat_minor": 0,
 "worksheets": [
  {
   "cells": [
    {
     "cell_type": "code",
     "collapsed": false,
     "input": [
      "# import numpy as np\n",
      "# from pandas import Series, DataFrame\n",
      "# import pandas as pd\n",
      "# from bs4 import BeautifulSoup\n",
      "import datetime"
     ],
     "language": "python",
     "metadata": {},
     "outputs": [],
     "prompt_number": 22
    },
    {
     "cell_type": "code",
     "collapsed": false,
     "input": [
      "import pubs\n",
      "reload(pubs)\n",
      "from pubs import *"
     ],
     "language": "python",
     "metadata": {},
     "outputs": [],
     "prompt_number": 23
    },
    {
     "cell_type": "code",
     "collapsed": false,
     "input": [
      "articlepaths = get_article_paths(testdir)\n",
      "places = get_geoname_dataframe(cities1000)\n",
      "countries = get_countryinfo_dataframe(countryInfo)"
     ],
     "language": "python",
     "metadata": {},
     "outputs": [],
     "prompt_number": 24
    },
    {
     "cell_type": "code",
     "collapsed": false,
     "input": [
      "t1 = datetime.datetime.now()\n",
      "affcounts = count_all_matches(articlepaths, places, countries, 'aff')\n",
      "affcounts = affcounts.join(places)"
     ],
     "language": "python",
     "metadata": {},
     "outputs": [],
     "prompt_number": 25
    },
    {
     "cell_type": "code",
     "collapsed": false,
     "input": [
      "affcounts.to_csv(outdir + 'matched_places_aff.csv', encoding = 'utf-8')\n",
      "t2 = datetime.datetime.now()\n",
      "tdaff = t2 - t1\n",
      "tdaff"
     ],
     "language": "python",
     "metadata": {},
     "outputs": [
      {
       "metadata": {},
       "output_type": "pyout",
       "prompt_number": 26,
       "text": [
        "datetime.timedelta(0, 15, 937139)"
       ]
      }
     ],
     "prompt_number": 26
    },
    {
     "cell_type": "code",
     "collapsed": false,
     "input": [
      "t1 = datetime.datetime.now()\n",
      "pcounts = count_all_matches(articlepaths, places, countries, 'p')\n",
      "pcounts = pcounts.join(places)"
     ],
     "language": "python",
     "metadata": {},
     "outputs": [],
     "prompt_number": 27
    },
    {
     "cell_type": "code",
     "collapsed": false,
     "input": [
      "pcounts.to_csv(outdir + 'matched_places_p.csv', encoding = 'utf-8')\n",
      "t2 = datetime.datetime.now()\n",
      "tdp = t2 - t1\n",
      "tdp"
     ],
     "language": "python",
     "metadata": {},
     "outputs": [
      {
       "metadata": {},
       "output_type": "pyout",
       "prompt_number": 28,
       "text": [
        "datetime.timedelta(0, 38, 264166)"
       ]
      }
     ],
     "prompt_number": 28
    }
   ],
   "metadata": {}
  }
 ]
}