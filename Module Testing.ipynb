{
 "metadata": {
  "name": ""
 },
 "nbformat": 3,
 "nbformat_minor": 0,
 "worksheets": [
  {
   "cells": [
    {
     "cell_type": "code",
     "collapsed": false,
     "input": [
      "# import numpy as np\n",
      "# from pandas import Series, DataFrame\n",
      "# import pandas as pd\n",
      "# from bs4 import BeautifulSoup\n",
      "import datetime"
     ],
     "language": "python",
     "metadata": {},
     "outputs": [],
     "prompt_number": 1
    },
    {
     "cell_type": "code",
     "collapsed": false,
     "input": [
      "import pubs\n",
      "reload(pubs)\n",
      "from pubs import *"
     ],
     "language": "python",
     "metadata": {},
     "outputs": [],
     "prompt_number": 2
    },
    {
     "cell_type": "code",
     "collapsed": false,
     "input": [
      "articlepaths = get_article_paths(testdir)\n",
      "places = get_geoname_dataframe(cities1000)\n",
      "countries = get_countryinfo_dataframe(countryInfo)"
     ],
     "language": "python",
     "metadata": {},
     "outputs": [],
     "prompt_number": 3
    },
    {
     "cell_type": "code",
     "collapsed": false,
     "input": [
      "t1 = datetime.datetime.now()\n",
      "affcounts = get_all_matches(articlepaths, places, countries, 'aff')"
     ],
     "language": "python",
     "metadata": {},
     "outputs": [
      {
       "output_type": "stream",
       "stream": "stdout",
       "text": [
        "Working on article 1 of 50...\n",
        "Matched 2 places in 1 countries."
       ]
      },
      {
       "output_type": "stream",
       "stream": "stdout",
       "text": [
        "\n",
        "Total matches: 2\n",
        "Working on article 2 of 50...\n",
        "Matched 2 places in 2 countries."
       ]
      },
      {
       "output_type": "stream",
       "stream": "stdout",
       "text": [
        "\n",
        "Total matches: 4\n",
        "Working on article 3 of 50...\n",
        "Matched 9 places in 5 countries."
       ]
      },
      {
       "output_type": "stream",
       "stream": "stdout",
       "text": [
        "\n",
        "Total matches: 13\n",
        "Working on article 4 of 50...\n",
        "Matched 5 places in 3 countries."
       ]
      },
      {
       "output_type": "stream",
       "stream": "stdout",
       "text": [
        "\n",
        "Total matches: 18\n",
        "Working on article 5 of 50...\n",
        "Matched 1 places in 1 countries."
       ]
      },
      {
       "output_type": "stream",
       "stream": "stdout",
       "text": [
        "\n",
        "Total matches: 19\n",
        "Working on article 6 of 50...\n",
        "Matched 2 places in 1 countries."
       ]
      },
      {
       "output_type": "stream",
       "stream": "stdout",
       "text": [
        "\n",
        "Total matches: 21\n",
        "Working on article 7 of 50...\n",
        "Matched 0 places in 0 countries."
       ]
      },
      {
       "output_type": "stream",
       "stream": "stdout",
       "text": [
        "\n",
        "Total matches: 21\n",
        "Working on article 8 of 50...\n",
        "Matched 0 places in 0 countries."
       ]
      },
      {
       "output_type": "stream",
       "stream": "stdout",
       "text": [
        "\n",
        "Total matches: 21\n",
        "Working on article 9 of 50...\n",
        "Matched 0 places in 0 countries."
       ]
      },
      {
       "output_type": "stream",
       "stream": "stdout",
       "text": [
        "\n",
        "Total matches: 21\n",
        "Working on article 10 of 50...\n",
        "Matched 0 places in 0 countries."
       ]
      },
      {
       "output_type": "stream",
       "stream": "stdout",
       "text": [
        "\n",
        "Total matches: 21\n",
        "Working on article 11 of 50...\n",
        "Matched 0 places in 0 countries."
       ]
      },
      {
       "output_type": "stream",
       "stream": "stdout",
       "text": [
        "\n",
        "Total matches: 21\n",
        "Working on article 12 of 50...\n",
        "Matched 1 places in 1 countries."
       ]
      },
      {
       "output_type": "stream",
       "stream": "stdout",
       "text": [
        "\n",
        "Total matches: 22\n",
        "Working on article 13 of 50...\n",
        "Matched 1 places in 1 countries."
       ]
      },
      {
       "output_type": "stream",
       "stream": "stdout",
       "text": [
        "\n",
        "Total matches: 23\n",
        "Working on article 14 of 50...\n",
        "Matched 0 places in 2 countries."
       ]
      },
      {
       "output_type": "stream",
       "stream": "stdout",
       "text": [
        "\n",
        "Total matches: 23\n",
        "Working on article 15 of 50...\n",
        "Matched 1 places in 1 countries."
       ]
      },
      {
       "output_type": "stream",
       "stream": "stdout",
       "text": [
        "\n",
        "Total matches: 24\n",
        "Working on article 16 of 50...\n",
        "Matched 1 places in 1 countries."
       ]
      },
      {
       "output_type": "stream",
       "stream": "stdout",
       "text": [
        "\n",
        "Total matches: 25\n",
        "Working on article 17 of 50...\n",
        "Matched 4 places in 1 countries."
       ]
      },
      {
       "output_type": "stream",
       "stream": "stdout",
       "text": [
        "\n",
        "Total matches: 29\n",
        "Working on article 18 of 50...\n",
        "Matched 2 places in 1 countries."
       ]
      },
      {
       "output_type": "stream",
       "stream": "stdout",
       "text": [
        "\n",
        "Total matches: 31\n",
        "Working on article 19 of 50...\n",
        "Matched 2 places in 2 countries."
       ]
      },
      {
       "output_type": "stream",
       "stream": "stdout",
       "text": [
        "\n",
        "Total matches: 33\n",
        "Working on article 20 of 50...\n",
        "Matched 0 places in 0 countries."
       ]
      },
      {
       "output_type": "stream",
       "stream": "stdout",
       "text": [
        "\n",
        "Total matches: 33\n",
        "Working on article 21 of 50...\n",
        "Matched 0 places in 1 countries."
       ]
      },
      {
       "output_type": "stream",
       "stream": "stdout",
       "text": [
        "\n",
        "Total matches: 33\n",
        "Working on article 22 of 50...\n",
        "Matched 2 places in 1 countries."
       ]
      },
      {
       "output_type": "stream",
       "stream": "stdout",
       "text": [
        "\n",
        "Total matches: 35\n",
        "Working on article 23 of 50...\n",
        "Matched 4 places in 1 countries."
       ]
      },
      {
       "output_type": "stream",
       "stream": "stdout",
       "text": [
        "\n",
        "Total matches: 39\n",
        "Working on article 24 of 50...\n",
        "Matched 4 places in 2 countries."
       ]
      },
      {
       "output_type": "stream",
       "stream": "stdout",
       "text": [
        "\n",
        "Total matches: 43\n",
        "Working on article 25 of 50...\n",
        "Matched 8 places in 2 countries."
       ]
      },
      {
       "output_type": "stream",
       "stream": "stdout",
       "text": [
        "\n",
        "Total matches: 51\n",
        "Working on article 26 of 50...\n",
        "Matched 3 places in 2 countries."
       ]
      },
      {
       "output_type": "stream",
       "stream": "stdout",
       "text": [
        "\n",
        "Total matches: 54\n",
        "Working on article 27 of 50...\n",
        "Matched 2 places in 1 countries."
       ]
      },
      {
       "output_type": "stream",
       "stream": "stdout",
       "text": [
        "\n",
        "Total matches: 56\n",
        "Working on article 28 of 50...\n",
        "Matched 0 places in 0 countries."
       ]
      },
      {
       "output_type": "stream",
       "stream": "stdout",
       "text": [
        "\n",
        "Total matches: 56\n",
        "Working on article 29 of 50...\n",
        "Matched 0 places in 0 countries."
       ]
      },
      {
       "output_type": "stream",
       "stream": "stdout",
       "text": [
        "\n",
        "Total matches: 56\n",
        "Working on article 30 of 50...\n",
        "Matched 0 places in 0 countries."
       ]
      },
      {
       "output_type": "stream",
       "stream": "stdout",
       "text": [
        "\n",
        "Total matches: 56\n",
        "Working on article 31 of 50...\n",
        "Matched 0 places in 1 countries."
       ]
      },
      {
       "output_type": "stream",
       "stream": "stdout",
       "text": [
        "\n",
        "Total matches: 56\n",
        "Working on article 32 of 50...\n",
        "Matched 0 places in 1 countries."
       ]
      },
      {
       "output_type": "stream",
       "stream": "stdout",
       "text": [
        "\n",
        "Total matches: 56\n",
        "Working on article 33 of 50...\n",
        "Matched 1 places in 1 countries."
       ]
      },
      {
       "output_type": "stream",
       "stream": "stdout",
       "text": [
        "\n",
        "Total matches: 57\n",
        "Working on article 34 of 50...\n",
        "Matched 0 places in 0 countries.\n",
        "Total matches: 57"
       ]
      },
      {
       "output_type": "stream",
       "stream": "stdout",
       "text": [
        "\n",
        "Working on article 35 of 50...\n",
        "Matched 2 places in 1 countries."
       ]
      },
      {
       "output_type": "stream",
       "stream": "stdout",
       "text": [
        "\n",
        "Total matches: 59\n",
        "Working on article 36 of 50...\n",
        "Matched 4 places in 3 countries."
       ]
      },
      {
       "output_type": "stream",
       "stream": "stdout",
       "text": [
        "\n",
        "Total matches: 63\n",
        "Working on article 37 of 50...\n",
        "Matched 0 places in 0 countries."
       ]
      },
      {
       "output_type": "stream",
       "stream": "stdout",
       "text": [
        "\n",
        "Total matches: 63\n",
        "Working on article 38 of 50...\n",
        "Matched 0 places in 0 countries."
       ]
      },
      {
       "output_type": "stream",
       "stream": "stdout",
       "text": [
        "\n",
        "Total matches: 63\n",
        "Working on article 39 of 50...\n",
        "Matched 1 places in 1 countries."
       ]
      },
      {
       "output_type": "stream",
       "stream": "stdout",
       "text": [
        "\n",
        "Total matches: 64\n",
        "Working on article 40 of 50...\n",
        "Matched 1 places in 2 countries."
       ]
      },
      {
       "output_type": "stream",
       "stream": "stdout",
       "text": [
        "\n",
        "Total matches: 65\n",
        "Working on article 41 of 50...\n",
        "Matched 6 places in 2 countries."
       ]
      },
      {
       "output_type": "stream",
       "stream": "stdout",
       "text": [
        "\n",
        "Total matches: 71\n",
        "Working on article 42 of 50...\n",
        "Matched 1 places in 1 countries."
       ]
      },
      {
       "output_type": "stream",
       "stream": "stdout",
       "text": [
        "\n",
        "Total matches: 72\n",
        "Working on article 43 of 50...\n",
        "Matched 0 places in 0 countries."
       ]
      },
      {
       "output_type": "stream",
       "stream": "stdout",
       "text": [
        "\n",
        "Total matches: 72\n",
        "Working on article 44 of 50...\n",
        "Matched 0 places in 0 countries."
       ]
      },
      {
       "output_type": "stream",
       "stream": "stdout",
       "text": [
        "\n",
        "Total matches: 72\n",
        "Working on article 45 of 50...\n",
        "Matched 1 places in 1 countries."
       ]
      },
      {
       "output_type": "stream",
       "stream": "stdout",
       "text": [
        "\n",
        "Total matches: 73\n",
        "Working on article 46 of 50...\n",
        "Matched 0 places in 0 countries."
       ]
      },
      {
       "output_type": "stream",
       "stream": "stdout",
       "text": [
        "\n",
        "Total matches: 73\n",
        "Working on article 47 of 50...\n",
        "Matched 0 places in 0 countries."
       ]
      },
      {
       "output_type": "stream",
       "stream": "stdout",
       "text": [
        "\n",
        "Total matches: 73\n",
        "Working on article 48 of 50...\n",
        "Matched 3 places in 1 countries."
       ]
      },
      {
       "output_type": "stream",
       "stream": "stdout",
       "text": [
        "\n",
        "Total matches: 76\n",
        "Working on article 49 of 50...\n",
        "Matched 14 places in 1 countries."
       ]
      },
      {
       "output_type": "stream",
       "stream": "stdout",
       "text": [
        "\n",
        "Total matches: 90\n",
        "Working on article 50 of 50...\n",
        "Matched 8 places in 1 countries."
       ]
      },
      {
       "output_type": "stream",
       "stream": "stdout",
       "text": [
        "\n",
        "Total matches: 98\n"
       ]
      }
     ],
     "prompt_number": 4
    },
    {
     "cell_type": "code",
     "collapsed": false,
     "input": [
      "affcounts.to_csv(outdir + 'matched_places_aff.csv', encoding = 'utf-8')\n",
      "t2 = datetime.datetime.now()\n",
      "tdaff = t2 - t1\n",
      "tdaff"
     ],
     "language": "python",
     "metadata": {},
     "outputs": [
      {
       "metadata": {},
       "output_type": "pyout",
       "prompt_number": 5,
       "text": [
        "datetime.timedelta(0, 15, 513734)"
       ]
      }
     ],
     "prompt_number": 5
    },
    {
     "cell_type": "code",
     "collapsed": false,
     "input": [
      "t1 = datetime.datetime.now()\n",
      "pcounts = get_all_matches(articlepaths, places, countries, 'p')"
     ],
     "language": "python",
     "metadata": {},
     "outputs": [
      {
       "output_type": "stream",
       "stream": "stdout",
       "text": [
        "Working on article 1 of 50...\n",
        "Matched 5 places in 2 countries."
       ]
      },
      {
       "output_type": "stream",
       "stream": "stdout",
       "text": [
        "\n",
        "Total matches: 5\n",
        "Working on article 2 of 50...\n",
        "Matched 15 places in 4 countries."
       ]
      },
      {
       "output_type": "stream",
       "stream": "stdout",
       "text": [
        "\n",
        "Total matches: 20\n",
        "Working on article 3 of 50...\n",
        "Matched 14 places in 5 countries."
       ]
      },
      {
       "output_type": "stream",
       "stream": "stdout",
       "text": [
        "\n",
        "Total matches: 34\n",
        "Working on article 4 of 50...\n",
        "Matched 1 places in 1 countries."
       ]
      },
      {
       "output_type": "stream",
       "stream": "stdout",
       "text": [
        "\n",
        "Total matches: 35\n",
        "Working on article 5 of 50...\n",
        "Matched 1 places in 2 countries."
       ]
      },
      {
       "output_type": "stream",
       "stream": "stdout",
       "text": [
        "\n",
        "Total matches: 36\n",
        "Working on article 6 of 50...\n",
        "Matched 0 places in 0 countries."
       ]
      },
      {
       "output_type": "stream",
       "stream": "stdout",
       "text": [
        "\n",
        "Total matches: 36\n",
        "Working on article 7 of 50...\n",
        "Matched 5 places in 3 countries."
       ]
      },
      {
       "output_type": "stream",
       "stream": "stdout",
       "text": [
        "\n",
        "Total matches: 41\n",
        "Working on article 8 of 50...\n",
        "Matched 10 places in 3 countries."
       ]
      },
      {
       "output_type": "stream",
       "stream": "stdout",
       "text": [
        "\n",
        "Total matches: 51\n",
        "Working on article 9 of 50...\n",
        "Matched 25 places in 10 countries."
       ]
      },
      {
       "output_type": "stream",
       "stream": "stdout",
       "text": [
        "\n",
        "Total matches: 76\n",
        "Working on article 10 of 50...\n",
        "Matched 4 places in 1 countries."
       ]
      },
      {
       "output_type": "stream",
       "stream": "stdout",
       "text": [
        "\n",
        "Total matches: 80\n",
        "Working on article 11 of 50...\n",
        "Matched 10 places in 3 countries."
       ]
      },
      {
       "output_type": "stream",
       "stream": "stdout",
       "text": [
        "\n",
        "Total matches: 90\n",
        "Working on article 12 of 50...\n",
        "Matched 7 places in 1 countries."
       ]
      },
      {
       "output_type": "stream",
       "stream": "stdout",
       "text": [
        "\n",
        "Total matches: 97\n",
        "Working on article 13 of 50...\n",
        "Matched 26 places in 2 countries."
       ]
      },
      {
       "output_type": "stream",
       "stream": "stdout",
       "text": [
        "\n",
        "Total matches: 123\n",
        "Working on article 14 of 50...\n",
        "Matched 7 places in 5 countries."
       ]
      },
      {
       "output_type": "stream",
       "stream": "stdout",
       "text": [
        "\n",
        "Total matches: 130\n",
        "Working on article 15 of 50...\n",
        "Matched 11 places in 6 countries."
       ]
      },
      {
       "output_type": "stream",
       "stream": "stdout",
       "text": [
        "\n",
        "Total matches: 141\n",
        "Working on article 16 of 50...\n",
        "Matched 0 places in 1 countries."
       ]
      },
      {
       "output_type": "stream",
       "stream": "stdout",
       "text": [
        "\n",
        "Total matches: 141\n",
        "Working on article 17 of 50...\n",
        "Matched 1 places in 1 countries."
       ]
      },
      {
       "output_type": "stream",
       "stream": "stdout",
       "text": [
        "\n",
        "Total matches: 142\n",
        "Working on article 18 of 50...\n",
        "Matched 2 places in 7 countries."
       ]
      },
      {
       "output_type": "stream",
       "stream": "stdout",
       "text": [
        "\n",
        "Total matches: 144\n",
        "Working on article 19 of 50...\n",
        "Matched 2 places in 1 countries."
       ]
      },
      {
       "output_type": "stream",
       "stream": "stdout",
       "text": [
        "\n",
        "Total matches: 146\n",
        "Working on article 20 of 50...\n",
        "Matched 23 places in 8 countries."
       ]
      },
      {
       "output_type": "stream",
       "stream": "stdout",
       "text": [
        "\n",
        "Total matches: 169\n",
        "Working on article 21 of 50...\n",
        "Matched 1 places in 3 countries."
       ]
      },
      {
       "output_type": "stream",
       "stream": "stdout",
       "text": [
        "\n",
        "Total matches: 170\n",
        "Working on article 22 of 50...\n",
        "Matched 2 places in 2 countries."
       ]
      },
      {
       "output_type": "stream",
       "stream": "stdout",
       "text": [
        "\n",
        "Total matches: 172\n",
        "Working on article 23 of 50...\n",
        "Matched 5 places in 3 countries."
       ]
      },
      {
       "output_type": "stream",
       "stream": "stdout",
       "text": [
        "\n",
        "Total matches: 177\n",
        "Working on article 24 of 50...\n",
        "Matched 10 places in 2 countries."
       ]
      },
      {
       "output_type": "stream",
       "stream": "stdout",
       "text": [
        "\n",
        "Total matches: 187\n",
        "Working on article 25 of 50...\n",
        "Matched 18 places in 3 countries."
       ]
      },
      {
       "output_type": "stream",
       "stream": "stdout",
       "text": [
        "\n",
        "Total matches: 205\n",
        "Working on article 26 of 50...\n",
        "Matched 0 places in 0 countries."
       ]
      },
      {
       "output_type": "stream",
       "stream": "stdout",
       "text": [
        "\n",
        "Total matches: 205\n",
        "Working on article 27 of 50...\n",
        "Matched 0 places in 0 countries."
       ]
      },
      {
       "output_type": "stream",
       "stream": "stdout",
       "text": [
        "\n",
        "Total matches: 205\n",
        "Working on article 28 of 50...\n",
        "Matched 0 places in 0 countries."
       ]
      },
      {
       "output_type": "stream",
       "stream": "stdout",
       "text": [
        "\n",
        "Total matches: 205\n",
        "Working on article 29 of 50...\n",
        "Matched 0 places in 0 countries.\n",
        "Total matches: 205"
       ]
      },
      {
       "output_type": "stream",
       "stream": "stdout",
       "text": [
        "\n",
        "Working on article 30 of 50...\n",
        "Matched 0 places in 0 countries.\n",
        "Total matches: 205\n",
        "Working on article 31 of 50...\n",
        "Matched 0 places in 1 countries."
       ]
      },
      {
       "output_type": "stream",
       "stream": "stdout",
       "text": [
        "\n",
        "Total matches: 205\n",
        "Working on article 32 of 50...\n",
        "Matched 0 places in 0 countries.\n",
        "Total matches: 205"
       ]
      },
      {
       "output_type": "stream",
       "stream": "stdout",
       "text": [
        "\n",
        "Working on article 33 of 50...\n",
        "Matched 0 places in 0 countries.\n",
        "Total matches: 205\n",
        "Working on article 34 of 50...\n",
        "Matched 0 places in 0 countries."
       ]
      },
      {
       "output_type": "stream",
       "stream": "stdout",
       "text": [
        "\n",
        "Total matches: 205\n",
        "Working on article 35 of 50...\n",
        "Matched 2 places in 2 countries."
       ]
      },
      {
       "output_type": "stream",
       "stream": "stdout",
       "text": [
        "\n",
        "Total matches: 207\n",
        "Working on article 36 of 50...\n",
        "Matched 7 places in 5 countries."
       ]
      },
      {
       "output_type": "stream",
       "stream": "stdout",
       "text": [
        "\n",
        "Total matches: 214\n",
        "Working on article 37 of 50...\n",
        "Matched 16 places in 2 countries."
       ]
      },
      {
       "output_type": "stream",
       "stream": "stdout",
       "text": [
        "\n",
        "Total matches: 230\n",
        "Working on article 38 of 50...\n",
        "Matched 38 places in 5 countries."
       ]
      },
      {
       "output_type": "stream",
       "stream": "stdout",
       "text": [
        "\n",
        "Total matches: 268\n",
        "Working on article 39 of 50...\n",
        "Matched 0 places in 2 countries."
       ]
      },
      {
       "output_type": "stream",
       "stream": "stdout",
       "text": [
        "\n",
        "Total matches: 268\n",
        "Working on article 40 of 50...\n",
        "Matched 65 places in 9 countries."
       ]
      },
      {
       "output_type": "stream",
       "stream": "stdout",
       "text": [
        "\n",
        "Total matches: 333\n",
        "Working on article 41 of 50...\n",
        "Matched 3 places in 5 countries."
       ]
      },
      {
       "output_type": "stream",
       "stream": "stdout",
       "text": [
        "\n",
        "Total matches: 336\n",
        "Working on article 42 of 50...\n",
        "Matched 20 places in 6 countries."
       ]
      },
      {
       "output_type": "stream",
       "stream": "stdout",
       "text": [
        "\n",
        "Total matches: 356\n",
        "Working on article 43 of 50...\n",
        "Matched 22 places in 1 countries."
       ]
      },
      {
       "output_type": "stream",
       "stream": "stdout",
       "text": [
        "\n",
        "Total matches: 378\n",
        "Working on article 44 of 50...\n",
        "Matched 22 places in 4 countries."
       ]
      },
      {
       "output_type": "stream",
       "stream": "stdout",
       "text": [
        "\n",
        "Total matches: 400\n",
        "Working on article 45 of 50...\n",
        "Matched 9 places in 3 countries."
       ]
      },
      {
       "output_type": "stream",
       "stream": "stdout",
       "text": [
        "\n",
        "Total matches: 409\n",
        "Working on article 46 of 50...\n",
        "Matched 0 places in 0 countries."
       ]
      },
      {
       "output_type": "stream",
       "stream": "stdout",
       "text": [
        "\n",
        "Total matches: 409\n",
        "Working on article 47 of 50...\n",
        "Matched 0 places in 1 countries."
       ]
      },
      {
       "output_type": "stream",
       "stream": "stdout",
       "text": [
        "\n",
        "Total matches: 409\n",
        "Working on article 48 of 50...\n",
        "Matched 0 places in 0 countries."
       ]
      },
      {
       "output_type": "stream",
       "stream": "stdout",
       "text": [
        "\n",
        "Total matches: 409\n",
        "Working on article 49 of 50...\n",
        "Matched 0 places in 0 countries."
       ]
      },
      {
       "output_type": "stream",
       "stream": "stdout",
       "text": [
        "\n",
        "Total matches: 409\n",
        "Working on article 50 of 50...\n",
        "Matched 11 places in 1 countries."
       ]
      },
      {
       "output_type": "stream",
       "stream": "stdout",
       "text": [
        "\n",
        "Total matches: 420\n"
       ]
      }
     ],
     "prompt_number": 6
    },
    {
     "cell_type": "code",
     "collapsed": false,
     "input": [
      "pcounts.to_csv(outdir + 'matched_places_p.csv', encoding = 'utf-8')\n",
      "t2 = datetime.datetime.now()\n",
      "tdp = t2 - t1\n",
      "tdp"
     ],
     "language": "python",
     "metadata": {},
     "outputs": [
      {
       "metadata": {},
       "output_type": "pyout",
       "prompt_number": 7,
       "text": [
        "datetime.timedelta(0, 39, 637368)"
       ]
      }
     ],
     "prompt_number": 7
    },
    {
     "cell_type": "code",
     "collapsed": false,
     "input": [
      "pcounts"
     ],
     "language": "python",
     "metadata": {},
     "outputs": [
      {
       "html": [
        "<div style=\"max-height:1000px;max-width:1500px;overflow:auto;\">\n",
        "<table border=\"1\" class=\"dataframe\">\n",
        "  <thead>\n",
        "    <tr style=\"text-align: right;\">\n",
        "      <th></th>\n",
        "      <th>doi</th>\n",
        "      <th>journal</th>\n",
        "      <th>pmid</th>\n",
        "      <th>row_index</th>\n",
        "      <th>year</th>\n",
        "    </tr>\n",
        "  </thead>\n",
        "  <tbody>\n",
        "    <tr>\n",
        "      <th>0 </th>\n",
        "      <td> 10.1208/s12248-008-9054-3</td>\n",
        "      <td>                 The AAPS Journal</td>\n",
        "      <td> 18751901</td>\n",
        "      <td>  37254</td>\n",
        "      <td> 2008</td>\n",
        "    </tr>\n",
        "    <tr>\n",
        "      <th>1 </th>\n",
        "      <td> 10.1208/s12248-008-9054-3</td>\n",
        "      <td>                 The AAPS Journal</td>\n",
        "      <td> 18751901</td>\n",
        "      <td>  37255</td>\n",
        "      <td> 2008</td>\n",
        "    </tr>\n",
        "    <tr>\n",
        "      <th>2 </th>\n",
        "      <td> 10.1208/s12248-008-9054-3</td>\n",
        "      <td>                 The AAPS Journal</td>\n",
        "      <td> 18751901</td>\n",
        "      <td>  37256</td>\n",
        "      <td> 2008</td>\n",
        "    </tr>\n",
        "    <tr>\n",
        "      <th>3 </th>\n",
        "      <td> 10.1208/s12248-008-9054-3</td>\n",
        "      <td>                 The AAPS Journal</td>\n",
        "      <td> 18751901</td>\n",
        "      <td>  37257</td>\n",
        "      <td> 2008</td>\n",
        "    </tr>\n",
        "    <tr>\n",
        "      <th>4 </th>\n",
        "      <td> 10.1208/s12248-008-9054-3</td>\n",
        "      <td>                 The AAPS Journal</td>\n",
        "      <td> 18751901</td>\n",
        "      <td>  37258</td>\n",
        "      <td> 2008</td>\n",
        "    </tr>\n",
        "    <tr>\n",
        "      <th>5 </th>\n",
        "      <td> 10.1208/s12248-010-9215-z</td>\n",
        "      <td>                 The AAPS Journal</td>\n",
        "      <td> 20625865</td>\n",
        "      <td>   5091</td>\n",
        "      <td> 2010</td>\n",
        "    </tr>\n",
        "    <tr>\n",
        "      <th>6 </th>\n",
        "      <td> 10.1208/s12248-010-9215-z</td>\n",
        "      <td>                 The AAPS Journal</td>\n",
        "      <td> 20625865</td>\n",
        "      <td>   5608</td>\n",
        "      <td> 2010</td>\n",
        "    </tr>\n",
        "    <tr>\n",
        "      <th>7 </th>\n",
        "      <td> 10.1208/s12248-010-9215-z</td>\n",
        "      <td>                 The AAPS Journal</td>\n",
        "      <td> 20625865</td>\n",
        "      <td>  34544</td>\n",
        "      <td> 2010</td>\n",
        "    </tr>\n",
        "    <tr>\n",
        "      <th>8 </th>\n",
        "      <td> 10.1208/s12248-010-9215-z</td>\n",
        "      <td>                 The AAPS Journal</td>\n",
        "      <td> 20625865</td>\n",
        "      <td>  35130</td>\n",
        "      <td> 2010</td>\n",
        "    </tr>\n",
        "    <tr>\n",
        "      <th>9 </th>\n",
        "      <td> 10.1208/s12248-010-9215-z</td>\n",
        "      <td>                 The AAPS Journal</td>\n",
        "      <td> 20625865</td>\n",
        "      <td>  35932</td>\n",
        "      <td> 2010</td>\n",
        "    </tr>\n",
        "    <tr>\n",
        "      <th>10</th>\n",
        "      <td> 10.1208/s12248-010-9215-z</td>\n",
        "      <td>                 The AAPS Journal</td>\n",
        "      <td> 20625865</td>\n",
        "      <td>  35933</td>\n",
        "      <td> 2010</td>\n",
        "    </tr>\n",
        "    <tr>\n",
        "      <th>11</th>\n",
        "      <td> 10.1208/s12248-010-9215-z</td>\n",
        "      <td>                 The AAPS Journal</td>\n",
        "      <td> 20625865</td>\n",
        "      <td>  37878</td>\n",
        "      <td> 2010</td>\n",
        "    </tr>\n",
        "    <tr>\n",
        "      <th>12</th>\n",
        "      <td> 10.1208/s12248-010-9215-z</td>\n",
        "      <td>                 The AAPS Journal</td>\n",
        "      <td> 20625865</td>\n",
        "      <td>  38112</td>\n",
        "      <td> 2010</td>\n",
        "    </tr>\n",
        "    <tr>\n",
        "      <th>13</th>\n",
        "      <td> 10.1208/s12248-010-9215-z</td>\n",
        "      <td>                 The AAPS Journal</td>\n",
        "      <td> 20625865</td>\n",
        "      <td>  53178</td>\n",
        "      <td> 2010</td>\n",
        "    </tr>\n",
        "    <tr>\n",
        "      <th>14</th>\n",
        "      <td> 10.1208/s12248-010-9215-z</td>\n",
        "      <td>                 The AAPS Journal</td>\n",
        "      <td> 20625865</td>\n",
        "      <td>  53344</td>\n",
        "      <td> 2010</td>\n",
        "    </tr>\n",
        "    <tr>\n",
        "      <th>15</th>\n",
        "      <td> 10.1208/s12248-010-9215-z</td>\n",
        "      <td>                 The AAPS Journal</td>\n",
        "      <td> 20625865</td>\n",
        "      <td>  53706</td>\n",
        "      <td> 2010</td>\n",
        "    </tr>\n",
        "    <tr>\n",
        "      <th>16</th>\n",
        "      <td> 10.1208/s12248-010-9215-z</td>\n",
        "      <td>                 The AAPS Journal</td>\n",
        "      <td> 20625865</td>\n",
        "      <td>  54928</td>\n",
        "      <td> 2010</td>\n",
        "    </tr>\n",
        "    <tr>\n",
        "      <th>17</th>\n",
        "      <td> 10.1208/s12248-010-9215-z</td>\n",
        "      <td>                 The AAPS Journal</td>\n",
        "      <td> 20625865</td>\n",
        "      <td>  91670</td>\n",
        "      <td> 2010</td>\n",
        "    </tr>\n",
        "    <tr>\n",
        "      <th>18</th>\n",
        "      <td> 10.1208/s12248-010-9215-z</td>\n",
        "      <td>                 The AAPS Journal</td>\n",
        "      <td> 20625865</td>\n",
        "      <td>  92300</td>\n",
        "      <td> 2010</td>\n",
        "    </tr>\n",
        "    <tr>\n",
        "      <th>19</th>\n",
        "      <td> 10.1208/s12248-010-9215-z</td>\n",
        "      <td>                 The AAPS Journal</td>\n",
        "      <td> 20625865</td>\n",
        "      <td>  92314</td>\n",
        "      <td> 2010</td>\n",
        "    </tr>\n",
        "    <tr>\n",
        "      <th>20</th>\n",
        "      <td> 10.1208/s12248-012-9440-8</td>\n",
        "      <td>                 The AAPS Journal</td>\n",
        "      <td> 23224752</td>\n",
        "      <td>  39976</td>\n",
        "      <td> 2012</td>\n",
        "    </tr>\n",
        "    <tr>\n",
        "      <th>21</th>\n",
        "      <td> 10.1208/s12248-012-9440-8</td>\n",
        "      <td>                 The AAPS Journal</td>\n",
        "      <td> 23224752</td>\n",
        "      <td>  48039</td>\n",
        "      <td> 2012</td>\n",
        "    </tr>\n",
        "    <tr>\n",
        "      <th>22</th>\n",
        "      <td> 10.1208/s12248-012-9440-8</td>\n",
        "      <td>                 The AAPS Journal</td>\n",
        "      <td> 23224752</td>\n",
        "      <td>  48510</td>\n",
        "      <td> 2012</td>\n",
        "    </tr>\n",
        "    <tr>\n",
        "      <th>23</th>\n",
        "      <td> 10.1208/s12248-012-9440-8</td>\n",
        "      <td>                 The AAPS Journal</td>\n",
        "      <td> 23224752</td>\n",
        "      <td>  53520</td>\n",
        "      <td> 2012</td>\n",
        "    </tr>\n",
        "    <tr>\n",
        "      <th>24</th>\n",
        "      <td> 10.1208/s12248-012-9440-8</td>\n",
        "      <td>                 The AAPS Journal</td>\n",
        "      <td> 23224752</td>\n",
        "      <td>  55106</td>\n",
        "      <td> 2012</td>\n",
        "    </tr>\n",
        "    <tr>\n",
        "      <th>25</th>\n",
        "      <td> 10.1208/s12248-012-9440-8</td>\n",
        "      <td>                 The AAPS Journal</td>\n",
        "      <td> 23224752</td>\n",
        "      <td>  55999</td>\n",
        "      <td> 2012</td>\n",
        "    </tr>\n",
        "    <tr>\n",
        "      <th>26</th>\n",
        "      <td> 10.1208/s12248-012-9440-8</td>\n",
        "      <td>                 The AAPS Journal</td>\n",
        "      <td> 23224752</td>\n",
        "      <td>  71847</td>\n",
        "      <td> 2012</td>\n",
        "    </tr>\n",
        "    <tr>\n",
        "      <th>27</th>\n",
        "      <td> 10.1208/s12248-012-9440-8</td>\n",
        "      <td>                 The AAPS Journal</td>\n",
        "      <td> 23224752</td>\n",
        "      <td>  72979</td>\n",
        "      <td> 2012</td>\n",
        "    </tr>\n",
        "    <tr>\n",
        "      <th>28</th>\n",
        "      <td> 10.1208/s12248-012-9440-8</td>\n",
        "      <td>                 The AAPS Journal</td>\n",
        "      <td> 23224752</td>\n",
        "      <td>  73788</td>\n",
        "      <td> 2012</td>\n",
        "    </tr>\n",
        "    <tr>\n",
        "      <th>29</th>\n",
        "      <td> 10.1208/s12248-012-9440-8</td>\n",
        "      <td>                 The AAPS Journal</td>\n",
        "      <td> 23224752</td>\n",
        "      <td>  92527</td>\n",
        "      <td> 2012</td>\n",
        "    </tr>\n",
        "    <tr>\n",
        "      <th>30</th>\n",
        "      <td> 10.1208/s12248-012-9440-8</td>\n",
        "      <td>                 The AAPS Journal</td>\n",
        "      <td> 23224752</td>\n",
        "      <td>  92528</td>\n",
        "      <td> 2012</td>\n",
        "    </tr>\n",
        "    <tr>\n",
        "      <th>31</th>\n",
        "      <td> 10.1208/s12248-012-9440-8</td>\n",
        "      <td>                 The AAPS Journal</td>\n",
        "      <td> 23224752</td>\n",
        "      <td>  92560</td>\n",
        "      <td> 2012</td>\n",
        "    </tr>\n",
        "    <tr>\n",
        "      <th>32</th>\n",
        "      <td> 10.1208/s12248-012-9440-8</td>\n",
        "      <td>                 The AAPS Journal</td>\n",
        "      <td> 23224752</td>\n",
        "      <td>  92778</td>\n",
        "      <td> 2012</td>\n",
        "    </tr>\n",
        "    <tr>\n",
        "      <th>33</th>\n",
        "      <td> 10.1208/s12248-012-9440-8</td>\n",
        "      <td>                 The AAPS Journal</td>\n",
        "      <td> 23224752</td>\n",
        "      <td>  92795</td>\n",
        "      <td> 2012</td>\n",
        "    </tr>\n",
        "    <tr>\n",
        "      <th>34</th>\n",
        "      <td> 10.1208/s12248-012-9347-4</td>\n",
        "      <td>                 The AAPS Journal</td>\n",
        "      <td> 22566150</td>\n",
        "      <td>  84541</td>\n",
        "      <td> 2012</td>\n",
        "    </tr>\n",
        "    <tr>\n",
        "      <th>35</th>\n",
        "      <td>                       NaN</td>\n",
        "      <td>                     Acta Naturae</td>\n",
        "      <td> 22649597</td>\n",
        "      <td> 110089</td>\n",
        "      <td> 2009</td>\n",
        "    </tr>\n",
        "    <tr>\n",
        "      <th>36</th>\n",
        "      <td>                       NaN</td>\n",
        "      <td>                     Acta Naturae</td>\n",
        "      <td> 22649607</td>\n",
        "      <td>  28872</td>\n",
        "      <td> 2009</td>\n",
        "    </tr>\n",
        "    <tr>\n",
        "      <th>37</th>\n",
        "      <td>                       NaN</td>\n",
        "      <td>                     Acta Naturae</td>\n",
        "      <td> 22649607</td>\n",
        "      <td>  36290</td>\n",
        "      <td> 2009</td>\n",
        "    </tr>\n",
        "    <tr>\n",
        "      <th>38</th>\n",
        "      <td>                       NaN</td>\n",
        "      <td>                     Acta Naturae</td>\n",
        "      <td> 22649607</td>\n",
        "      <td>  36297</td>\n",
        "      <td> 2009</td>\n",
        "    </tr>\n",
        "    <tr>\n",
        "      <th>39</th>\n",
        "      <td>                       NaN</td>\n",
        "      <td>                     Acta Naturae</td>\n",
        "      <td> 22649607</td>\n",
        "      <td>  36298</td>\n",
        "      <td> 2009</td>\n",
        "    </tr>\n",
        "    <tr>\n",
        "      <th>40</th>\n",
        "      <td>                       NaN</td>\n",
        "      <td>                     Acta Naturae</td>\n",
        "      <td> 22649607</td>\n",
        "      <td> 110845</td>\n",
        "      <td> 2009</td>\n",
        "    </tr>\n",
        "    <tr>\n",
        "      <th>41</th>\n",
        "      <td>        10.1093/aje/kwq118</td>\n",
        "      <td> American Journal of Epidemiology</td>\n",
        "      <td> 20562186</td>\n",
        "      <td>  11288</td>\n",
        "      <td> 2010</td>\n",
        "    </tr>\n",
        "    <tr>\n",
        "      <th>42</th>\n",
        "      <td>        10.1093/aje/kwq118</td>\n",
        "      <td> American Journal of Epidemiology</td>\n",
        "      <td> 20562186</td>\n",
        "      <td>  11326</td>\n",
        "      <td> 2010</td>\n",
        "    </tr>\n",
        "    <tr>\n",
        "      <th>43</th>\n",
        "      <td>        10.1093/aje/kwq118</td>\n",
        "      <td> American Journal of Epidemiology</td>\n",
        "      <td> 20562186</td>\n",
        "      <td>  11560</td>\n",
        "      <td> 2010</td>\n",
        "    </tr>\n",
        "    <tr>\n",
        "      <th>44</th>\n",
        "      <td>        10.1093/aje/kwq118</td>\n",
        "      <td> American Journal of Epidemiology</td>\n",
        "      <td> 20562186</td>\n",
        "      <td>  14394</td>\n",
        "      <td> 2010</td>\n",
        "    </tr>\n",
        "    <tr>\n",
        "      <th>45</th>\n",
        "      <td>        10.1093/aje/kwq118</td>\n",
        "      <td> American Journal of Epidemiology</td>\n",
        "      <td> 20562186</td>\n",
        "      <td>  16576</td>\n",
        "      <td> 2010</td>\n",
        "    </tr>\n",
        "    <tr>\n",
        "      <th>46</th>\n",
        "      <td>        10.1093/aje/kwq118</td>\n",
        "      <td> American Journal of Epidemiology</td>\n",
        "      <td> 20562186</td>\n",
        "      <td>  21979</td>\n",
        "      <td> 2010</td>\n",
        "    </tr>\n",
        "    <tr>\n",
        "      <th>47</th>\n",
        "      <td>        10.1093/aje/kwq118</td>\n",
        "      <td> American Journal of Epidemiology</td>\n",
        "      <td> 20562186</td>\n",
        "      <td>  23601</td>\n",
        "      <td> 2010</td>\n",
        "    </tr>\n",
        "    <tr>\n",
        "      <th>48</th>\n",
        "      <td>        10.1093/aje/kwq118</td>\n",
        "      <td> American Journal of Epidemiology</td>\n",
        "      <td> 20562186</td>\n",
        "      <td>  24062</td>\n",
        "      <td> 2010</td>\n",
        "    </tr>\n",
        "    <tr>\n",
        "      <th>49</th>\n",
        "      <td>        10.1093/aje/kwq118</td>\n",
        "      <td> American Journal of Epidemiology</td>\n",
        "      <td> 20562186</td>\n",
        "      <td>  25536</td>\n",
        "      <td> 2010</td>\n",
        "    </tr>\n",
        "    <tr>\n",
        "      <th>50</th>\n",
        "      <td>        10.1093/aje/kwq118</td>\n",
        "      <td> American Journal of Epidemiology</td>\n",
        "      <td> 20562186</td>\n",
        "      <td> 113217</td>\n",
        "      <td> 2010</td>\n",
        "    </tr>\n",
        "    <tr>\n",
        "      <th>51</th>\n",
        "      <td>        10.1093/aje/kwr053</td>\n",
        "      <td> American Journal of Epidemiology</td>\n",
        "      <td> 21622949</td>\n",
        "      <td>  29515</td>\n",
        "      <td> 2011</td>\n",
        "    </tr>\n",
        "    <tr>\n",
        "      <th>52</th>\n",
        "      <td>        10.1093/aje/kwr053</td>\n",
        "      <td> American Journal of Epidemiology</td>\n",
        "      <td> 21622949</td>\n",
        "      <td>  34346</td>\n",
        "      <td> 2011</td>\n",
        "    </tr>\n",
        "    <tr>\n",
        "      <th>53</th>\n",
        "      <td>        10.1093/aje/kwr053</td>\n",
        "      <td> American Journal of Epidemiology</td>\n",
        "      <td> 21622949</td>\n",
        "      <td>  34578</td>\n",
        "      <td> 2011</td>\n",
        "    </tr>\n",
        "    <tr>\n",
        "      <th>54</th>\n",
        "      <td>        10.1093/aje/kwr053</td>\n",
        "      <td> American Journal of Epidemiology</td>\n",
        "      <td> 21622949</td>\n",
        "      <td>  35932</td>\n",
        "      <td> 2011</td>\n",
        "    </tr>\n",
        "    <tr>\n",
        "      <th>55</th>\n",
        "      <td>        10.1093/aje/kwr053</td>\n",
        "      <td> American Journal of Epidemiology</td>\n",
        "      <td> 21622949</td>\n",
        "      <td>  35933</td>\n",
        "      <td> 2011</td>\n",
        "    </tr>\n",
        "    <tr>\n",
        "      <th>56</th>\n",
        "      <td>        10.1093/aje/kwr053</td>\n",
        "      <td> American Journal of Epidemiology</td>\n",
        "      <td> 21622949</td>\n",
        "      <td>  35996</td>\n",
        "      <td> 2011</td>\n",
        "    </tr>\n",
        "    <tr>\n",
        "      <th>57</th>\n",
        "      <td>        10.1093/aje/kwr053</td>\n",
        "      <td> American Journal of Epidemiology</td>\n",
        "      <td> 21622949</td>\n",
        "      <td>  35997</td>\n",
        "      <td> 2011</td>\n",
        "    </tr>\n",
        "    <tr>\n",
        "      <th>58</th>\n",
        "      <td>        10.1093/aje/kwr053</td>\n",
        "      <td> American Journal of Epidemiology</td>\n",
        "      <td> 21622949</td>\n",
        "      <td>  38210</td>\n",
        "      <td> 2011</td>\n",
        "    </tr>\n",
        "    <tr>\n",
        "      <th>59</th>\n",
        "      <td>        10.1093/aje/kwr053</td>\n",
        "      <td> American Journal of Epidemiology</td>\n",
        "      <td> 21622949</td>\n",
        "      <td>  57071</td>\n",
        "      <td> 2011</td>\n",
        "    </tr>\n",
        "    <tr>\n",
        "      <th></th>\n",
        "      <td>...</td>\n",
        "      <td>...</td>\n",
        "      <td>...</td>\n",
        "      <td>...</td>\n",
        "      <td>...</td>\n",
        "    </tr>\n",
        "  </tbody>\n",
        "</table>\n",
        "<p>420 rows \u00d7 5 columns</p>\n",
        "</div>"
       ],
       "metadata": {},
       "output_type": "pyout",
       "prompt_number": 8,
       "text": [
        "                          doi                           journal      pmid  \\\n",
        "0   10.1208/s12248-008-9054-3                  The AAPS Journal  18751901   \n",
        "1   10.1208/s12248-008-9054-3                  The AAPS Journal  18751901   \n",
        "2   10.1208/s12248-008-9054-3                  The AAPS Journal  18751901   \n",
        "3   10.1208/s12248-008-9054-3                  The AAPS Journal  18751901   \n",
        "4   10.1208/s12248-008-9054-3                  The AAPS Journal  18751901   \n",
        "5   10.1208/s12248-010-9215-z                  The AAPS Journal  20625865   \n",
        "6   10.1208/s12248-010-9215-z                  The AAPS Journal  20625865   \n",
        "7   10.1208/s12248-010-9215-z                  The AAPS Journal  20625865   \n",
        "8   10.1208/s12248-010-9215-z                  The AAPS Journal  20625865   \n",
        "9   10.1208/s12248-010-9215-z                  The AAPS Journal  20625865   \n",
        "10  10.1208/s12248-010-9215-z                  The AAPS Journal  20625865   \n",
        "11  10.1208/s12248-010-9215-z                  The AAPS Journal  20625865   \n",
        "12  10.1208/s12248-010-9215-z                  The AAPS Journal  20625865   \n",
        "13  10.1208/s12248-010-9215-z                  The AAPS Journal  20625865   \n",
        "14  10.1208/s12248-010-9215-z                  The AAPS Journal  20625865   \n",
        "15  10.1208/s12248-010-9215-z                  The AAPS Journal  20625865   \n",
        "16  10.1208/s12248-010-9215-z                  The AAPS Journal  20625865   \n",
        "17  10.1208/s12248-010-9215-z                  The AAPS Journal  20625865   \n",
        "18  10.1208/s12248-010-9215-z                  The AAPS Journal  20625865   \n",
        "19  10.1208/s12248-010-9215-z                  The AAPS Journal  20625865   \n",
        "20  10.1208/s12248-012-9440-8                  The AAPS Journal  23224752   \n",
        "21  10.1208/s12248-012-9440-8                  The AAPS Journal  23224752   \n",
        "22  10.1208/s12248-012-9440-8                  The AAPS Journal  23224752   \n",
        "23  10.1208/s12248-012-9440-8                  The AAPS Journal  23224752   \n",
        "24  10.1208/s12248-012-9440-8                  The AAPS Journal  23224752   \n",
        "25  10.1208/s12248-012-9440-8                  The AAPS Journal  23224752   \n",
        "26  10.1208/s12248-012-9440-8                  The AAPS Journal  23224752   \n",
        "27  10.1208/s12248-012-9440-8                  The AAPS Journal  23224752   \n",
        "28  10.1208/s12248-012-9440-8                  The AAPS Journal  23224752   \n",
        "29  10.1208/s12248-012-9440-8                  The AAPS Journal  23224752   \n",
        "30  10.1208/s12248-012-9440-8                  The AAPS Journal  23224752   \n",
        "31  10.1208/s12248-012-9440-8                  The AAPS Journal  23224752   \n",
        "32  10.1208/s12248-012-9440-8                  The AAPS Journal  23224752   \n",
        "33  10.1208/s12248-012-9440-8                  The AAPS Journal  23224752   \n",
        "34  10.1208/s12248-012-9347-4                  The AAPS Journal  22566150   \n",
        "35                        NaN                      Acta Naturae  22649597   \n",
        "36                        NaN                      Acta Naturae  22649607   \n",
        "37                        NaN                      Acta Naturae  22649607   \n",
        "38                        NaN                      Acta Naturae  22649607   \n",
        "39                        NaN                      Acta Naturae  22649607   \n",
        "40                        NaN                      Acta Naturae  22649607   \n",
        "41         10.1093/aje/kwq118  American Journal of Epidemiology  20562186   \n",
        "42         10.1093/aje/kwq118  American Journal of Epidemiology  20562186   \n",
        "43         10.1093/aje/kwq118  American Journal of Epidemiology  20562186   \n",
        "44         10.1093/aje/kwq118  American Journal of Epidemiology  20562186   \n",
        "45         10.1093/aje/kwq118  American Journal of Epidemiology  20562186   \n",
        "46         10.1093/aje/kwq118  American Journal of Epidemiology  20562186   \n",
        "47         10.1093/aje/kwq118  American Journal of Epidemiology  20562186   \n",
        "48         10.1093/aje/kwq118  American Journal of Epidemiology  20562186   \n",
        "49         10.1093/aje/kwq118  American Journal of Epidemiology  20562186   \n",
        "50         10.1093/aje/kwq118  American Journal of Epidemiology  20562186   \n",
        "51         10.1093/aje/kwr053  American Journal of Epidemiology  21622949   \n",
        "52         10.1093/aje/kwr053  American Journal of Epidemiology  21622949   \n",
        "53         10.1093/aje/kwr053  American Journal of Epidemiology  21622949   \n",
        "54         10.1093/aje/kwr053  American Journal of Epidemiology  21622949   \n",
        "55         10.1093/aje/kwr053  American Journal of Epidemiology  21622949   \n",
        "56         10.1093/aje/kwr053  American Journal of Epidemiology  21622949   \n",
        "57         10.1093/aje/kwr053  American Journal of Epidemiology  21622949   \n",
        "58         10.1093/aje/kwr053  American Journal of Epidemiology  21622949   \n",
        "59         10.1093/aje/kwr053  American Journal of Epidemiology  21622949   \n",
        "                          ...                               ...       ...   \n",
        "\n",
        "    row_index  year  \n",
        "0       37254  2008  \n",
        "1       37255  2008  \n",
        "2       37256  2008  \n",
        "3       37257  2008  \n",
        "4       37258  2008  \n",
        "5        5091  2010  \n",
        "6        5608  2010  \n",
        "7       34544  2010  \n",
        "8       35130  2010  \n",
        "9       35932  2010  \n",
        "10      35933  2010  \n",
        "11      37878  2010  \n",
        "12      38112  2010  \n",
        "13      53178  2010  \n",
        "14      53344  2010  \n",
        "15      53706  2010  \n",
        "16      54928  2010  \n",
        "17      91670  2010  \n",
        "18      92300  2010  \n",
        "19      92314  2010  \n",
        "20      39976  2012  \n",
        "21      48039  2012  \n",
        "22      48510  2012  \n",
        "23      53520  2012  \n",
        "24      55106  2012  \n",
        "25      55999  2012  \n",
        "26      71847  2012  \n",
        "27      72979  2012  \n",
        "28      73788  2012  \n",
        "29      92527  2012  \n",
        "30      92528  2012  \n",
        "31      92560  2012  \n",
        "32      92778  2012  \n",
        "33      92795  2012  \n",
        "34      84541  2012  \n",
        "35     110089  2009  \n",
        "36      28872  2009  \n",
        "37      36290  2009  \n",
        "38      36297  2009  \n",
        "39      36298  2009  \n",
        "40     110845  2009  \n",
        "41      11288  2010  \n",
        "42      11326  2010  \n",
        "43      11560  2010  \n",
        "44      14394  2010  \n",
        "45      16576  2010  \n",
        "46      21979  2010  \n",
        "47      23601  2010  \n",
        "48      24062  2010  \n",
        "49      25536  2010  \n",
        "50     113217  2010  \n",
        "51      29515  2011  \n",
        "52      34346  2011  \n",
        "53      34578  2011  \n",
        "54      35932  2011  \n",
        "55      35933  2011  \n",
        "56      35996  2011  \n",
        "57      35997  2011  \n",
        "58      38210  2011  \n",
        "59      57071  2011  \n",
        "          ...   ...  \n",
        "\n",
        "[420 rows x 5 columns]"
       ]
      }
     ],
     "prompt_number": 8
    },
    {
     "cell_type": "code",
     "collapsed": false,
     "input": [],
     "language": "python",
     "metadata": {},
     "outputs": [],
     "prompt_number": 8
    }
   ],
   "metadata": {}
  }
 ]
}