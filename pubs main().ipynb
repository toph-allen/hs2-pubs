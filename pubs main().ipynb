{
 "metadata": {
  "name": ""
 },
 "nbformat": 3,
 "nbformat_minor": 0,
 "worksheets": [
  {
   "cells": [
    {
     "cell_type": "code",
     "collapsed": false,
     "input": [
      "from pubs import *"
     ],
     "language": "python",
     "metadata": {},
     "outputs": [],
     "prompt_number": 2
    },
    {
     "cell_type": "code",
     "collapsed": false,
     "input": [
      "from math import ceil\n",
      "import gc\n",
      "import datetime\n",
      "\n",
      "# Set up our paths and stuff.\n",
      "articlepaths = get_article_paths(testdir)\n",
      "places = get_geoname_dataframe('cities1000.txt')\n",
      "countries = get_countryinfo_dataframe('countryInfo.txt')\n",
      "tag = 'p'\n",
      "\n",
      "# Prepare to iterate\n",
      "chunk_size = 10000\n",
      "chunks = chunker(articlepaths, chunk_size)\n",
      "numchunks = ceil(len(articlepaths)/chunk_size)\n",
      "\n",
      "print('About to start matching places from {} articles in chunks of {}.\\n'\n",
      "      'That\\'s {} chunks.'.format(len(articlepaths), chunk_size, numchunks))\n",
      "\n",
      "allmatches = matchbox(articlepaths)\n",
      "\n",
      "t1 = t1 = datetime.datetime.now()\n",
      "\n",
      "for chunk in chunks:\n",
      "\n",
      "    args = zip(chunk, repeat(places), repeat(countries),\n",
      "                  repeat(tag))\n",
      "\n",
      "    # Create queues\n",
      "    paths_queue = Queue()\n",
      "    matches_queue = Queue()\n",
      "\n",
      "    num_tasks = 0\n",
      "\n",
      "    # Submit tasks\n",
      "    for arg in args:\n",
      "        if arg[0] != 'STOP':\n",
      "            paths_queue.put(arg)\n",
      "            num_tasks += 1\n",
      "\n",
      "    # Start worker processes\n",
      "    workers = 8\n",
      "    for i in range(workers):\n",
      "        Process(target=match_places_in_article,\n",
      "                args=(paths_queue, matches_queue)).start()\n",
      "\n",
      "    # Process results\n",
      "    for i in range(num_tasks):\n",
      "        allmatches.update(matches_queue.get())\n",
      "\n",
      "    for i in range(workers):\n",
      "        paths_queue.put('STOP')\n",
      "\n",
      "    allmatches.empty_into_csv()\n",
      "t2 = datetime.datetime.now()\n",
      "print(t2 - t1)"
     ],
     "language": "python",
     "metadata": {},
     "outputs": [
      {
       "output_type": "stream",
       "stream": "stdout",
       "text": [
        "About to start matching places from 50 articles in chunks of 10000.\n",
        "That's 1 chunks.\n"
       ]
      },
      {
       "output_type": "stream",
       "stream": "stdout",
       "text": [
        "Matched 5 places in article 1 of 50 (2.00% complete). Total: 5.\n",
        "Matched 1 places in article 2 of 50 (4.00% complete). Total: 6."
       ]
      },
      {
       "output_type": "stream",
       "stream": "stdout",
       "text": [
        "\n",
        "Matched 14 places in article 3 of 50 (6.00% complete). Total: 20."
       ]
      },
      {
       "output_type": "stream",
       "stream": "stdout",
       "text": [
        "\n",
        "Matched 0 places in article 4 of 50 (8.00% complete). Total: 20.\n",
        "Matched 15 places in article 5 of 50 (10.00% complete). Total: 35.\n",
        "Matched 1 places in article 6 of 50 (12.00% complete). Total: 36."
       ]
      },
      {
       "output_type": "stream",
       "stream": "stdout",
       "text": [
        "\n",
        "Matched 5 places in article 7 of 50 (14.00% complete). Total: 41."
       ]
      },
      {
       "output_type": "stream",
       "stream": "stdout",
       "text": [
        "\n",
        "Matched 4 places in article 8 of 50 (16.00% complete). Total: 45."
       ]
      },
      {
       "output_type": "stream",
       "stream": "stdout",
       "text": [
        "\n",
        "Matched 10 places in article 9 of 50 (18.00% complete). Total: 55."
       ]
      },
      {
       "output_type": "stream",
       "stream": "stdout",
       "text": [
        "\n",
        "Matched 7 places in article 10 of 50 (20.00% complete). Total: 62."
       ]
      },
      {
       "output_type": "stream",
       "stream": "stdout",
       "text": [
        "\n",
        "Matched 25 places in article 11 of 50 (22.00% complete). Total: 87."
       ]
      },
      {
       "output_type": "stream",
       "stream": "stdout",
       "text": [
        "\n",
        "Matched 10 places in article 12 of 50 (24.00% complete). Total: 97."
       ]
      },
      {
       "output_type": "stream",
       "stream": "stdout",
       "text": [
        "\n",
        "Matched 0 places in article 13 of 50 (26.00% complete). Total: 97."
       ]
      },
      {
       "output_type": "stream",
       "stream": "stdout",
       "text": [
        "\n",
        "Matched 26 places in article 14 of 50 (28.00% complete). Total: 123.\n",
        "Matched 11 places in article 15 of 50 (30.00% complete). Total: 134."
       ]
      },
      {
       "output_type": "stream",
       "stream": "stdout",
       "text": [
        "\n",
        "Matched 7 places in article 16 of 50 (32.00% complete). Total: 141."
       ]
      },
      {
       "output_type": "stream",
       "stream": "stdout",
       "text": [
        "\n",
        "Matched 1 places in article 17 of 50 (34.00% complete). Total: 142.\n",
        "Matched 2 places in article 18 of 50 (36.00% complete). Total: 144."
       ]
      },
      {
       "output_type": "stream",
       "stream": "stdout",
       "text": [
        "\n",
        "Matched 2 places in article 19 of 50 (38.00% complete). Total: 146.\n",
        "Matched 1 places in article 20 of 50 (40.00% complete). Total: 147."
       ]
      },
      {
       "output_type": "stream",
       "stream": "stdout",
       "text": [
        "\n",
        "Matched 5 places in article 21 of 50 (42.00% complete). Total: 152."
       ]
      },
      {
       "output_type": "stream",
       "stream": "stdout",
       "text": [
        "\n",
        "Matched 23 places in article 22 of 50 (44.00% complete). Total: 175.\n",
        "Matched 2 places in article 23 of 50 (46.00% complete). Total: 177.\n",
        "Matched 10 places in article 24 of 50 (48.00% complete). Total: 187."
       ]
      },
      {
       "output_type": "stream",
       "stream": "stdout",
       "text": [
        "\n",
        "Matched 0 places in article 25 of 50 (50.00% complete). Total: 187.\n",
        "Matched 0 places in article 26 of 50 (52.00% complete). Total: 187."
       ]
      },
      {
       "output_type": "stream",
       "stream": "stdout",
       "text": [
        "\n",
        "Matched 0 places in article 27 of 50 (54.00% complete). Total: 187."
       ]
      },
      {
       "output_type": "stream",
       "stream": "stdout",
       "text": [
        "\n",
        "Matched 18 places in article 28 of 50 (56.00% complete). Total: 205."
       ]
      },
      {
       "output_type": "stream",
       "stream": "stdout",
       "text": [
        "\n",
        "Matched 0 places in article 29 of 50 (58.00% complete). Total: 205.\n",
        "Matched 0 places in article 30 of 50 (60.00% complete). Total: 205."
       ]
      },
      {
       "output_type": "stream",
       "stream": "stdout",
       "text": [
        "\n",
        "Matched 0 places in article 31 of 50 (62.00% complete). Total: 205."
       ]
      },
      {
       "output_type": "stream",
       "stream": "stdout",
       "text": [
        "\n",
        "Matched 0 places in article 32 of 50 (64.00% complete). Total: 205."
       ]
      },
      {
       "output_type": "stream",
       "stream": "stdout",
       "text": [
        "\n",
        "Matched 0 places in article 33 of 50 (66.00% complete). Total: 205.\n",
        "Matched 0 places in article 34 of 50 (68.00% complete). Total: 205."
       ]
      },
      {
       "output_type": "stream",
       "stream": "stdout",
       "text": [
        "\n",
        "Matched 2 places in article 35 of 50 (70.00% complete). Total: 207."
       ]
      },
      {
       "output_type": "stream",
       "stream": "stdout",
       "text": [
        "\n",
        "Matched 7 places in article 36 of 50 (72.00% complete). Total: 214."
       ]
      },
      {
       "output_type": "stream",
       "stream": "stdout",
       "text": [
        "\n",
        "Matched 16 places in article 37 of 50 (74.00% complete). Total: 230."
       ]
      },
      {
       "output_type": "stream",
       "stream": "stdout",
       "text": [
        "\n",
        "Matched 0 places in article 38 of 50 (76.00% complete). Total: 230.\n",
        "Matched 38 places in article 39 of 50 (78.00% complete). Total: 268."
       ]
      },
      {
       "output_type": "stream",
       "stream": "stdout",
       "text": [
        "\n",
        "Matched 3 places in article 40 of 50 (80.00% complete). Total: 271."
       ]
      },
      {
       "output_type": "stream",
       "stream": "stdout",
       "text": [
        "\n",
        "Matched 65 places in article 41 of 50 (82.00% complete). Total: 336."
       ]
      },
      {
       "output_type": "stream",
       "stream": "stdout",
       "text": [
        "\n",
        "Matched 22 places in article 42 of 50 (84.00% complete). Total: 358."
       ]
      },
      {
       "output_type": "stream",
       "stream": "stdout",
       "text": [
        "\n",
        "Matched 0 places in article 43 of 50 (86.00% complete). Total: 358.\n",
        "Matched 0 places in article 44 of 50 (88.00% complete). Total: 358."
       ]
      },
      {
       "output_type": "stream",
       "stream": "stdout",
       "text": [
        "\n",
        "Matched 0 places in article 45 of 50 (90.00% complete). Total: 358."
       ]
      },
      {
       "output_type": "stream",
       "stream": "stdout",
       "text": [
        "\n",
        "Matched 22 places in article 46 of 50 (92.00% complete). Total: 380.\n",
        "Matched 9 places in article 47 of 50 (94.00% complete). Total: 389."
       ]
      },
      {
       "output_type": "stream",
       "stream": "stdout",
       "text": [
        "\n",
        "Matched 0 places in article 48 of 50 (96.00% complete). Total: 389."
       ]
      },
      {
       "output_type": "stream",
       "stream": "stdout",
       "text": [
        "\n",
        "Matched 20 places in article 49 of 50 (98.00% complete). Total: 409."
       ]
      },
      {
       "output_type": "stream",
       "stream": "stdout",
       "text": [
        "\n",
        "Matched 11 places in article 50 of 50 (100.00% complete). Total: 420."
       ]
      },
      {
       "output_type": "stream",
       "stream": "stdout",
       "text": [
        "\n",
        "Wrote matches from chunk 1 to out/2014-02-14_13-27-16_matches_1.csv.\n",
        "0:00:38.598305\n"
       ]
      }
     ],
     "prompt_number": 4
    },
    {
     "cell_type": "code",
     "collapsed": false,
     "input": [],
     "language": "python",
     "metadata": {},
     "outputs": []
    }
   ],
   "metadata": {}
  }
 ]
}