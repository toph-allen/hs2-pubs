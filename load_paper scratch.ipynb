{
 "metadata": {
  "name": ""
 },
 "nbformat": 3,
 "nbformat_minor": 0,
 "worksheets": [
  {
   "cells": [
    {
     "cell_type": "markdown",
     "metadata": {},
     "source": [
      "# Loading and parsing papers"
     ]
    },
    {
     "cell_type": "code",
     "collapsed": false,
     "input": [
      "import pubs\n",
      "reload(pubs)\n",
      "from pubs import *"
     ],
     "language": "python",
     "metadata": {},
     "outputs": [],
     "prompt_number": 1
    },
    {
     "cell_type": "code",
     "collapsed": false,
     "input": [
      "articles = get_article_paths(testdir)\n",
      "cities = get_geoname_dataframe(cities1000)\n",
      "articles"
     ],
     "language": "python",
     "metadata": {},
     "outputs": [
      {
       "metadata": {},
       "output_type": "pyout",
       "prompt_number": 2,
       "text": [
        "['data/testarticles/Adv_Virol/Adv_Virol_2010_Sep_21_2010_649315.nxml',\n",
        " 'data/testarticles/Adv_Virol/Adv_Virol_2011_Jul_31_2011_609465.nxml',\n",
        " 'data/testarticles/BMJ/BMJ_2008_Dec_4_337_a2533.nxml',\n",
        " 'data/testarticles/BMJ/BMJ_2008_Dec_8_337_a2396.nxml',\n",
        " 'data/testarticles/Ecotoxicology/Ecotoxicology_2012_May_16_21(4)_933-972.nxml',\n",
        " 'data/testarticles/Ecotoxicology/Ecotoxicology_2012_May_5_21(4)_1084-1093.nxml',\n",
        " 'data/testarticles/Emerg_Infect_Dis/Emerg_Infect_Dis_1995_Apr-Jun_1(2)_64-65.nxml',\n",
        " 'data/testarticles/Emerg_Infect_Dis/Emerg_Infect_Dis_1995_Jan-Mar_1(1)_31-33.nxml',\n",
        " 'data/testarticles/Glob_Adv_Health_Med/Glob_Adv_Health_Med_2012_Mar_1_1(1)_102-121.nxml',\n",
        " 'data/testarticles/Glob_Adv_Health_Med/Glob_Adv_Health_Med_2012_Mar_1_1(1)_36-50.nxml']"
       ]
      }
     ],
     "prompt_number": 2
    },
    {
     "cell_type": "code",
     "collapsed": false,
     "input": [
      "papersoup = BeautifulSoup(open(articles[9], 'r'), 'lxml')"
     ],
     "language": "python",
     "metadata": {},
     "outputs": [],
     "prompt_number": 3
    },
    {
     "cell_type": "markdown",
     "metadata": {},
     "source": [
      "## Front Matter\n",
      "\n",
      "The front matter, within in the `front` tag, contains two elements: `journal-meta` and `article-meta`."
     ]
    },
    {
     "cell_type": "code",
     "collapsed": false,
     "input": [
      "len(papersoup.front.contents)"
     ],
     "language": "python",
     "metadata": {},
     "outputs": [
      {
       "metadata": {},
       "output_type": "pyout",
       "prompt_number": 4,
       "text": [
        "2"
       ]
      }
     ],
     "prompt_number": 4
    },
    {
     "cell_type": "code",
     "collapsed": false,
     "input": [
      "print papersoup.front.contents[0].prettify()"
     ],
     "language": "python",
     "metadata": {},
     "outputs": [
      {
       "output_type": "stream",
       "stream": "stdout",
       "text": [
        "<journal-meta>\n",
        " <journal-id journal-id-type=\"nlm-ta\">\n",
        "  Glob Adv Health Med\n",
        " </journal-id>\n",
        " <journal-id journal-id-type=\"iso-abbrev\">\n",
        "  Glob Adv Health Med\n",
        " </journal-id>\n",
        " <journal-id journal-id-type=\"publisher-id\">\n",
        "  gahmj\n",
        " </journal-id>\n",
        " <journal-title-group>\n",
        "  <journal-title>\n",
        "   Global Advances in Health and Medicine\n",
        "  </journal-title>\n",
        " </journal-title-group>\n",
        " <issn pub-type=\"ppub\">\n",
        "  2164-957X\n",
        " </issn>\n",
        " <issn pub-type=\"epub\">\n",
        "  2164-9561\n",
        " </issn>\n",
        " <publisher>\n",
        "  <publisher-name>\n",
        "   Global Advances in Health and Medicine\n",
        "  </publisher-name>\n",
        " </publisher>\n",
        "</journal-meta>\n",
        "\n"
       ]
      }
     ],
     "prompt_number": 5
    },
    {
     "cell_type": "markdown",
     "metadata": {},
     "source": [
      "We can use this to filter for particular papers if we want. Not sure really what else here would be useful."
     ]
    },
    {
     "cell_type": "code",
     "collapsed": false,
     "input": [
      "print papersoup.front.contents[1].prettify()"
     ],
     "language": "python",
     "metadata": {},
     "outputs": [
      {
       "output_type": "stream",
       "stream": "stdout",
       "text": [
        "<article-meta>\n",
        " <article-id pub-id-type=\"pmid\">\n",
        "  24278801\n",
        " </article-id>\n",
        " <article-id pub-id-type=\"pmc\">\n",
        "  3833477\n",
        " </article-id>\n",
        " <article-id pub-id-type=\"publisher-id\">\n",
        "  gahmj.2012.1.1.010\n",
        " </article-id>\n",
        " <article-id pub-id-type=\"doi\">\n",
        "  10.7453/gahmj.2012.1.1.010\n",
        " </article-id>\n",
        " <article-categories>\n",
        "  <subj-group subj-group-type=\"heading\">\n",
        "   <subject>\n",
        "    Original Research\n",
        "   </subject>\n",
        "  </subj-group>\n",
        " </article-categories>\n",
        " <title-group>\n",
        "  <article-title>\n",
        "   Efficacy of an Emotion Self-regulation Program for Promoting Development in Preschool Children\n",
        "  </article-title>\n",
        " </title-group>\n",
        " <contrib-group>\n",
        "  <contrib contrib-type=\"author\">\n",
        "   <name>\n",
        "    <surname>\n",
        "     Bradley\n",
        "    </surname>\n",
        "    <given-names>\n",
        "     Raymond Trevor\n",
        "    </given-names>\n",
        "   </name>\n",
        "   <degrees>\n",
        "    PhD\n",
        "   </degrees>\n",
        "   <aff>\n",
        "    Raymond Trevor Bradley, PhD, is director of the Institute for Whole Social Science, Capitola, California.\n",
        "   </aff>\n",
        "  </contrib>\n",
        "  <contrib contrib-type=\"author\">\n",
        "   <name>\n",
        "    <surname>\n",
        "     Galvin\n",
        "    </surname>\n",
        "    <given-names>\n",
        "     Patrick\n",
        "    </given-names>\n",
        "   </name>\n",
        "   <degrees>\n",
        "    PhD\n",
        "   </degrees>\n",
        "   <aff>\n",
        "    Patrick Galvin, PhD, is a research consultant and former director of research and evaluation, Salt Lake City School District, Salt Lake City, Utah.\n",
        "   </aff>\n",
        "  </contrib>\n",
        "  <contrib contrib-type=\"author\" corresp=\"yes\">\n",
        "   <name>\n",
        "    <surname>\n",
        "     Atkinson\n",
        "    </surname>\n",
        "    <given-names>\n",
        "     Mike\n",
        "    </given-names>\n",
        "   </name>\n",
        "   <aff>\n",
        "    Mike Atkinson is laboratory manager at the Institute of HeartMath, Boulder Creek, California.\n",
        "   </aff>\n",
        "  </contrib>\n",
        "  <contrib contrib-type=\"author\">\n",
        "   <name>\n",
        "    <surname>\n",
        "     Tomasino\n",
        "    </surname>\n",
        "    <given-names>\n",
        "     Dana\n",
        "    </given-names>\n",
        "   </name>\n",
        "   <aff>\n",
        "    Dana Tomasino is a research assistant at the Institute for Whole Social Science.\n",
        "   </aff>\n",
        "  </contrib>\n",
        " </contrib-group>\n",
        " <author-notes>\n",
        "  <corresp>\n",
        "   <email>\n",
        "    mike@heartmath.org\n",
        "   </email>\n",
        "  </corresp>\n",
        " </author-notes>\n",
        " <pub-date pub-type=\"ppub\">\n",
        "  <month>\n",
        "   3\n",
        "  </month>\n",
        "  <year>\n",
        "   2012\n",
        "  </year>\n",
        " </pub-date>\n",
        " <pub-date pub-type=\"epub\">\n",
        "  <day>\n",
        "   01\n",
        "  </day>\n",
        "  <month>\n",
        "   3\n",
        "  </month>\n",
        "  <year>\n",
        "   2012\n",
        "  </year>\n",
        " </pub-date>\n",
        " <volume>\n",
        "  1\n",
        " </volume>\n",
        " <issue>\n",
        "  1\n",
        " </issue>\n",
        " <fpage>\n",
        "  36\n",
        " </fpage>\n",
        " <lpage>\n",
        "  50\n",
        " </lpage>\n",
        " <permissions>\n",
        "  <copyright-statement>\n",
        "   \u00a9 2012 GAHM LLC.\n",
        "  </copyright-statement>\n",
        "  <copyright-year>\n",
        "   2012\n",
        "  </copyright-year>\n",
        " </permissions>\n",
        " <self-uri xlink:href=\"gahmj.2012.1.1.010.pdf\" xlink:title=\"pdf\" xlink:type=\"simple\">\n",
        " </self-uri>\n",
        " <abstract>\n",
        "  <title>\n",
        "   ABSTRACT\n",
        "  </title>\n",
        "  <p>\n",
        "   This work reports the results of an evaluation study to assess the efficacy of the Early HeartSmarts (EHS) program in schools of the Salt Lake City, Utah, School District. The EHS program is designed to guide teachers with methods that support young children (3\u20136 y old) in learning emotion self-regulation and key age-appropriate socioemotional competencies with the goal of facilitating their emotional, social, and cognitive development. The study was conducted over one school year using a quasiexperimental longitudinal field research design with 3 measurement points (baseline, preintervention, and postintervention) using The Creative Curriculum Assessment (TCCA), a teacher-scored, 50-item instrument measuring students growth in 4 areas of development: social/emotional, physical, cognitive, and language development. Children in 19 preschool classrooms in the Salt Lake City School District were divided into intervention and control group samples (n = 66 and n = 309, respectively; mean age = 3.6 y). The intervention classes were specifically selected to target children of lower socioeconomic and ethnic minority backgrounds. Overall, there is compelling evidence of the efficacy of the EHS program in increasing total psychosocial development and each of the 4 development areas measured by the TCCA: the results of a series of analyses of covariance found a strong, consistent pattern of large, significant differences on the development measures favoring preschool children who received the EHS program over those in the control group.\n",
        "  </p>\n",
        " </abstract>\n",
        " <trans-abstract xml:lang=\"zh\">\n",
        "  <title>\n",
        "   \u6458\u8981\n",
        "  </title>\n",
        "  <p>\n",
        "   \u7814\u7a76\u4eba\u5458\u5728\u72b9\u4ed6\u5dde\u76d0\u6e56\u57ce\u5b66\u533a\u8fdb\r\n",
        "\u884c\u4e86\u4e00\u9879\u540d\u4e3aEarly HeartSmarts\r\n",
        "\uff08EHS\uff09\u7684\u9879\u76ee\uff0c\u672c\u6587\u5bf9\u8be5\u9879\u76ee\u6709\r\n",
        "\u6548\u6027\u8bc4\u4f30\u7814\u7a76\u7684\u7ed3\u679c\u8fdb\u884c\u4e86\u62a5\r\n",
        "\u544a\u3002EHS\u9879\u76ee\u7684\u76ee\u7684\u662f\u5bf9\u6559\u5e08\u8fdb\u884c\r\n",
        "\u65b9\u6cd5\u6307\u5bfc\uff0c\u5e2e\u52a9\u5e7c\u513f\uff083~6\u5c81\uff09\u5b66\r\n",
        "\u4e60\u81ea\u6211\u8c03\u8282\u60c5\u7eea\u4ee5\u53ca\u5173\u952e\u7684\u4e0e\u5e74\r\n",
        "\u9f84\u76f8\u9002\u5e94\u7684\u793e\u4f1a\u60c5\u7eea\u80fd\u529b\uff0c\u5176\u76ee\r\n",
        "\u7684\u662f\u4fc3\u8fdb\u5e7c\u513f\u60c5\u611f\u3001\u793e\u4ea4\u80fd\u529b\u548c\r\n",
        "\u8ba4\u8bc6\u80fd\u529b\u7684\u53d1\u5c55\u3002\u8be5\u7814\u7a76\u91c7\u7528\u534a\r\n",
        "\u9a8c\u8bc1\u7eb5\u5411\u7814\u7a76\u8bbe\u8ba1\uff0c\u5728\u4e00\u5b66\u5e74\u5185\r\n",
        "\u5b9e\u65bd\uff0c\u5e76\u8bbe\u7f6e\u4e86\u4e09\u4e2a\u6d4b\u91cf\u70b9\uff08\u57fa\r\n",
        "\u7ebf\uff0c\u5e72\u9884\u524d\u548c\u5e72\u9884\u540e\uff09\uff0c\u4f7f\u7528\u521b\r\n",
        "\u9020\u6027\u8bfe\u7a0b\u8bc4\u4f30\uff08TCCA\uff09\u2014\u2014\u6559\u5e08\r\n",
        "\u8ba1\u5206\uff0c\u5305\u542b50\u9053\u9898\u7684\u6d4b\u91cf\u5de5\u5177\uff0c\r\n",
        "\u5bf9\u5b66\u751f\u53d1\u5c55\u76844\u4e2a\u65b9\u9762\u8fdb\u884c\u6d4b\u91cf\uff1a\r\n",
        "\u793e\u4ea4/\u60c5\u611f\uff0c\u8eab\u4f53\u72b6\u51b5\uff0c\u8ba4\u77e5\u80fd\u529b\r\n",
        "\u4ee5\u53ca\u8bed\u8a00\u80fd\u529b\u5f00\u53d1\u3002\u7814\u7a76\u4eba\u5458\u5c06\r\n",
        "\u76d0\u6e56\u57ce\u5b66\u533a19\u4e2a\u5b66\u524d\u73ed\u6559\u5ba4\u7684\u513f\r\n",
        "\u7ae5\u5212\u5206\u4e3a\u5e72\u9884\u7ec4\u548c\u5bf9\u7167\u7ec4\u6837\u672c\uff08\r\n",
        "\u5206\u522bn=66\u548cn=309\uff1b\u5e73\u5747\u5e74\u9f84=3.6\r\n",
        "\u5c81\uff09\u3002\u672c\u7814\u7a76\u7279\u522b\u9009\u62e9\u9488\u5bf9\u5177\u6709\r\n",
        "\u8f83\u4f4e\u7684\u793e\u4f1a\u7ecf\u6d4e\u5730\u4f4d\u548c\u5c11\u6570\u6c11\u65cf\r\n",
        "\u80cc\u666f\u7684\u513f\u7ae5\u8fdb\u884c\u5e72\u9884\u3002\u4ece\u6574\u4f53\u4e0a\r\n",
        "\u6765\u8bf4\uff0c \u6709\u663e\u8457\u7684\u8bc1\u636e\u80fd\u591f\u8bc1\r\n",
        "\u660e\uff0cEHS\u9879\u76ee\u5728\u4fc3\u8fdb\u513f\u7ae5\u7684\u6574\u4f53\u793e\r\n",
        "\u4f1a\u5fc3\u7406\u53d1\u5c55\u548cTCCA\u6d4b\u91cf\u76844\u4e2a\u5f00\u53d1\r\n",
        "\u9886\u57df\u65b9\u9762\u5177\u6709\u6709\u6548\u6027\uff1a\u5bf9\u4e24\u4e2a\u7ec4\r\n",
        "\u4e4b\u95f4\u7684\u5dee\u5f02\u8fdb\u884c\u7684\u4e00\u7cfb\u5217\u5206\u6790\u7ed3\r\n",
        "\u679c\u53d1\u73b0\uff0c\u63a5\u53d7EHS\u9879\u76ee\u7684\u5b66\u524d\u513f\u7ae5\r\n",
        "\u7ec4\u4e0e\u5bf9\u7167\u7ec4\u76f8\u6bd4\uff0c\u5728\u5404\u9879\u80fd\u529b\u5f00\r\n",
        "\u53d1\u7684\u6d4b\u91cf\u6307\u6807\u4e0a\u5177\u6709\u663e\u8457\u4f18\u52bf\u3002\n",
        "  </p>\n",
        " </trans-abstract>\n",
        " <trans-abstract xml:lang=\"es\">\n",
        "  <title>\n",
        "   RESUMEN\n",
        "  </title>\n",
        "  <p>\n",
        "   Este trabajo informa los resultados de un estudio de evaluaci\u00f3n de la eficacia del programa Early Heartsmarts (EHS) en las escuelas del Distrito Escolar de Salt Lake City, Utah. El programa EHS est\u00e1 dise\u00f1ado para orientar a los maestros respecto de m\u00e9todos de asistencia a ni\u00f1os peque\u00f1os (entre 3 y 6 a\u00f1os de edad) en el aprendizaje de t\u00e9cnicas de autorregulaci\u00f3n emocional y competencias socioemocionales fundamentales, adecuadas para su edad, con el fin de favorecer su desarrollo emocional, social y cognitivo. Este estudio se realiz\u00f3 durante un a\u00f1o escolar, conforme un dise\u00f1o de investigaci\u00f3n de campo cuasi experimental y longitudinal, dise\u00f1ada con tres puntos de medici\u00f3n (punto de partida, intervenci\u00f3n previa e intervenci\u00f3n posterior), en la que se utiliz\u00f3 una Evaluaci\u00f3n del Curr\u00edculo Creativo (TCCA, por sus siglas en ingl\u00e9s), un instrumento calificado por el maestro de 50 puntos para medir el crecimiento de los estudiantes en 4 \u00e1reas del desarrollo: social y emocional, f\u00edsico, cognitivo y desarrollo del lenguaje. Los ni\u00f1os de los 19 salones de clase de nivel preescolar en el Distrito Escolar de Salt Lake City, se analizaron de manera fraccionada seg\u00fan muestras de intervenci\u00f3n y de control de grupo (n=66 y n=309, respectivamente; edad promedio=3 a 6 a\u00f1os). Las clases de intervenci\u00f3n fueron seleccionadas espec\u00edficamente para examinar a ni\u00f1os de bajo nivel socioecon\u00f3mico y pertenecientes a minor\u00edas \u00e9tnicas. En general, existen pruebas convincentes de la eficacia del programa EHS para fomentar el desarrollo psicosocial total. Respecto de cada una de las 4 \u00e1reas de desarrollo que fueron medidas por la TCCA: los resultados de una serie de an\u00e1lisis de la covarianza mostraron un patr\u00f3n s\u00f3lido y consistente de diferencias notorias y significativas en las medidas de desarrollo que favorecen a los ni\u00f1os de preescolar que recibieron el programa EHS, respecto de aquellos del grupo de control.\n",
        "  </p>\n",
        " </trans-abstract>\n",
        " <kwd-group>\n",
        "  <title>\n",
        "   Key Words\n",
        "  </title>\n",
        "  <kwd>\n",
        "   Early childhood development\n",
        "  </kwd>\n",
        "  <kwd>\n",
        "   emotion regulation\n",
        "  </kwd>\n",
        "  <kwd>\n",
        "   heart-brain interaction\n",
        "  </kwd>\n",
        "  <kwd>\n",
        "   intervention\n",
        "  </kwd>\n",
        "  <kwd>\n",
        "   preschool\n",
        "  </kwd>\n",
        "  <kwd>\n",
        "   self-regulation\n",
        "  </kwd>\n",
        "  <kwd>\n",
        "   social and emotional learning\n",
        "  </kwd>\n",
        "  <kwd>\n",
        "   neuropsychology\n",
        "  </kwd>\n",
        "  <kwd>\n",
        "   psychophysiology\n",
        "  </kwd>\n",
        "  <kwd>\n",
        "   psychosocial development\n",
        "  </kwd>\n",
        " </kwd-group>\n",
        "</article-meta>\n"
       ]
      }
     ],
     "prompt_number": 6
    },
    {
     "cell_type": "markdown",
     "metadata": {},
     "source": [
      "The latter contains information about the authors and the publication date, which we'll want to grab, including the author's affiliation, which gives includes their of residence (as far as Jones et al. were concerned, anyway).\n",
      "\n",
      "It also contains document identifiers such as the DOI and the PMC ID, the type of article (in this case, \"Review Article\"), and the publication date.\n",
      "\n",
      "We can pull those elements out like so:"
     ]
    },
    {
     "cell_type": "code",
     "collapsed": false,
     "input": [
      "papersoup.front.find_all('aff')"
     ],
     "language": "python",
     "metadata": {},
     "outputs": [
      {
       "metadata": {},
       "output_type": "pyout",
       "prompt_number": 7,
       "text": [
        "[<aff>Raymond Trevor Bradley, PhD, is director of the Institute for Whole Social Science, Capitola, California.</aff>,\n",
        " <aff>Patrick Galvin, PhD, is a research consultant and former director of research and evaluation, Salt Lake City School District, Salt Lake City, Utah.</aff>,\n",
        " <aff>Mike Atkinson is laboratory manager at the Institute of HeartMath, Boulder Creek, California.</aff>,\n",
        " <aff>Dana Tomasino is a research assistant at the Institute for Whole Social Science.</aff>]"
       ]
      }
     ],
     "prompt_number": 7
    },
    {
     "cell_type": "markdown",
     "metadata": {},
     "source": [
      "The front matter also contains the abstract. We could access it with `papersoup.front.abstract` but we don't need to specify `front`; in fact, we can just do this:"
     ]
    },
    {
     "cell_type": "code",
     "collapsed": false,
     "input": [
      "papersoup.abstract"
     ],
     "language": "python",
     "metadata": {},
     "outputs": [
      {
       "metadata": {},
       "output_type": "pyout",
       "prompt_number": 8,
       "text": [
        "<abstract><title>ABSTRACT</title><p>This work reports the results of an evaluation study to assess the efficacy of the Early HeartSmarts (EHS) program in schools of the Salt Lake City, Utah, School District. The EHS program is designed to guide teachers with methods that support young children (3\u20136 y old) in learning emotion self-regulation and key age-appropriate socioemotional competencies with the goal of facilitating their emotional, social, and cognitive development. The study was conducted over one school year using a quasiexperimental longitudinal field research design with 3 measurement points (baseline, preintervention, and postintervention) using The Creative Curriculum Assessment (TCCA), a teacher-scored, 50-item instrument measuring students growth in 4 areas of development: social/emotional, physical, cognitive, and language development. Children in 19 preschool classrooms in the Salt Lake City School District were divided into intervention and control group samples (n = 66 and n = 309, respectively; mean age = 3.6 y). The intervention classes were specifically selected to target children of lower socioeconomic and ethnic minority backgrounds. Overall, there is compelling evidence of the efficacy of the EHS program in increasing total psychosocial development and each of the 4 development areas measured by the TCCA: the results of a series of analyses of covariance found a strong, consistent pattern of large, significant differences on the development measures favoring preschool children who received the EHS program over those in the control group.</p></abstract>"
       ]
      }
     ],
     "prompt_number": 8
    },
    {
     "cell_type": "markdown",
     "metadata": {},
     "source": [
      "The front matter also contains keywords, if I remember correctly, though this particular paper doesn't have any."
     ]
    },
    {
     "cell_type": "code",
     "collapsed": false,
     "input": [
      "papersoup.find_all('kwd') # Yup, no keywords."
     ],
     "language": "python",
     "metadata": {},
     "outputs": [
      {
       "metadata": {},
       "output_type": "pyout",
       "prompt_number": 9,
       "text": [
        "[<kwd>Early childhood development</kwd>,\n",
        " <kwd>emotion regulation</kwd>,\n",
        " <kwd>heart-brain interaction</kwd>,\n",
        " <kwd>intervention</kwd>,\n",
        " <kwd>preschool</kwd>,\n",
        " <kwd>self-regulation</kwd>,\n",
        " <kwd>social and emotional learning</kwd>,\n",
        " <kwd>neuropsychology</kwd>,\n",
        " <kwd>psychophysiology</kwd>,\n",
        " <kwd>psychosocial development</kwd>]"
       ]
      }
     ],
     "prompt_number": 9
    },
    {
     "cell_type": "markdown",
     "metadata": {},
     "source": [
      "## Body\n",
      "\n",
      "Actually, the `body` tag contains everything, including the front matter and abstract. We probably want to `find_all()` tags matching `p`; that is, a paragraph in the paper."
     ]
    },
    {
     "cell_type": "code",
     "collapsed": false,
     "input": [
      "paragraphs = papersoup.find_all('p')\n",
      "bodytext = ''\n",
      "for para in paragraphs:\n",
      "    paratext = para.get_text() + \"\\n\\n\"\n",
      "    bodytext += paratext\n",
      "wordlist = bodytext.split()\n",
      "print bodytext\n",
      "print wordlist"
     ],
     "language": "python",
     "metadata": {},
     "outputs": [
      {
       "output_type": "stream",
       "stream": "stdout",
       "text": [
        "This work reports the results of an evaluation study to assess the efficacy of the Early HeartSmarts (EHS) program in schools of the Salt Lake City, Utah, School District. The EHS program is designed to guide teachers with methods that support young children (3\u20136 y old) in learning emotion self-regulation and key age-appropriate socioemotional competencies with the goal of facilitating their emotional, social, and cognitive development. The study was conducted over one school year using a quasiexperimental longitudinal field research design with 3 measurement points (baseline, preintervention, and postintervention) using The Creative Curriculum Assessment (TCCA), a teacher-scored, 50-item instrument measuring students growth in 4 areas of development: social/emotional, physical, cognitive, and language development. Children in 19 preschool classrooms in the Salt Lake City School District were divided into intervention and control group samples (n = 66 and n = 309, respectively; mean age = 3.6 y). The intervention classes were specifically selected to target children of lower socioeconomic and ethnic minority backgrounds. Overall, there is compelling evidence of the efficacy of the EHS program in increasing total psychosocial development and each of the 4 development areas measured by the TCCA: the results of a series of analyses of covariance found a strong, consistent pattern of large, significant differences on the development measures favoring preschool children who received the EHS program over those in the control group.\n",
        "\n",
        "\u7814\u7a76\u4eba\u5458\u5728\u72b9\u4ed6\u5dde\u76d0\u6e56\u57ce\u5b66\u533a\u8fdb\r\n",
        "\u884c\u4e86\u4e00\u9879\u540d\u4e3aEarly HeartSmarts\r\n",
        "\uff08EHS\uff09\u7684\u9879\u76ee\uff0c\u672c\u6587\u5bf9\u8be5\u9879\u76ee\u6709\r\n",
        "\u6548\u6027\u8bc4\u4f30\u7814\u7a76\u7684\u7ed3\u679c\u8fdb\u884c\u4e86\u62a5\r\n",
        "\u544a\u3002EHS\u9879\u76ee\u7684\u76ee\u7684\u662f\u5bf9\u6559\u5e08\u8fdb\u884c\r\n",
        "\u65b9\u6cd5\u6307\u5bfc\uff0c\u5e2e\u52a9\u5e7c\u513f\uff083~6\u5c81\uff09\u5b66\r\n",
        "\u4e60\u81ea\u6211\u8c03\u8282\u60c5\u7eea\u4ee5\u53ca\u5173\u952e\u7684\u4e0e\u5e74\r\n",
        "\u9f84\u76f8\u9002\u5e94\u7684\u793e\u4f1a\u60c5\u7eea\u80fd\u529b\uff0c\u5176\u76ee\r\n",
        "\u7684\u662f\u4fc3\u8fdb\u5e7c\u513f\u60c5\u611f\u3001\u793e\u4ea4\u80fd\u529b\u548c\r\n",
        "\u8ba4\u8bc6\u80fd\u529b\u7684\u53d1\u5c55\u3002\u8be5\u7814\u7a76\u91c7\u7528\u534a\r\n",
        "\u9a8c\u8bc1\u7eb5\u5411\u7814\u7a76\u8bbe\u8ba1\uff0c\u5728\u4e00\u5b66\u5e74\u5185\r\n",
        "\u5b9e\u65bd\uff0c\u5e76\u8bbe\u7f6e\u4e86\u4e09\u4e2a\u6d4b\u91cf\u70b9\uff08\u57fa\r\n",
        "\u7ebf\uff0c\u5e72\u9884\u524d\u548c\u5e72\u9884\u540e\uff09\uff0c\u4f7f\u7528\u521b\r\n",
        "\u9020\u6027\u8bfe\u7a0b\u8bc4\u4f30\uff08TCCA\uff09\u2014\u2014\u6559\u5e08\r\n",
        "\u8ba1\u5206\uff0c\u5305\u542b50\u9053\u9898\u7684\u6d4b\u91cf\u5de5\u5177\uff0c\r\n",
        "\u5bf9\u5b66\u751f\u53d1\u5c55\u76844\u4e2a\u65b9\u9762\u8fdb\u884c\u6d4b\u91cf\uff1a\r\n",
        "\u793e\u4ea4/\u60c5\u611f\uff0c\u8eab\u4f53\u72b6\u51b5\uff0c\u8ba4\u77e5\u80fd\u529b\r\n",
        "\u4ee5\u53ca\u8bed\u8a00\u80fd\u529b\u5f00\u53d1\u3002\u7814\u7a76\u4eba\u5458\u5c06\r\n",
        "\u76d0\u6e56\u57ce\u5b66\u533a19\u4e2a\u5b66\u524d\u73ed\u6559\u5ba4\u7684\u513f\r\n",
        "\u7ae5\u5212\u5206\u4e3a\u5e72\u9884\u7ec4\u548c\u5bf9\u7167\u7ec4\u6837\u672c\uff08\r\n",
        "\u5206\u522bn=66\u548cn=309\uff1b\u5e73\u5747\u5e74\u9f84=3.6\r\n",
        "\u5c81\uff09\u3002\u672c\u7814\u7a76\u7279\u522b\u9009\u62e9\u9488\u5bf9\u5177\u6709\r\n",
        "\u8f83\u4f4e\u7684\u793e\u4f1a\u7ecf\u6d4e\u5730\u4f4d\u548c\u5c11\u6570\u6c11\u65cf\r\n",
        "\u80cc\u666f\u7684\u513f\u7ae5\u8fdb\u884c\u5e72\u9884\u3002\u4ece\u6574\u4f53\u4e0a\r\n",
        "\u6765\u8bf4\uff0c \u6709\u663e\u8457\u7684\u8bc1\u636e\u80fd\u591f\u8bc1\r\n",
        "\u660e\uff0cEHS\u9879\u76ee\u5728\u4fc3\u8fdb\u513f\u7ae5\u7684\u6574\u4f53\u793e\r\n",
        "\u4f1a\u5fc3\u7406\u53d1\u5c55\u548cTCCA\u6d4b\u91cf\u76844\u4e2a\u5f00\u53d1\r\n",
        "\u9886\u57df\u65b9\u9762\u5177\u6709\u6709\u6548\u6027\uff1a\u5bf9\u4e24\u4e2a\u7ec4\r\n",
        "\u4e4b\u95f4\u7684\u5dee\u5f02\u8fdb\u884c\u7684\u4e00\u7cfb\u5217\u5206\u6790\u7ed3\r\n",
        "\u679c\u53d1\u73b0\uff0c\u63a5\u53d7EHS\u9879\u76ee\u7684\u5b66\u524d\u513f\u7ae5\r\n",
        "\u7ec4\u4e0e\u5bf9\u7167\u7ec4\u76f8\u6bd4\uff0c\u5728\u5404\u9879\u80fd\u529b\u5f00\r\n",
        "\u53d1\u7684\u6d4b\u91cf\u6307\u6807\u4e0a\u5177\u6709\u663e\u8457\u4f18\u52bf\u3002\n",
        "\n",
        "Este trabajo informa los resultados de un estudio de evaluaci\u00f3n de la eficacia del programa Early Heartsmarts (EHS) en las escuelas del Distrito Escolar de Salt Lake City, Utah. El programa EHS est\u00e1 dise\u00f1ado para orientar a los maestros respecto de m\u00e9todos de asistencia a ni\u00f1os peque\u00f1os (entre 3 y 6 a\u00f1os de edad) en el aprendizaje de t\u00e9cnicas de autorregulaci\u00f3n emocional y competencias socioemocionales fundamentales, adecuadas para su edad, con el fin de favorecer su desarrollo emocional, social y cognitivo. Este estudio se realiz\u00f3 durante un a\u00f1o escolar, conforme un dise\u00f1o de investigaci\u00f3n de campo cuasi experimental y longitudinal, dise\u00f1ada con tres puntos de medici\u00f3n (punto de partida, intervenci\u00f3n previa e intervenci\u00f3n posterior), en la que se utiliz\u00f3 una Evaluaci\u00f3n del Curr\u00edculo Creativo (TCCA, por sus siglas en ingl\u00e9s), un instrumento calificado por el maestro de 50 puntos para medir el crecimiento de los estudiantes en 4 \u00e1reas del desarrollo: social y emocional, f\u00edsico, cognitivo y desarrollo del lenguaje. Los ni\u00f1os de los 19 salones de clase de nivel preescolar en el Distrito Escolar de Salt Lake City, se analizaron de manera fraccionada seg\u00fan muestras de intervenci\u00f3n y de control de grupo (n=66 y n=309, respectivamente; edad promedio=3 a 6 a\u00f1os). Las clases de intervenci\u00f3n fueron seleccionadas espec\u00edficamente para examinar a ni\u00f1os de bajo nivel socioecon\u00f3mico y pertenecientes a minor\u00edas \u00e9tnicas. En general, existen pruebas convincentes de la eficacia del programa EHS para fomentar el desarrollo psicosocial total. Respecto de cada una de las 4 \u00e1reas de desarrollo que fueron medidas por la TCCA: los resultados de una serie de an\u00e1lisis de la covarianza mostraron un patr\u00f3n s\u00f3lido y consistente de diferencias notorias y significativas en las medidas de desarrollo que favorecen a los ni\u00f1os de preescolar que recibieron el programa EHS, respecto de aquellos del grupo de control.\n",
        "\n",
        "Numerous studies have found that people living in situations characterized by social disorganization, instability, isolation, or disconnectedness are at increased risk for acquiring many types of disease.1\u20135 The impact of education\u2014or more specifically, academic failure\u2014is not typically associated with communicative disorders and long-term health and wellness; however, James Lynch has provided some sobering statistics that show academic failure (defined by completing less than 10 years of schooling) produces a greater risk for heart disease than smoking, obesity, lack of exercise, and excessive alcohol consumption combined.6 He has shown that the link between academic failure and disease in later life is related to a lack of social and emotional competencies. The foundations of the competencies required for both academic and social success are developed in a child's early years of development and are directly related to their ability to self-regulate.\n",
        "\n",
        "In essence, social competence is the ability to get along with others in a constructive manner and to build and maintain positive relationships with others.7 Young children who demonstrate this ability are more likely to have positive developmental outcomes, including higher intelligence quotient scores, positive self-worth, and better mental health.8\u201312 Social competence and positive social behavior are rooted in and built upon a child's ability to self-regulate attention, emotion, and behavior.13 Self-regulation involves the ability to actively and flexibly direct one's own behavior, emotions, and attention through effortful internal control and involves the ability to inhibit the expression of a behavior, emotion, or focus of attention when this is required.8,9\n",
        "\n",
        "In their review of recent advances in neuroscience, Immordino-Yang and Damasio conclude that the \u201cprocesses of emotion\u201d also have a profound effect on the very elements of cognition targeted in education:\n",
        "\n",
        "Recent advances in neuroscience are highlighting connections between emotion, social functioning, and decision making that have the potential to revolutionize our understanding of the role of affect in education. In particular, the neurobiological evidence suggests that the aspects of cognition that we recruit most heavily in schools, namely learning, attention, memory, decision making, and social functioning, are both profoundly affected by and subsumed within the processes of emotion.14\n",
        "\n",
        "Their conclusions mirror those found in research in psychophysiology that shows that learning effective emotion regulation techniques can significantly enhance attention, memory recall, comprehension, reasoning ability, creativity, and task performance in adults and children (see the review in McCraty et al, 2009).15 Schore's16 syntheses of the research on the neurobiology of early childhood development also shows that learning how to process and self-regulate emotional experience is the earliest, most fundamental socioemotional skill that not only facilitates neurological growth but also determines the potential for subsequent psychosocial development.\n",
        "\n",
        "However, when the young child's capacity for emotional self-regulation is lacking or the skills are seriously impaired, \u201caffect dysregulation,\u201d as Schore17 aptly labels it, is the result. The inability to appropriately self-regulate feelings and emotions has its origins in early childhood maltreatment and has enduring negative consequences for the developing frontal cortex, resulting in structurally defective neurobiological organization, which in turn impairs the young child's cognitive development and produces disturbances in attachment formation.16,18 In addition to its implications for impeded neuropsychosocial development, this inability to appropriately self-regulate feelings and emotions results in impulsive and aggressive behavior, attentional and learning difficulties, an inability to engage in prosocial relationships, and difficulty in establishing stable social bonds.17 It is not surprising, therefore, that affect dysregulation has been highlighted in the research literature repeatedly with regard to its devastating effects on multiple domains of development, including cognition, language and literacy, and socioemotional skills.19\u201323\n",
        "\n",
        "Yet as fundamental as emotion regulation is to all aspects of psychosocial development, the educational system remains woefully deficient in teaching children effective strategies for understanding and regulating their feelings and emotions.24\u201328 There is a predominant focus on teaching children purely \u201cacademic\u201d skills without providing adequate education in the socioemotional foundations underlying the development of the very cognitive capacities required for academic performance.14 This is exacerbated by the disturbing number of children\u201420% to 30% by some estimates29\u201331\u2014who start school lacking the basic social and motional skills needed to learn and get along with others.32,33 Moreover, children living in poverty, which disproportionately affects ethnic minorities, are at an increased risk for social, emotional, behavioral, and learning problems.31,34,35 Indeed, as many as 30% of elementary school children from low-income families and about the same proportion of preschoolers in Head Start programs do not have the necessary social and emotional skills for school.29 According to Boyd et al,\n",
        "\n",
        "Knowing the ABCs is not enough. To be prepared for school, children also must be excited and curious about learning and confident that they can succeed (motivational qualities). They must be able to understand the feelings of others, control their own feelings and behaviors, and get along with their peers and teachers (socio-emotional skills). Indeed, kindergarten teachers rate these motivational and socio-emotional skills as more important to school success than being able to hold a pencil or read. They want children to be ready for learning\u2014able to cooperate, follow directions, demonstrate self-control, and \u201cpay attention.\u201d29\n",
        "\n",
        "To help rectify this problem, the Institute of HeartMath (IHM) has developed a program specifically targeted to better equip children aged 3 to 6 years with the foundational emotional self-regulation and social competencies skills required for success in school and life. Called Early HeartSmarts (EHS),36 the program was designed to provide teachers with a curriculum to guide and support young children in learning several key age-appropriate emotion self-regulation techniques and social competencies, with the goal of facilitating the children's emotional, cognitive, and psychosocial development. Based on almost 2 decades of research on the psychophysiology of emotions and heart-brain communication,37\u201342 the EHS program is the latest in a series of programs IHM has developed to teach schoolchildren emotion self-regulation techniques.43 Research has shown these programs to be effective in improving emotional stability, psychosocial functioning, learning, and academic performance at the elementary, middle school, high school, college, and graduate levels.43\u201346 This work reports the results of an initial evaluation study conducted to assess the efficacy of the EHS program in preschool classes in the Salt Lake City, Utah, School District.\n",
        "\n",
        "The EHS program was designed to facilitate emotional awareness and psychosocial development in young children 3 to 6 years of age. To achieve this goal, the EHS program provides teachers with a curriculum to guide and support young children in learning several key emotional and social competencies known to facilitate psychosocial development (Table 1):\n",
        "\n",
        "how to recognize and better understand basic emotional states,\n",
        "\n",
        "how to self-regulate emotions,\n",
        "\n",
        "ways to strengthen the expression of positive feelings,\n",
        "\n",
        "ways to improve peer relations, and\n",
        "\n",
        "skills for developing problem-solving.\n",
        "\n",
        "Synopsis of the Early HeartSmarts Program\n",
        "\n",
        "How to recognize and better understand basic emotional states,\n",
        "\n",
        "How to regulate emotions,\n",
        "\n",
        "Ways to strengthen the expression of positive feeling,\n",
        "\n",
        "Ways to improve peer relations, and\n",
        "\n",
        "Skills for developing problem solving.\n",
        "\n",
        "Connecting the physical and emotional aspects of the heart: Beginning with a model of a heart, children begin exploring the functions of the heart. The playing of different heartbeat sounds and the use of a stethoscope make this experience more real. Children move from the physical heart to the emotional heart through conversation led by the Bear Heart puppet.\n",
        "\n",
        "Recognizing and understanding emotions: Children learn to recognize and better understand 5 basic emotions (happy, sad, angry, afraid, and peaceful) through a series of photo emotion cards. To help with emotional self-regulation, 2 simple techniques (described below) are taught by Bear Heart. The Shift and Shine technique strengthens children's experience of positive feelings like love and care while Heart Warmer helps with impulse control and managing upsetting emotions.\n",
        "\n",
        "Expressing love and care to family and friends: Playing Heart Ball and participating in a mini-unit around The Kissing Hand book supports the expression and experience of positive emotions. Dramatization further supports the developmental skill of learning to communicate what one is feeling.\n",
        "\n",
        "Learning problem-solving skills: Using photo cards that portray typical age-related issues and a large instructional poster, children learn problem-solving and socialization skills with their peers. An album of songs is woven throughout the program to support the learning of key ideas and skills.\n",
        "\n",
        "Emotional self-regulation Techniques: This segment of the program includes instructions for the Shift and Shine and Heart Warmer techniques, which are taught to help children develop skills for greater emotional self-control.\n",
        "\n",
        "Begin by shifting your attention to the area around your heart. It helps to put your hand over your heart to begin with.\n",
        "\n",
        "Now pretend to breathe in and out of your heart area. Take three slow breaths.\n",
        "\n",
        "Think of someone or something that makes you feel happy. Feel that warm, happy feeling in your heart and then send or shine that love to someone special.\n",
        "\n",
        "Teacher: Afterwards, ask the child if he or she sent that feeling to someone or something special. Then ask: How did it make you feel in your heart?\n",
        "\n",
        "Begin by putting your attention on the area around your heart. It helps to put your hand over your heart to begin with. Teacher: Model by putting hand over your heart.\n",
        "\n",
        "Now pretend to breathe in and out of your heart area. Take 3 slow breaths.\n",
        "\n",
        "Imagine that your body feels nice from sitting in warm sunshine. Breathe in a feeling of warm sunshine.\n",
        "\n",
        "Key among these competencies are two simple emotion shifting tools: \u201cShift and Shine\u201d and \u201cHeart Warmer.\u201d These tools were specifically adapted from the HeartMath system of emotional management tools to facilitate young children's learning of emotion self-regulation skills.\n",
        "\n",
        "Research has shown that the positive emotion-focused tools and techniques that form the foundation of the EHS program can facilitate emotional self-regulation by teaching individuals, including children, the ability to make an intentional shift to a specific psychophysiological state, termed psychophysiological coherence (described below). This state has been shown to be associated with optimal psychosocial growth, learning, and performance.39\u201341 The basis of this ability to make such a shift lies in the fundamental role the heart plays in the emotional system and the critical communication link between the heart and the brain.\n",
        "\n",
        "It is now known that heart's pattern of rhythmic activity is directly responsive to changes in emotional states, as can be seen in the real-time example shown in Figure 1.40,41 During the experience of stress and negative emotions such as anger, frustration, and anxiety, heart rhythms become more erratic and disordered\u2014incoherent. In such states, the corresponding patterns of afferent neurological signals sent from the heart to the brain produce an inhibition of higher cognitive functions (Figure 2), impeding brain processes necessary for functions such as attention, memory recall, abstract reasoning, problem solving, creativity, and the self-regulation of emotion and behavior. This cardiac neurological input also interacts with the brain's emotional centers, where it acts to reinforce feelings of emotional stress and instability.47,48 Thus, when students come to school in a negative emotional state, the \u201cinner noise\u201d produced by such psychophysiological incoherence impairs the very cognitive resources needed for learning, academic performance, and prosocial behavior.43,45\n",
        "\n",
        "Real-time heart rhythm patterns during different emotional states.\n",
        "\n",
        "Conversely, the experience of positive emotions, such as love or appreciation, is associated with a highly ordered, smooth, sine wavelike pattern of heart rhythm activity\u2014heart rhythm coherence (Figure 1). In such positive affective states, the heart transmits an ordered and harmonious signal to the higher brain centers (Figure 2), facilitating cognitive and emotion regulation abilities and typically producing increased emotional stability and enhanced attention, memory recall, comprehension, reasoning ability, creativity, and task performance (see research reviewed in McCraty et al, 2009).15 This is a particularly important point in understanding the operative mechanism of the HeartMath techniques taught in the EHS program.\n",
        "\n",
        "Afferent pathways by which heart activity affects brain function.\n",
        "\n",
        "Furthermore, sustained positive emotions induce a system-wide shift to psychophysiological coherence,15,41 a state in which the brain, nervous system, and entire body operate with increased synchronization and harmony (Figure 3). Physiological correlates of the coherence state include increased synchronization between the 2 branches of the autonomic nervous system; a shift in autonomic balance toward increased parasympathetic activity; increased vascular system resonance; increased heart-brain synchronization (the brain's \u03b1 rhythms exhibit greater synchronicity with the heartbeat); and entrainment between the heart rhythm and other physiological oscillatory systems. The coherence state is also marked by reduced perceptions of emotional stress, enhanced positive emotional experience, and improved cognitive function and task performance.15,41 Moreover, studies have shown that psychophysiological states such as coherence that naturally enhance para-sympathetic activity play an important role in facilitating children's development of effective emotion regulation, prosocial behavior, and cognitive function.49,50\n",
        "\n",
        "Entrainment of physiological systems during psychophysiological coherence. Abbreviations: AMP, amplitude; BPM, beats per minute; HRV, heart rate variability; PTT, pulse transit time.\n",
        "\n",
        "A pioneering discovery was that the psychophysiological coherence state can be intentionally generated. This shift to coherence can be achieved by using a positive emotion-based system of easy-to-use tools and techniques.51,52(See Figure 1 for a real-time example of this shift.) Briefly, these techniques couple an intentional shift in attention to the physical area of the heart with the self-activation of a positive emotion like love or appreciation. This rapidly initiates a distinct shift to increased coherence in the heart's pattern of rhythmic activity. In turn, this produces a change in the pattern of afferent cardiac signals sent to the brain, which reinforces the self-generated positive emotional shift and makes it easier to sustain.\n",
        "\n",
        "Typically, the shift to coherence induces enhancements in perception and cognition that enable more effective memory, reasoning, decision making, and action when confronted with stressful or challenging situations. Furthermore, with regular practice, these physiological, emotional, and cognitive patterns become increasingly familiar to the brain, ultimately establishing a new set point by which the system then strives to maintain these upgraded, healthier patterns of psycho-physiological function. The occurrence of such a psychophysiological \u201crepatterning\u201d process facilitated by the HeartMath system of coherence-building techniques is supported by studies conducted in diverse populations, documenting enduring improvements in health, emotional well-being, attitudes, behaviors, and relationships in individuals who practiced these techniques over several months' time.53\u201356\n",
        "\n",
        "Research also supports the efficacy of this approach in educational settings, where the introduction of programs incorporating coherence-building tools and techniques at the elementary, middle school, high school, college, and graduate levels has been demonstrated to improve emotional disposition, psychosocial functioning, learning, test anxiety management, and academic performance.43,45,46,53,57 Controlled laboratory experiments using electrophysiological measures have also shown that both middle school and high school students can acquire the ability to self-activate the coherence state by using the HeartMath emotion self-regulation tools and that they are able to effectively apply this skill during a stressful or challenging situation.46,53\n",
        "\n",
        "The study evolved informally as a research opportunity resulting from discussions between IHM's education division staff and officials in the Salt Lake City, Utah, School District. The study was conducted in the 2006\u20132007 school year on all preschool classes in the district and employed a quasi-experimental, longitudinal field research design with intervention and control groups. The Creative Curriculum Assessment instrument (TCCA) was administered by teachers, who evaluated each child on 50 items measuring student growth on 4 development dimensions\u2014social/emotional, physical, cognitive, and language development58\u2014at 3 measurement moments over the course of the school year. There were a total of 19 schools in the study, each with one preschool class. Students in the preschool classes were divided into intervention and control group samples, in which classes in the former were specifically selected to target children of lower socioeconomic and ethnic minority family backgrounds. Three preschool classes constituted the intervention group to which the EHS program was provided; the total student count for these classes was 66 preschoolers.a Sixteen preschool classes from the remaining schools constituted the control group, which had a total student count of 309.\n",
        "\n",
        "The study hypothesis was that, relative to the control group, children in the intervention group would exhibit an increased level of development along the 4 TCCA development dimensions of psychosocial growth\u2014social and emotional, physical, cognitive, and language development\u2014following exposure to the EHS program over the school year study period.\n",
        "\n",
        "In late January 2007, two members of IHM's Education Division conducted a 1-day training for teachers selected to introduce the EHS program into their preschool classes. The goal of the training was to provide the teachers with a working familiarity with the scientific foundation of the HeartMath System as well as the EHS concepts, tools, techniques, and materials prior to their beginning classroom instruction. Teachers then delivered the EHS program (presented in summary form in Table 1) to their students throughout the rest of the school year through the end of May 2007.\n",
        "\n",
        "TCCA instrument has been psychometrically validated as an assessment instrument and is widely used in schools throughout the United States. It was adopted by the Salt Lake City School District as a standardized means of systematically assessing the psychosocial development of all preschool students in the 19 schools in the district.\n",
        "\n",
        "The TCCA is organized into 4 distinct dimensions covering the social/emotional, physical, cognitive, and language areas of a child's development. Each dimension is divided into subcategories and then measurement items on which the teacher evaluates and scores each child. Altogether, there are 50 measurement items\u201413 in social/emotional development, 8 in physical development, 16 in cognitive development, and 13 in language development. For each item, the teachers assessed and scored each child's development on a 4-point competency/proficiency rating scale: 0 = Forerunners; 1 = Step I; 2 = Step II; 3 = Step III.b Over the 2006\u20132007 school year, the teachers completed the TCCA 3 times: the first (baseline measurement) in October, 2006; the second (preintervention measurement) in early January, 2007; and the third (postintervention measurement) at the end of April, 2007.\n",
        "\n",
        "Table 2 shows the breakdown of the study population in terms of sociodemographic characteristics. Aggregated across the 3 intervention and 16 control schools, there were a total of 375 children in the study's sample population, ranging from 2.8 to 4.7 years of age. Of these, 66 (17.6%) were in the intervention group and 309 (82.4%) were in the control group. The 2 samples were comparable on both age and gender, with a mean age of 3.6 years each and with a nearly even division on gender: 48% male and 52% female for the intervention group and 49% male and 51% female for the control group. Reflecting sample selection, there is a difference in family socioeconomic status in that while almost two-thirds (64%) of the intervention group received a free lunch from the school district, only half (48%) of the children in the control group did so. Also, there are notable differences in ethnic composition: there was a greater proportion of Hispanic children in the intervention group (65% vs 51%) and a much lower proportion of white children (8% vs 33%, respectively). Finally, there was a greater range in class size in the control group (11\u201328 children vs 18\u201326, respectively), and the mean class size was slightly smaller in the intervention group (19.31 vs 22.00).\n",
        "\n",
        "Sociodemographic Characteristics (Time 1) of the Whole Sample, Intervention Group, and Control Group\n",
        "\n",
        "Abbreviations: NA, not available; SD, standard deviation.\n",
        "\n",
        "For each development dimension, a child's scores on the items involved were aggregated to construct a scale score for that dimension and then aggregated again across all 50 items to construct a total development scale score. Students were scored on each of the 50 items using the values on the 4-point rating scale. Since the lowest point value on the rating scale was 0, the maximum score for any item was 3 points, which, summed over the 50 items, yields a total possible development scale score of 150 points.\n",
        "\n",
        "Using the whole sample, we conducted an item analysis and a validity and reliability of measurement analysis of the TCCA instrumentation\u2014development scales, subcomponents, and individual items (results available in Bradley et al, 2009).59 Starting with the item analysis, the range of the point-biserial order correlation (pbs [.rho]) over the 50 items across the 3 measurement moments was 0.26 to 0.82. There were no items with a 0 or negative pbs [.rho], so all items met the minimum criteria for technically acceptable measurement and indicate an adequate level of discrimination between high- and low-performing children on the assessment. The standard error of measurement (SEM) for the total development score was ff1.05, ff1.29, and ff1.20 points for time 1 (T1), time 2 (T2), and time 3 (T3), respectively, and ranged from ff0.15 to 0.44 for the 4 development dimensions over all 3 measurement moments\u2014all well within psychometrically acceptable limits.\n",
        "\n",
        "Turning to the results of the validity and reliability of measurement for the total development score, the T1, T2, and T3 Cronbach's \u03b1 reliability coefficients were all high (0.97, 0.98, and 0.98, respectively). With the exception of somewhat lower \u03b1 coefficients for physical development (0.80, 0.86, and 0.86), high \u03b1 coefficients also were observed on the other 3 development dimensions (ranging from 0.92 to 0.95). Though lower \u03b1 coefficients were observed for the subcomponents within each of the 4 development dimensions (ranging from 0.71 to 0.93), they were, with 3 exceptions (gross motor, T1, and fine motor, T1, and T2), all above 0.80. Overall, the results indicate a high degree of internal consistency.\n",
        "\n",
        "We also conducted a factor analysis with varimax rotation to evaluate the degree of convergent and discriminant validity in the EHS study data. Though there were some exceptions, the factors and loadings and item classifications are generally consistent with the results of the original validation study. In short, the results of these analyses indicate that the baseline, preintervention, and postintervention measures appear to have psychometric integrity as measurement constructs.\n",
        "\n",
        "The line graph in Figure 4 plots the results of these measurement procedures for the whole study population's mean total development score and mean scores for the 4 development dimensions at the 3 moments of measurement. Clearly evident is a strong upward trend in development on all 5 measures over the 3 time points. Thus, the mean total development score rose from 47.71 at baseline to 90.71 at the preintervention moment to 124.15 at the postintervention measurement moment: a T1-to-T3 increase of 160.22%. For the development dimensions, the greatest increase in mean score observed was for cognitive development, 13.90 to 38.79 (an increase of 179.06%) whereas the lowest increase was for physical development (9.29 to 21.56, an increase of 132.08%).\n",
        "\n",
        "Line Graph of 5 Development Scales (Mean Score) for Entire Sample Population by Measurement Moment.\n",
        "\n",
        "Table 3 presents the results of a 1-way analysis of variance (ANOVA) of differences in mean score by intervention status on the 5 development scales at baseline broken down by gender, ethnicity, and socioeconomic status. Starting with the results for intervention status, significant differences on all 5 scales (P < .01) with a moderate or large effect size (ES,c 0.41\u20130.66) were observed between the control group and the intervention group. Though there are no differences by gender, there are significant differences mostly in the moderate effect size range (0.30\u201349) favoring white children over those with Hispanic or other ethnic affiliation on all development scales (P < .001) except physical development. A similar pattern is observed on the indicator of socioeconomic status: the non\u2013free lunch children had significantly higher development scores than the free-lunch children on all scales (P < .05) except that for physical development.\n",
        "\n",
        "Baseline (Time 1) Analysis of Variance of Development Scales by Intervention Grouping and by Gender, Ethnicity, and Family Socioeconomic Statusa\n",
        "\n",
        "Single-factor ANOVA.\n",
        "\n",
        "Abbreviations: ANOVA, analysis of variance; ES, effect size; F, ANOVA test statistic; NS, not significant; SEM, standard error of measurement; Sq, square.\n",
        "\n",
        "Two points emerge from these results: first, that the intervention and control groups were not well matched at baseline on the 5 development scales; second, that in the analysis that follows, it was necessary to control for the effects of ethnicity and free-lunch status in the event that pre-to-postintervention differences in development are observed between the intervention and control groups.\n",
        "\n",
        "In the analysis of the effects of the EHS intervention, we conducted 2 analyses. The first\u2014a within-groups analysis\u2014was conducted on the intervention and control groups separately in order to investigate the degree of pre-post change in development within each group. The second\u2014a between-groups analysis\u2014 was conducted to identify changes in development in the intervention group that could be attributed to any observed effects of the EHS intervention by comparing the differences in pre-post changes in development between the 2 groups.\n",
        "\n",
        "For the within-groups analysis, we employed a within-subjects repeated measures procedure on the 5 development scales to investigate the changes in development in the 2 periods up to and then following the EHS intervention\u2014T1 to T2 and T2 to T3, respectively. Though a lower rate of development in the preintervention period (T1 to T2) was expected in the intervention group relative to the control group, given the former's disadvantaged status on the baseline measures, a higher rate was expected following exposure to the EHS intervention. However, as shown in Table 4, a different pattern of results was observed.\n",
        "\n",
        "Within-subjects Repeated Measures Analysis of Change in Development Scales (Mean Score) for Intervention and Control Groups\n",
        "\n",
        "Abbreviations: ES, effect size; SD, standard deviation; Sq, square.\n",
        "\n",
        "Across all 5 development scales, though a significant increase in mean score (P < .001, on all measures) of an extremely large ES (ES ranges from 1.17\u20132.81 over all measures) was observed in both time periods for each group, the greatest increase in development occurred in the first period, T1 to T2. This pattern is typified by the total development data. Thus, the results for the intervention group show that the greatest increase in development occurred in the first period, before the EHS intervention (T1-T2 D mean score = 53.15 points, ES 2.73; T2-T3 D mean score = 38.69 points, ES 1.84). Although somewhat smaller in magnitude, a similar pattern was observed for the control group (T1-T2 D mean score = 40.64 points, ES = 1.91; T2-T3 D mean score = 32.42 points, ES = 1.43).\n",
        "\n",
        "There are 2 points of interest here. One is that this pattern is similar in both groups. This suggests some underlying commonality, such as the initial novelty of children first entering a new, stimulating social environment, the preschool class. It could be expected that after the children experience an accelerated growth rate, they then adapt as the school environment becomes more familiar. The second point is that although the pattern is similar in both groups, there is a more elevated growth in the intervention group during the first period both in relation to the control group in the first period and also in relation to the intervention group's rate of growth in the second period. A plausible explanation is that this pattern in the intervention group children may have resulted from an even more novel experience of a nurturing, growth-promoting teacher and the psychosocially stimulating preschool environment relative to the disadvantaged circumstances of an ethnic minority and/or lower socioeconomic family background characteristic of most children in this group. An alternative explanation for the pattern is the possibility of a Hawthorne effect: namely, that the intervention group teachers may have (consciously or unconsciously) inflated the ratings of their students in the preintervention period. Unfortunately, there were insufficient cases with the required combination of ethnosocioeconomic characteristics to investigate the first explanation posited above for the elevated rate of development observed. However, we were able to investigate the question of a potential Hawthorne effect, the results of which are presented below.\n",
        "\n",
        "Even with this pattern, the smaller degree of change in the second period was still very large (ES range 1.17\u20131.99) and highly significant (P < .001) across the 5 measures in both groups. Determining how much of this increase in development in the intervention group is attributable to the effects of the EHS program requires a between-groups comparison of the 2 groups, in which any differences in the measures of development at the baseline (T1) and preintervention (T2) moments are statistically controlled. We turn to this all-important question next.\n",
        "\n",
        "The primary statistical analysis technique used to investigate pre-post changes in development was analysis of covariance (ANCOVA). An important advantage of ANCOVA is that the baseline (T1) and preintervention (T2) differences on the development measures between the intervention and control groups are statistically adjusted to make them comparable before the change effects are estimated. This is accomplished by treating them as covariates in the statistical model. We begin with the results by intervention status before moving to the breakdowns by gender, ethnicity, and family socioeconomic background.\n",
        "\n",
        "Figure 5 and Table 5 present the results for the 5 development scales and the 10 subcomponents by intervention status. Clearly evident is the strong consistent pattern of moderate to large, significant differences on all 15 measures of development, favoring the intervention group over the control group. On 10 of the 15 measures, including 4 of the 5 development scales, the magnitude of the difference was large and highly significant (ES > 0.60, P < .001). More specifically, from the adjusted means on the 5 development scales, a significant difference with a large ES was observed favoring the intervention group on the total development scale (130.96 vs 122.79, respectively; ES 0.81, P < .001) and on each of the social/emotional development (34.95 vs 31.90, ES 0.97, P < .001), physical development (22.59 vs 21.35, ES 0.79, P < .001), cognitive development (40.58 vs 38.41, ES 0.55, P < .01), and language development (33.74 vs 30.99, ES 0.73 P < .001) scales. At the subcomponent level, 6 of the 10 constructs had differences favoring the intervention group that were large in terms of ES and highly significant: sense of self, ES 1.05, P < .001; responsibility for self and others, ES 0.61, P < .001; prosocial behavior, ES 0.94, P < .001; fine motor, ES 0.68, P < .001; learning and problem solving, ES 0.65, P < .001; and reading and writing, ES 0.84, P < .001.\n",
        "\n",
        "Adjusted means showing results of analysis of covariance of intervention effects on development measures comparing intervention and control groups.\n",
        "\n",
        "Results of Analysis of Covariance of Intervention Effects on Development Measures Comparing Intervention and Control Groupsa\n",
        "\n",
        "ANCOVA: covariates fall and winter baseline scores.\n",
        "\n",
        "Abbreviations: Adj, adjusted; CI, confidence interval; ES, effect size; F, ANOVA test statistic; SEM, standard error of measurement; Sq, square.\n",
        "\n",
        "To investigate the degree to which these observed differences in development were not mediated by one or more intervening sociodemographic factors identified as significant at baseline, an ANOVA was conducted on the 5 development scales controlling for gender, ethnic status, and socioeconomic family background (free-lunch status). The results are presented in Table 6.\n",
        "\n",
        "Analysis of Covariance of Intervention Effects on Development Scales Comparing Intervention and Control Groups by Gender, Ethnicity, and Socioeconomic Statusa\n",
        "\n",
        "ANCOVA: covariates fall and winter baseline scores.\n",
        "\n",
        "Abbreviations: CI, confidence interval; F, ANOVA test statistic; ES, effect size; NS, not significant; SEM, standard error of measurement.\n",
        "\n",
        "Beginning with the results (adjusted means) for the total development scale, a consistent pattern of moderate to large, significant differences is observed favoring the intervention over the control group: for boys (128.10 vs 121.35, ES 0.47, P < .05), girls (133.876 vs 124.42, ES 0.65, P < .001), Hispanic children (129.60 vs 121.22, ES 0.63, P < .001), white children (130.62 vs 121.87, ES 0.44, P < .05), free-lunch recipients (131.61 vs 125.29, ES 0.56, P < .01), and non\u2013free lunch recipients (130.09 vs 120.33, ES 0.57, P < .01). These results suggest a markedly greater level of development for children with these characteristics who were exposed to the EHS program than those who were not.\n",
        "\n",
        "Moving to the 4 development scales, for girls, Hispanic children, and free lunch students, there is a pattern of a significantly greater increase in development in the intervention group compared to the control group on all 4 scales. With the exception of the cognitive development scale, the same pattern is observed for boys and non\u2013free lunch students. For white students, though, this difference is evident only on 2 dimensions\u2014physical development and language development.\n",
        "\n",
        "We conducted another ANCOVA to investigate the degree to which the observed differences between the 2 groups of children were not confounded by an underlying difference in class size (results not shown; available in Bradley et al, 2009).59 To conduct the study, we constructed a matched-group comparison by selecting classes from the control group sample that were close to or within the class size range (18\u201324 children) of the 3 classes in the intervention group. There were 4 classes in the control group (total n = 90) with a class size of between 17 and 26 children, and we selected these for the matched-group comparison. Coincidentally, these 7 classes also were within the same range on mean baseline total development score (35.78\u201342.71 points). This enabled us to simultaneously control for the effects of baseline differences between the intervention and control group on both class size and total development, providing for a somewhat more rigorous matched-groups analysis. As previously, to control for any differences in development between the 2 groups in the preintervention period, development scores at T1 and T2 were deployed as covariates in the statistical model.\n",
        "\n",
        "A notable, significant difference in the pre-post increase in the mean total development score is observed for the intervention group over the matched-group sample from the control group (123.68 vs 115.93, respectively, ES 0.61, P < .001). A similar difference is evident for 3 of the 4 development dimensions: social/emotional development (33.14 vs 29.53, ES 0.81, P < .001); physical development (21.86 vs 20.74, ES 0.55, P < .01), and language development (31.43 vs 28.60, ES 0.63 P < .001). In short, when baseline differences in class size and total development are controlled, there is still compelling evidence of markedly greater development in the children who participated in the EHS program than in those who did not.\n",
        "\n",
        "As the final step in the primary analysis, we conducted a split-half sample analysis (results not shown; available in Bradley et al, 2009).59 In a typical application, the procedure involves randomly dividing the study sample population into halves and then repeating the analysis separately on each half-sample. This enables a check on the statistical integrity of nonrandom samples and also provides some indication of the likely generalizability of results.\n",
        "\n",
        "To conduct this analysis, we randomly divided the intervention and control groups into 2 approximately equal subgroups each and then repeated the pre-post ANCOVA comparison on each of the two half-sample pairings, accordingly: viz, random split (RS) 1: first intervention subgroup vs 1st control subgroup; RS2: second intervention subgroup vs second control subgroup. As an extra precaution, we not only conducted the analysis on the 5 development scales and but also included the 10 subcomponents of the 4 development dimensions as well.\n",
        "\n",
        "Beginning with the 5 development scales, a comparison of the results for RS1 to those for RS2 found that, with one exception (cognitive development scale), a pattern of moderate to large, significant differences favoring the intervention group on the other 4 development measures was evident in both ANCOVAs. This suggests that the intervention results on the total development scale and the social/emotional, physical, and language development scales appear to be robust, are unlikely to be the result of sample bias, and are probably generalizable to children with similar characteristics.\n",
        "\n",
        "To investigate the key question of a pre-postintervention effect, we used a rigorous multivariate procedure\u2014ANCOVA\u2014in order to be statistically confident that any observed pre-postintervention differences could not be the result of differences at baseline between the 2 groups. This procedure revealed a strong pattern of differences favoring the intervention group children on the 5 development dimension scales as well as on the 10 subcomponents. This intervention effect also was observed on the total development scale for each of the sociodemographic categories examinedd (male, female, Hispanic, white, free lunch, and non\u2013free lunch) and also for female, Hispanic, and free-lunch on all 4 development dimension scales and for whites on the physical development and language development scales. These results are consistent with the findings of prior studies on the implementation of programs using similar emotion self-regulation techniques in elementary, middle, and high schools and tertiary education.43,45,46,53,57\n",
        "\n",
        "The strong evidence of an EHS intervention effect appears robust. Both the matched-groups analysis (in which we controlled for baseline differences in class size and total development score) and the random split-half sample analysis found essentially the same prepostintervention differences in development favoring the intervention group on the total development scale, and also on 3 of the 4 development dimension scales\u2014 social/emotional development, physical development, and language development. The random split-half sample results are noteworthy in that they suggest that on these development measures, it is unlikely that the differences between the 2 groups are due to sample bias and are probably generalizable to children with similar characteristics and in similar educational contexts as those in the intervention group.\n",
        "\n",
        "Overall, the strong, consistent pattern of positive pre-to-postintervention results provides compelling evidence of the efficacy of the EHS program in promoting greater development across the 5 primary measures\u2014total development, social/emotional development, physical development, cognitive development, and language development.\n",
        "\n",
        "The study evolved as an adjunct investigation to the research already being conducted on the development of preschoolers in all schools in the Salt Lake City School District. Some limitations came with this research strategy.\n",
        "\n",
        "One limitation concerns the generalizability of the study's results. There are 2 potential issues: (1) the lack of randomization in sample selection and intervention/control group assignment and (2) the degree to which the study population is broadly representative of the population of preschoolers in the United States as a whole. Though the lack of randomization for sample selection is not an issue, because all 19 schools in the Salt Lake City School District were included, it is a limitation of the criterion-reference procedure used to assign intervention or control group status. Even so, the results from the random split-half sample analysis suggest, in broad terms, that the primary findings appear to be generalizable to preschool children in similar sociogeographic contexts and with similar sociodemographic characteristics. Concerning the second issue, further research will be necessary on samples that are more representative of US preschool children as a whole in order to confirm the efficacy of the EHS program in promoting growth and development more broadly.\n",
        "\n",
        "Another limitation was that the teachers were not completely blinded to the study's goals and desired outcomes and therefore could have consciously or unconsciously acted to affect the results. Although we found little evidence of scoring bias in the teachers' ratings, we cannot definitively rule out such an artifact.\n",
        "\n",
        "A final limitation is that the children's scores are all based on observation, evaluation, and rating from a single source: their teachers. Although we were mostly able to address the basic psychometric issues of rating consistency, measurement validity, reliability, and discrimination in the item analysis we performed, future studies should be conducted using at least 2 independent observers to rate each child's development on the measurement items.\n",
        "\n",
        "Of the key socioemotional competencies in early childhood that lay the foundation for future development and the potential for adult psychosocial growth, well-being, and accomplishment, emotional self-regulation is core.16,17 Yet as noted at the outset, a disturbing proportion of preschool children, especially those from ethnic minority and low socioeconomic family backgrounds, lack the fundamental socioemotional skills needed to learn and function effectively at school. Although the EHS program was developed with the broader goal of enhancing the psychosocial development of all preschool children, it was expected that the program would have particular application in facilitating development in children from disadvantaged family backgrounds and circumstances.\n",
        "\n",
        "Despite the limitations noted above, the results are striking in that there is strong evidence of an intervention effect. First, across all of the analyses performed, a consistent pattern of large, significant differences in growth on the primary development constructs\u2014total development scale, social/emotional development scale, physical development scale, cognitive development scale, and language development scale, plus their 10 subcomponents (all but 2 subcomponents had a large effect size)\u2014is evident for the children receiving the EHS intervention relative to those in the control group who did not. The magnitude of development observed for the intervention-group children is particularly striking, as they started the study with a significant development handicap relative to their peers in the control group. Yet after participating in the EHS program, they had surpassed the latter's development growth by the end of the study.\n",
        "\n",
        "A second important finding is the consistent pattern of pre-to-postintervention differences in total development score between the 2 groups for all of the sociodemographic categories investigated. Importantly, given the study's targeting of ethnic-minority and low\u2013 socioeconomic status students, the evidence shows that the EHS program was effective in boosting the development of boys (with the exception of cognitive development), girls, Hispanic children, and free-lunch students in the intervention group on the 4 development dimensions\u2014social/emotional, physical, cognitive, and language\u2014beyond that of their peers in the control group. And it was effective for non\u2013free lunch and white students in the intervention group, with the exception of cognitive development and language development scores, respectively.\n",
        "\n",
        "A series of additional analyses found that these differences do not appear to be mediated by classroom size or explained by baseline differences in development between the 2 groups of children. Further, the evidence from a random split-half sample analysis corroborates the results for the whole intervention and control group samples and indicates that the findings for all but 1 of the 5 development scales (cognitive development) are robust and likely generalizable to children of comparable sociodemographic characteristics.\n",
        "\n",
        "In sum, the strong, consistent pattern of positive results observed across all analyses is compelling evidence of the efficacy of the EHS program in significantly facilitating a marked growth in development in preschool children.\n",
        "\n",
        "An important point to emphasize is that these results are for very young preschool children, 96% of whom were between 3 and 4 years old. It is both striking and remarkable that children as young as 3 years can begin to learn and practice the emotion self-regulation skills they were taught in the EHS program, which appears to facilitate their psychosocial development. Given that the age range from 3 to 6 years is a period of accelerated neurological growth and psychosocial development, it is likely that the learning and sustained use of these competencies and skills during this important developmental period will readily instantiate a new set point in the young child's nervous system for an optimal pattern of psychophysio-logical function and thereby significantly boost the development trajectory of future psychosocial growth.\n",
        "\n",
        "Establishing this key set point early in the child's life, when neural connectivity is still highly malleable, and then sustaining it throughout the whole educational process with programs building on these foundational skills sets the child on a thriving life course of health, well-being, achievement, and social responsibility. Correspondingly, the integration of programs designed to foster socioemotional competence into educational curricula\u2014beginning in preschool\u2014 should help prevent manifestation of much of the psychosocial dysfunction and pathology that not only robs individuals of a fulfilling life but also results in an enormous cost to our society.\n",
        "\n",
        "Development of the Early HeartSmarts (EHS) program was made possible by a generous grant from the Kalliopeia Foundation, San Rafael, California. We are grateful to the Salt Lake City School District personnel for their willingness to sponsor and implement the EHS evaluation, in particular Dr Patrick Galvin and Ms Donna Anderson for their roles in designing and carrying out data collection for the study. We also thank the teachers in the study, especially those who taught the classes included in the intervention group, and we extend our appreciation to all the children who participated in the study. Jeffrey Goelitz of Institute of HeartMath (IHM) coordinated all aspects of the study with the Salt Lake City School District. We are indebted to Drs Karl H. Pribram and Allan N. Schore for providing helpful comments on an earlier draft of this report. Finally, it should be noted that Dr Raymond Bradley and Dana Tomasino are independent research consultants to IHM, whose involvement in the EHS study began in 2009 after the data were collected.\n",
        "\n",
        "aThe selection of intervention group schools was made by members of the Salt Lake City School District staff.\n",
        "\n",
        "bThe rating process requires the teacher to identify the developmental level of each child for each item using a 4-point scale. The proficiency requirements for each item (Table 1) are phrased in terms of specific behaviors and functional areas (with exemplars) anchored to each level of the rating scale. The Forerunner level represents behaviors that may indicate a developmental delay or that a child has not previously been exposed to that skill and is scored to emphasize the child's strengths upon which future development and instruction can build. While Step III represents complete mastery of a particular goal, Step I and Step II represent distinct successive phases of development a child moves through on the way to mastery.\n",
        "\n",
        "cEffect size (ES) was computed by dividing the mean difference by the pooled standard deviation. Following Cohen's (1988) guidelines for interpreting the meaning of the ES coefficient's magnitude: < 0.10 trivial effect; 0.10\u20130.29 small effect; 0.30\u20130.49 moderate effect; \u2265 0.50 large effect.\n",
        "\n",
        "dThere were too few cases in the intervention group's \u201cEthnicity-other\u201d category (n = 5) for this analysis.\n",
        "\n",
        "Validity and Reliability of Measurement Analysis, Time 1 to Time 3\n",
        "\n",
        "Abbreviations: Min, minimum; max, maximum; SD, standard deviation; SEM, standard error of measurement.\n",
        "\n",
        "\n",
        "[u'This', u'work', u'reports', u'the', u'results', u'of', u'an', u'evaluation', u'study', u'to', u'assess', u'the', u'efficacy', u'of', u'the', u'Early', u'HeartSmarts', u'(EHS)', u'program', u'in', u'schools', u'of', u'the', u'Salt', u'Lake', u'City,', u'Utah,', u'School', u'District.', u'The', u'EHS', u'program', u'is', u'designed', u'to', u'guide', u'teachers', u'with', u'methods', u'that', u'support', u'young', u'children', u'(3\\u20136', u'y', u'old)', u'in', u'learning', u'emotion', u'self-regulation', u'and', u'key', u'age-appropriate', u'socioemotional', u'competencies', u'with', u'the', u'goal', u'of', u'facilitating', u'their', u'emotional,', u'social,', u'and', u'cognitive', u'development.', u'The', u'study', u'was', u'conducted', u'over', u'one', u'school', u'year', u'using', u'a', u'quasiexperimental', u'longitudinal', u'field', u'research', u'design', u'with', u'3', u'measurement', u'points', u'(baseline,', u'preintervention,', u'and', u'postintervention)', u'using', u'The', u'Creative', u'Curriculum', u'Assessment', u'(TCCA),', u'a', u'teacher-scored,', u'50-item', u'instrument', u'measuring', u'students', u'growth', u'in', u'4', u'areas', u'of', u'development:', u'social/emotional,', u'physical,', u'cognitive,', u'and', u'language', u'development.', u'Children', u'in', u'19', u'preschool', u'classrooms', u'in', u'the', u'Salt', u'Lake', u'City', u'School', u'District', u'were', u'divided', u'into', u'intervention', u'and', u'control', u'group', u'samples', u'(n', u'=', u'66', u'and', u'n', u'=', u'309,', u'respectively;', u'mean', u'age', u'=', u'3.6', u'y).', u'The', u'intervention', u'classes', u'were', u'specifically', u'selected', u'to', u'target', u'children', u'of', u'lower', u'socioeconomic', u'and', u'ethnic', u'minority', u'backgrounds.', u'Overall,', u'there', u'is', u'compelling', u'evidence', u'of', u'the', u'efficacy', u'of', u'the', u'EHS', u'program', u'in', u'increasing', u'total', u'psychosocial', u'development', u'and', u'each', u'of', u'the', u'4', u'development', u'areas', u'measured', u'by', u'the', u'TCCA:', u'the', u'results', u'of', u'a', u'series', u'of', u'analyses', u'of', u'covariance', u'found', u'a', u'strong,', u'consistent', u'pattern', u'of', u'large,', u'significant', u'differences', u'on', u'the', u'development', u'measures', u'favoring', u'preschool', u'children', u'who', u'received', u'the', u'EHS', u'program', u'over', u'those', u'in', u'the', u'control', u'group.', u'\\u7814\\u7a76\\u4eba\\u5458\\u5728\\u72b9\\u4ed6\\u5dde\\u76d0\\u6e56\\u57ce\\u5b66\\u533a\\u8fdb', u'\\u884c\\u4e86\\u4e00\\u9879\\u540d\\u4e3aEarly', u'HeartSmarts', u'\\uff08EHS\\uff09\\u7684\\u9879\\u76ee\\uff0c\\u672c\\u6587\\u5bf9\\u8be5\\u9879\\u76ee\\u6709', u'\\u6548\\u6027\\u8bc4\\u4f30\\u7814\\u7a76\\u7684\\u7ed3\\u679c\\u8fdb\\u884c\\u4e86\\u62a5', u'\\u544a\\u3002EHS\\u9879\\u76ee\\u7684\\u76ee\\u7684\\u662f\\u5bf9\\u6559\\u5e08\\u8fdb\\u884c', u'\\u65b9\\u6cd5\\u6307\\u5bfc\\uff0c\\u5e2e\\u52a9\\u5e7c\\u513f\\uff083~6\\u5c81\\uff09\\u5b66', u'\\u4e60\\u81ea\\u6211\\u8c03\\u8282\\u60c5\\u7eea\\u4ee5\\u53ca\\u5173\\u952e\\u7684\\u4e0e\\u5e74', u'\\u9f84\\u76f8\\u9002\\u5e94\\u7684\\u793e\\u4f1a\\u60c5\\u7eea\\u80fd\\u529b\\uff0c\\u5176\\u76ee', u'\\u7684\\u662f\\u4fc3\\u8fdb\\u5e7c\\u513f\\u60c5\\u611f\\u3001\\u793e\\u4ea4\\u80fd\\u529b\\u548c', u'\\u8ba4\\u8bc6\\u80fd\\u529b\\u7684\\u53d1\\u5c55\\u3002\\u8be5\\u7814\\u7a76\\u91c7\\u7528\\u534a', u'\\u9a8c\\u8bc1\\u7eb5\\u5411\\u7814\\u7a76\\u8bbe\\u8ba1\\uff0c\\u5728\\u4e00\\u5b66\\u5e74\\u5185', u'\\u5b9e\\u65bd\\uff0c\\u5e76\\u8bbe\\u7f6e\\u4e86\\u4e09\\u4e2a\\u6d4b\\u91cf\\u70b9\\uff08\\u57fa', u'\\u7ebf\\uff0c\\u5e72\\u9884\\u524d\\u548c\\u5e72\\u9884\\u540e\\uff09\\uff0c\\u4f7f\\u7528\\u521b', u'\\u9020\\u6027\\u8bfe\\u7a0b\\u8bc4\\u4f30\\uff08TCCA\\uff09\\u2014\\u2014\\u6559\\u5e08', u'\\u8ba1\\u5206\\uff0c\\u5305\\u542b50\\u9053\\u9898\\u7684\\u6d4b\\u91cf\\u5de5\\u5177\\uff0c', u'\\u5bf9\\u5b66\\u751f\\u53d1\\u5c55\\u76844\\u4e2a\\u65b9\\u9762\\u8fdb\\u884c\\u6d4b\\u91cf\\uff1a', u'\\u793e\\u4ea4/\\u60c5\\u611f\\uff0c\\u8eab\\u4f53\\u72b6\\u51b5\\uff0c\\u8ba4\\u77e5\\u80fd\\u529b', u'\\u4ee5\\u53ca\\u8bed\\u8a00\\u80fd\\u529b\\u5f00\\u53d1\\u3002\\u7814\\u7a76\\u4eba\\u5458\\u5c06', u'\\u76d0\\u6e56\\u57ce\\u5b66\\u533a19\\u4e2a\\u5b66\\u524d\\u73ed\\u6559\\u5ba4\\u7684\\u513f', u'\\u7ae5\\u5212\\u5206\\u4e3a\\u5e72\\u9884\\u7ec4\\u548c\\u5bf9\\u7167\\u7ec4\\u6837\\u672c\\uff08', u'\\u5206\\u522bn=66\\u548cn=309\\uff1b\\u5e73\\u5747\\u5e74\\u9f84=3.6', u'\\u5c81\\uff09\\u3002\\u672c\\u7814\\u7a76\\u7279\\u522b\\u9009\\u62e9\\u9488\\u5bf9\\u5177\\u6709', u'\\u8f83\\u4f4e\\u7684\\u793e\\u4f1a\\u7ecf\\u6d4e\\u5730\\u4f4d\\u548c\\u5c11\\u6570\\u6c11\\u65cf', u'\\u80cc\\u666f\\u7684\\u513f\\u7ae5\\u8fdb\\u884c\\u5e72\\u9884\\u3002\\u4ece\\u6574\\u4f53\\u4e0a', u'\\u6765\\u8bf4\\uff0c', u'\\u6709\\u663e\\u8457\\u7684\\u8bc1\\u636e\\u80fd\\u591f\\u8bc1', u'\\u660e\\uff0cEHS\\u9879\\u76ee\\u5728\\u4fc3\\u8fdb\\u513f\\u7ae5\\u7684\\u6574\\u4f53\\u793e', u'\\u4f1a\\u5fc3\\u7406\\u53d1\\u5c55\\u548cTCCA\\u6d4b\\u91cf\\u76844\\u4e2a\\u5f00\\u53d1', u'\\u9886\\u57df\\u65b9\\u9762\\u5177\\u6709\\u6709\\u6548\\u6027\\uff1a\\u5bf9\\u4e24\\u4e2a\\u7ec4', u'\\u4e4b\\u95f4\\u7684\\u5dee\\u5f02\\u8fdb\\u884c\\u7684\\u4e00\\u7cfb\\u5217\\u5206\\u6790\\u7ed3', u'\\u679c\\u53d1\\u73b0\\uff0c\\u63a5\\u53d7EHS\\u9879\\u76ee\\u7684\\u5b66\\u524d\\u513f\\u7ae5', u'\\u7ec4\\u4e0e\\u5bf9\\u7167\\u7ec4\\u76f8\\u6bd4\\uff0c\\u5728\\u5404\\u9879\\u80fd\\u529b\\u5f00', u'\\u53d1\\u7684\\u6d4b\\u91cf\\u6307\\u6807\\u4e0a\\u5177\\u6709\\u663e\\u8457\\u4f18\\u52bf\\u3002', u'Este', u'trabajo', u'informa', u'los', u'resultados', u'de', u'un', u'estudio', u'de', u'evaluaci\\xf3n', u'de', u'la', u'eficacia', u'del', u'programa', u'Early', u'Heartsmarts', u'(EHS)', u'en', u'las', u'escuelas', u'del', u'Distrito', u'Escolar', u'de', u'Salt', u'Lake', u'City,', u'Utah.', u'El', u'programa', u'EHS', u'est\\xe1', u'dise\\xf1ado', u'para', u'orientar', u'a', u'los', u'maestros', u'respecto', u'de', u'm\\xe9todos', u'de', u'asistencia', u'a', u'ni\\xf1os', u'peque\\xf1os', u'(entre', u'3', u'y', u'6', u'a\\xf1os', u'de', u'edad)', u'en', u'el', u'aprendizaje', u'de', u't\\xe9cnicas', u'de', u'autorregulaci\\xf3n', u'emocional', u'y', u'competencias', u'socioemocionales', u'fundamentales,', u'adecuadas', u'para', u'su', u'edad,', u'con', u'el', u'fin', u'de', u'favorecer', u'su', u'desarrollo', u'emocional,', u'social', u'y', u'cognitivo.', u'Este', u'estudio', u'se', u'realiz\\xf3', u'durante', u'un', u'a\\xf1o', u'escolar,', u'conforme', u'un', u'dise\\xf1o', u'de', u'investigaci\\xf3n', u'de', u'campo', u'cuasi', u'experimental', u'y', u'longitudinal,', u'dise\\xf1ada', u'con', u'tres', u'puntos', u'de', u'medici\\xf3n', u'(punto', u'de', u'partida,', u'intervenci\\xf3n', u'previa', u'e', u'intervenci\\xf3n', u'posterior),', u'en', u'la', u'que', u'se', u'utiliz\\xf3', u'una', u'Evaluaci\\xf3n', u'del', u'Curr\\xedculo', u'Creativo', u'(TCCA,', u'por', u'sus', u'siglas', u'en', u'ingl\\xe9s),', u'un', u'instrumento', u'calificado', u'por', u'el', u'maestro', u'de', u'50', u'puntos', u'para', u'medir', u'el', u'crecimiento', u'de', u'los', u'estudiantes', u'en', u'4', u'\\xe1reas', u'del', u'desarrollo:', u'social', u'y', u'emocional,', u'f\\xedsico,', u'cognitivo', u'y', u'desarrollo', u'del', u'lenguaje.', u'Los', u'ni\\xf1os', u'de', u'los', u'19', u'salones', u'de', u'clase', u'de', u'nivel', u'preescolar', u'en', u'el', u'Distrito', u'Escolar', u'de', u'Salt', u'Lake', u'City,', u'se', u'analizaron', u'de', u'manera', u'fraccionada', u'seg\\xfan', u'muestras', u'de', u'intervenci\\xf3n', u'y', u'de', u'control', u'de', u'grupo', u'(n=66', u'y', u'n=309,', u'respectivamente;', u'edad', u'promedio=3', u'a', u'6', u'a\\xf1os).', u'Las', u'clases', u'de', u'intervenci\\xf3n', u'fueron', u'seleccionadas', u'espec\\xedficamente', u'para', u'examinar', u'a', u'ni\\xf1os', u'de', u'bajo', u'nivel', u'socioecon\\xf3mico', u'y', u'pertenecientes', u'a', u'minor\\xedas', u'\\xe9tnicas.', u'En', u'general,', u'existen', u'pruebas', u'convincentes', u'de', u'la', u'eficacia', u'del', u'programa', u'EHS', u'para', u'fomentar', u'el', u'desarrollo', u'psicosocial', u'total.', u'Respecto', u'de', u'cada', u'una', u'de', u'las', u'4', u'\\xe1reas', u'de', u'desarrollo', u'que', u'fueron', u'medidas', u'por', u'la', u'TCCA:', u'los', u'resultados', u'de', u'una', u'serie', u'de', u'an\\xe1lisis', u'de', u'la', u'covarianza', u'mostraron', u'un', u'patr\\xf3n', u's\\xf3lido', u'y', u'consistente', u'de', u'diferencias', u'notorias', u'y', u'significativas', u'en', u'las', u'medidas', u'de', u'desarrollo', u'que', u'favorecen', u'a', u'los', u'ni\\xf1os', u'de', u'preescolar', u'que', u'recibieron', u'el', u'programa', u'EHS,', u'respecto', u'de', u'aquellos', u'del', u'grupo', u'de', u'control.', u'Numerous', u'studies', u'have', u'found', u'that', u'people', u'living', u'in', u'situations', u'characterized', u'by', u'social', u'disorganization,', u'instability,', u'isolation,', u'or', u'disconnectedness', u'are', u'at', u'increased', u'risk', u'for', u'acquiring', u'many', u'types', u'of', u'disease.1\\u20135', u'The', u'impact', u'of', u'education\\u2014or', u'more', u'specifically,', u'academic', u'failure\\u2014is', u'not', u'typically', u'associated', u'with', u'communicative', u'disorders', u'and', u'long-term', u'health', u'and', u'wellness;', u'however,', u'James', u'Lynch', u'has', u'provided', u'some', u'sobering', u'statistics', u'that', u'show', u'academic', u'failure', u'(defined', u'by', u'completing', u'less', u'than', u'10', u'years', u'of', u'schooling)', u'produces', u'a', u'greater', u'risk', u'for', u'heart', u'disease', u'than', u'smoking,', u'obesity,', u'lack', u'of', u'exercise,', u'and', u'excessive', u'alcohol', u'consumption', u'combined.6', u'He', u'has', u'shown', u'that', u'the', u'link', u'between', u'academic', u'failure', u'and', u'disease', u'in', u'later', u'life', u'is', u'related', u'to', u'a', u'lack', u'of', u'social', u'and', u'emotional', u'competencies.', u'The', u'foundations', u'of', u'the', u'competencies', u'required', u'for', u'both', u'academic', u'and', u'social', u'success', u'are', u'developed', u'in', u'a', u\"child's\", u'early', u'years', u'of', u'development', u'and', u'are', u'directly', u'related', u'to', u'their', u'ability', u'to', u'self-regulate.', u'In', u'essence,', u'social', u'competence', u'is', u'the', u'ability', u'to', u'get', u'along', u'with', u'others', u'in', u'a', u'constructive', u'manner', u'and', u'to', u'build', u'and', u'maintain', u'positive', u'relationships', u'with', u'others.7', u'Young', u'children', u'who', u'demonstrate', u'this', u'ability', u'are', u'more', u'likely', u'to', u'have', u'positive', u'developmental', u'outcomes,', u'including', u'higher', u'intelligence', u'quotient', u'scores,', u'positive', u'self-worth,', u'and', u'better', u'mental', u'health.8\\u201312', u'Social', u'competence', u'and', u'positive', u'social', u'behavior', u'are', u'rooted', u'in', u'and', u'built', u'upon', u'a', u\"child's\", u'ability', u'to', u'self-regulate', u'attention,', u'emotion,', u'and', u'behavior.13', u'Self-regulation', u'involves', u'the', u'ability', u'to', u'actively', u'and', u'flexibly', u'direct', u\"one's\", u'own', u'behavior,', u'emotions,', u'and', u'attention', u'through', u'effortful', u'internal', u'control', u'and', u'involves', u'the', u'ability', u'to', u'inhibit', u'the', u'expression', u'of', u'a', u'behavior,', u'emotion,', u'or', u'focus', u'of', u'attention', u'when', u'this', u'is', u'required.8,9', u'In', u'their', u'review', u'of', u'recent', u'advances', u'in', u'neuroscience,', u'Immordino-Yang', u'and', u'Damasio', u'conclude', u'that', u'the', u'\\u201cprocesses', u'of', u'emotion\\u201d', u'also', u'have', u'a', u'profound', u'effect', u'on', u'the', u'very', u'elements', u'of', u'cognition', u'targeted', u'in', u'education:', u'Recent', u'advances', u'in', u'neuroscience', u'are', u'highlighting', u'connections', u'between', u'emotion,', u'social', u'functioning,', u'and', u'decision', u'making', u'that', u'have', u'the', u'potential', u'to', u'revolutionize', u'our', u'understanding', u'of', u'the', u'role', u'of', u'affect', u'in', u'education.', u'In', u'particular,', u'the', u'neurobiological', u'evidence', u'suggests', u'that', u'the', u'aspects', u'of', u'cognition', u'that', u'we', u'recruit', u'most', u'heavily', u'in', u'schools,', u'namely', u'learning,', u'attention,', u'memory,', u'decision', u'making,', u'and', u'social', u'functioning,', u'are', u'both', u'profoundly', u'affected', u'by', u'and', u'subsumed', u'within', u'the', u'processes', u'of', u'emotion.14', u'Their', u'conclusions', u'mirror', u'those', u'found', u'in', u'research', u'in', u'psychophysiology', u'that', u'shows', u'that', u'learning', u'effective', u'emotion', u'regulation', u'techniques', u'can', u'significantly', u'enhance', u'attention,', u'memory', u'recall,', u'comprehension,', u'reasoning', u'ability,', u'creativity,', u'and', u'task', u'performance', u'in', u'adults', u'and', u'children', u'(see', u'the', u'review', u'in', u'McCraty', u'et', u'al,', u'2009).15', u\"Schore's16\", u'syntheses', u'of', u'the', u'research', u'on', u'the', u'neurobiology', u'of', u'early', u'childhood', u'development', u'also', u'shows', u'that', u'learning', u'how', u'to', u'process', u'and', u'self-regulate', u'emotional', u'experience', u'is', u'the', u'earliest,', u'most', u'fundamental', u'socioemotional', u'skill', u'that', u'not', u'only', u'facilitates', u'neurological', u'growth', u'but', u'also', u'determines', u'the', u'potential', u'for', u'subsequent', u'psychosocial', u'development.', u'However,', u'when', u'the', u'young', u\"child's\", u'capacity', u'for', u'emotional', u'self-regulation', u'is', u'lacking', u'or', u'the', u'skills', u'are', u'seriously', u'impaired,', u'\\u201caffect', u'dysregulation,\\u201d', u'as', u'Schore17', u'aptly', u'labels', u'it,', u'is', u'the', u'result.', u'The', u'inability', u'to', u'appropriately', u'self-regulate', u'feelings', u'and', u'emotions', u'has', u'its', u'origins', u'in', u'early', u'childhood', u'maltreatment', u'and', u'has', u'enduring', u'negative', u'consequences', u'for', u'the', u'developing', u'frontal', u'cortex,', u'resulting', u'in', u'structurally', u'defective', u'neurobiological', u'organization,', u'which', u'in', u'turn', u'impairs', u'the', u'young', u\"child's\", u'cognitive', u'development', u'and', u'produces', u'disturbances', u'in', u'attachment', u'formation.16,18', u'In', u'addition', u'to', u'its', u'implications', u'for', u'impeded', u'neuropsychosocial', u'development,', u'this', u'inability', u'to', u'appropriately', u'self-regulate', u'feelings', u'and', u'emotions', u'results', u'in', u'impulsive', u'and', u'aggressive', u'behavior,', u'attentional', u'and', u'learning', u'difficulties,', u'an', u'inability', u'to', u'engage', u'in', u'prosocial', u'relationships,', u'and', u'difficulty', u'in', u'establishing', u'stable', u'social', u'bonds.17', u'It', u'is', u'not', u'surprising,', u'therefore,', u'that', u'affect', u'dysregulation', u'has', u'been', u'highlighted', u'in', u'the', u'research', u'literature', u'repeatedly', u'with', u'regard', u'to', u'its', u'devastating', u'effects', u'on', u'multiple', u'domains', u'of', u'development,', u'including', u'cognition,', u'language', u'and', u'literacy,', u'and', u'socioemotional', u'skills.19\\u201323', u'Yet', u'as', u'fundamental', u'as', u'emotion', u'regulation', u'is', u'to', u'all', u'aspects', u'of', u'psychosocial', u'development,', u'the', u'educational', u'system', u'remains', u'woefully', u'deficient', u'in', u'teaching', u'children', u'effective', u'strategies', u'for', u'understanding', u'and', u'regulating', u'their', u'feelings', u'and', u'emotions.24\\u201328', u'There', u'is', u'a', u'predominant', u'focus', u'on', u'teaching', u'children', u'purely', u'\\u201cacademic\\u201d', u'skills', u'without', u'providing', u'adequate', u'education', u'in', u'the', u'socioemotional', u'foundations', u'underlying', u'the', u'development', u'of', u'the', u'very', u'cognitive', u'capacities', u'required', u'for', u'academic', u'performance.14', u'This', u'is', u'exacerbated', u'by', u'the', u'disturbing', u'number', u'of', u'children\\u201420%', u'to', u'30%', u'by', u'some', u'estimates29\\u201331\\u2014who', u'start', u'school', u'lacking', u'the', u'basic', u'social', u'and', u'motional', u'skills', u'needed', u'to', u'learn', u'and', u'get', u'along', u'with', u'others.32,33', u'Moreover,', u'children', u'living', u'in', u'poverty,', u'which', u'disproportionately', u'affects', u'ethnic', u'minorities,', u'are', u'at', u'an', u'increased', u'risk', u'for', u'social,', u'emotional,', u'behavioral,', u'and', u'learning', u'problems.31,34,35', u'Indeed,', u'as', u'many', u'as', u'30%', u'of', u'elementary', u'school', u'children', u'from', u'low-income', u'families', u'and', u'about', u'the', u'same', u'proportion', u'of', u'preschoolers', u'in', u'Head', u'Start', u'programs', u'do', u'not', u'have', u'the', u'necessary', u'social', u'and', u'emotional', u'skills', u'for', u'school.29', u'According', u'to', u'Boyd', u'et', u'al,', u'Knowing', u'the', u'ABCs', u'is', u'not', u'enough.', u'To', u'be', u'prepared', u'for', u'school,', u'children', u'also', u'must', u'be', u'excited', u'and', u'curious', u'about', u'learning', u'and', u'confident', u'that', u'they', u'can', u'succeed', u'(motivational', u'qualities).', u'They', u'must', u'be', u'able', u'to', u'understand', u'the', u'feelings', u'of', u'others,', u'control', u'their', u'own', u'feelings', u'and', u'behaviors,', u'and', u'get', u'along', u'with', u'their', u'peers', u'and', u'teachers', u'(socio-emotional', u'skills).', u'Indeed,', u'kindergarten', u'teachers', u'rate', u'these', u'motivational', u'and', u'socio-emotional', u'skills', u'as', u'more', u'important', u'to', u'school', u'success', u'than', u'being', u'able', u'to', u'hold', u'a', u'pencil', u'or', u'read.', u'They', u'want', u'children', u'to', u'be', u'ready', u'for', u'learning\\u2014able', u'to', u'cooperate,', u'follow', u'directions,', u'demonstrate', u'self-control,', u'and', u'\\u201cpay', u'attention.\\u201d29', u'To', u'help', u'rectify', u'this', u'problem,', u'the', u'Institute', u'of', u'HeartMath', u'(IHM)', u'has', u'developed', u'a', u'program', u'specifically', u'targeted', u'to', u'better', u'equip', u'children', u'aged', u'3', u'to', u'6', u'years', u'with', u'the', u'foundational', u'emotional', u'self-regulation', u'and', u'social', u'competencies', u'skills', u'required', u'for', u'success', u'in', u'school', u'and', u'life.', u'Called', u'Early', u'HeartSmarts', u'(EHS),36', u'the', u'program', u'was', u'designed', u'to', u'provide', u'teachers', u'with', u'a', u'curriculum', u'to', u'guide', u'and', u'support', u'young', u'children', u'in', u'learning', u'several', u'key', u'age-appropriate', u'emotion', u'self-regulation', u'techniques', u'and', u'social', u'competencies,', u'with', u'the', u'goal', u'of', u'facilitating', u'the', u\"children's\", u'emotional,', u'cognitive,', u'and', u'psychosocial', u'development.', u'Based', u'on', u'almost', u'2', u'decades', u'of', u'research', u'on', u'the', u'psychophysiology', u'of', u'emotions', u'and', u'heart-brain', u'communication,37\\u201342', u'the', u'EHS', u'program', u'is', u'the', u'latest', u'in', u'a', u'series', u'of', u'programs', u'IHM', u'has', u'developed', u'to', u'teach', u'schoolchildren', u'emotion', u'self-regulation', u'techniques.43', u'Research', u'has', u'shown', u'these', u'programs', u'to', u'be', u'effective', u'in', u'improving', u'emotional', u'stability,', u'psychosocial', u'functioning,', u'learning,', u'and', u'academic', u'performance', u'at', u'the', u'elementary,', u'middle', u'school,', u'high', u'school,', u'college,', u'and', u'graduate', u'levels.43\\u201346', u'This', u'work', u'reports', u'the', u'results', u'of', u'an', u'initial', u'evaluation', u'study', u'conducted', u'to', u'assess', u'the', u'efficacy', u'of', u'the', u'EHS', u'program', u'in', u'preschool', u'classes', u'in', u'the', u'Salt', u'Lake', u'City,', u'Utah,', u'School', u'District.', u'The', u'EHS', u'program', u'was', u'designed', u'to', u'facilitate', u'emotional', u'awareness', u'and', u'psychosocial', u'development', u'in', u'young', u'children', u'3', u'to', u'6', u'years', u'of', u'age.', u'To', u'achieve', u'this', u'goal,', u'the', u'EHS', u'program', u'provides', u'teachers', u'with', u'a', u'curriculum', u'to', u'guide', u'and', u'support', u'young', u'children', u'in', u'learning', u'several', u'key', u'emotional', u'and', u'social', u'competencies', u'known', u'to', u'facilitate', u'psychosocial', u'development', u'(Table', u'1):', u'how', u'to', u'recognize', u'and', u'better', u'understand', u'basic', u'emotional', u'states,', u'how', u'to', u'self-regulate', u'emotions,', u'ways', u'to', u'strengthen', u'the', u'expression', u'of', u'positive', u'feelings,', u'ways', u'to', u'improve', u'peer', u'relations,', u'and', u'skills', u'for', u'developing', u'problem-solving.', u'Synopsis', u'of', u'the', u'Early', u'HeartSmarts', u'Program', u'How', u'to', u'recognize', u'and', u'better', u'understand', u'basic', u'emotional', u'states,', u'How', u'to', u'regulate', u'emotions,', u'Ways', u'to', u'strengthen', u'the', u'expression', u'of', u'positive', u'feeling,', u'Ways', u'to', u'improve', u'peer', u'relations,', u'and', u'Skills', u'for', u'developing', u'problem', u'solving.', u'Connecting', u'the', u'physical', u'and', u'emotional', u'aspects', u'of', u'the', u'heart:', u'Beginning', u'with', u'a', u'model', u'of', u'a', u'heart,', u'children', u'begin', u'exploring', u'the', u'functions', u'of', u'the', u'heart.', u'The', u'playing', u'of', u'different', u'heartbeat', u'sounds', u'and', u'the', u'use', u'of', u'a', u'stethoscope', u'make', u'this', u'experience', u'more', u'real.', u'Children', u'move', u'from', u'the', u'physical', u'heart', u'to', u'the', u'emotional', u'heart', u'through', u'conversation', u'led', u'by', u'the', u'Bear', u'Heart', u'puppet.', u'Recognizing', u'and', u'understanding', u'emotions:', u'Children', u'learn', u'to', u'recognize', u'and', u'better', u'understand', u'5', u'basic', u'emotions', u'(happy,', u'sad,', u'angry,', u'afraid,', u'and', u'peaceful)', u'through', u'a', u'series', u'of', u'photo', u'emotion', u'cards.', u'To', u'help', u'with', u'emotional', u'self-regulation,', u'2', u'simple', u'techniques', u'(described', u'below)', u'are', u'taught', u'by', u'Bear', u'Heart.', u'The', u'Shift', u'and', u'Shine', u'technique', u'strengthens', u\"children's\", u'experience', u'of', u'positive', u'feelings', u'like', u'love', u'and', u'care', u'while', u'Heart', u'Warmer', u'helps', u'with', u'impulse', u'control', u'and', u'managing', u'upsetting', u'emotions.', u'Expressing', u'love', u'and', u'care', u'to', u'family', u'and', u'friends:', u'Playing', u'Heart', u'Ball', u'and', u'participating', u'in', u'a', u'mini-unit', u'around', u'The', u'Kissing', u'Hand', u'book', u'supports', u'the', u'expression', u'and', u'experience', u'of', u'positive', u'emotions.', u'Dramatization', u'further', u'supports', u'the', u'developmental', u'skill', u'of', u'learning', u'to', u'communicate', u'what', u'one', u'is', u'feeling.', u'Learning', u'problem-solving', u'skills:', u'Using', u'photo', u'cards', u'that', u'portray', u'typical', u'age-related', u'issues', u'and', u'a', u'large', u'instructional', u'poster,', u'children', u'learn', u'problem-solving', u'and', u'socialization', u'skills', u'with', u'their', u'peers.', u'An', u'album', u'of', u'songs', u'is', u'woven', u'throughout', u'the', u'program', u'to', u'support', u'the', u'learning', u'of', u'key', u'ideas', u'and', u'skills.', u'Emotional', u'self-regulation', u'Techniques:', u'This', u'segment', u'of', u'the', u'program', u'includes', u'instructions', u'for', u'the', u'Shift', u'and', u'Shine', u'and', u'Heart', u'Warmer', u'techniques,', u'which', u'are', u'taught', u'to', u'help', u'children', u'develop', u'skills', u'for', u'greater', u'emotional', u'self-control.', u'Begin', u'by', u'shifting', u'your', u'attention', u'to', u'the', u'area', u'around', u'your', u'heart.', u'It', u'helps', u'to', u'put', u'your', u'hand', u'over', u'your', u'heart', u'to', u'begin', u'with.', u'Now', u'pretend', u'to', u'breathe', u'in', u'and', u'out', u'of', u'your', u'heart', u'area.', u'Take', u'three', u'slow', u'breaths.', u'Think', u'of', u'someone', u'or', u'something', u'that', u'makes', u'you', u'feel', u'happy.', u'Feel', u'that', u'warm,', u'happy', u'feeling', u'in', u'your', u'heart', u'and', u'then', u'send', u'or', u'shine', u'that', u'love', u'to', u'someone', u'special.', u'Teacher:', u'Afterwards,', u'ask', u'the', u'child', u'if', u'he', u'or', u'she', u'sent', u'that', u'feeling', u'to', u'someone', u'or', u'something', u'special.', u'Then', u'ask:', u'How', u'did', u'it', u'make', u'you', u'feel', u'in', u'your', u'heart?', u'Begin', u'by', u'putting', u'your', u'attention', u'on', u'the', u'area', u'around', u'your', u'heart.', u'It', u'helps', u'to', u'put', u'your', u'hand', u'over', u'your', u'heart', u'to', u'begin', u'with.', u'Teacher:', u'Model', u'by', u'putting', u'hand', u'over', u'your', u'heart.', u'Now', u'pretend', u'to', u'breathe', u'in', u'and', u'out', u'of', u'your', u'heart', u'area.', u'Take', u'3', u'slow', u'breaths.', u'Imagine', u'that', u'your', u'body', u'feels', u'nice', u'from', u'sitting', u'in', u'warm', u'sunshine.', u'Breathe', u'in', u'a', u'feeling', u'of', u'warm', u'sunshine.', u'Key', u'among', u'these', u'competencies', u'are', u'two', u'simple', u'emotion', u'shifting', u'tools:', u'\\u201cShift', u'and', u'Shine\\u201d', u'and', u'\\u201cHeart', u'Warmer.\\u201d', u'These', u'tools', u'were', u'specifically', u'adapted', u'from', u'the', u'HeartMath', u'system', u'of', u'emotional', u'management', u'tools', u'to', u'facilitate', u'young', u\"children's\", u'learning', u'of', u'emotion', u'self-regulation', u'skills.', u'Research', u'has', u'shown', u'that', u'the', u'positive', u'emotion-focused', u'tools', u'and', u'techniques', u'that', u'form', u'the', u'foundation', u'of', u'the', u'EHS', u'program', u'can', u'facilitate', u'emotional', u'self-regulation', u'by', u'teaching', u'individuals,', u'including', u'children,', u'the', u'ability', u'to', u'make', u'an', u'intentional', u'shift', u'to', u'a', u'specific', u'psychophysiological', u'state,', u'termed', u'psychophysiological', u'coherence', u'(described', u'below).', u'This', u'state', u'has', u'been', u'shown', u'to', u'be', u'associated', u'with', u'optimal', u'psychosocial', u'growth,', u'learning,', u'and', u'performance.39\\u201341', u'The', u'basis', u'of', u'this', u'ability', u'to', u'make', u'such', u'a', u'shift', u'lies', u'in', u'the', u'fundamental', u'role', u'the', u'heart', u'plays', u'in', u'the', u'emotional', u'system', u'and', u'the', u'critical', u'communication', u'link', u'between', u'the', u'heart', u'and', u'the', u'brain.', u'It', u'is', u'now', u'known', u'that', u\"heart's\", u'pattern', u'of', u'rhythmic', u'activity', u'is', u'directly', u'responsive', u'to', u'changes', u'in', u'emotional', u'states,', u'as', u'can', u'be', u'seen', u'in', u'the', u'real-time', u'example', u'shown', u'in', u'Figure', u'1.40,41', u'During', u'the', u'experience', u'of', u'stress', u'and', u'negative', u'emotions', u'such', u'as', u'anger,', u'frustration,', u'and', u'anxiety,', u'heart', u'rhythms', u'become', u'more', u'erratic', u'and', u'disordered\\u2014incoherent.', u'In', u'such', u'states,', u'the', u'corresponding', u'patterns', u'of', u'afferent', u'neurological', u'signals', u'sent', u'from', u'the', u'heart', u'to', u'the', u'brain', u'produce', u'an', u'inhibition', u'of', u'higher', u'cognitive', u'functions', u'(Figure', u'2),', u'impeding', u'brain', u'processes', u'necessary', u'for', u'functions', u'such', u'as', u'attention,', u'memory', u'recall,', u'abstract', u'reasoning,', u'problem', u'solving,', u'creativity,', u'and', u'the', u'self-regulation', u'of', u'emotion', u'and', u'behavior.', u'This', u'cardiac', u'neurological', u'input', u'also', u'interacts', u'with', u'the', u\"brain's\", u'emotional', u'centers,', u'where', u'it', u'acts', u'to', u'reinforce', u'feelings', u'of', u'emotional', u'stress', u'and', u'instability.47,48', u'Thus,', u'when', u'students', u'come', u'to', u'school', u'in', u'a', u'negative', u'emotional', u'state,', u'the', u'\\u201cinner', u'noise\\u201d', u'produced', u'by', u'such', u'psychophysiological', u'incoherence', u'impairs', u'the', u'very', u'cognitive', u'resources', u'needed', u'for', u'learning,', u'academic', u'performance,', u'and', u'prosocial', u'behavior.43,45', u'Real-time', u'heart', u'rhythm', u'patterns', u'during', u'different', u'emotional', u'states.', u'Conversely,', u'the', u'experience', u'of', u'positive', u'emotions,', u'such', u'as', u'love', u'or', u'appreciation,', u'is', u'associated', u'with', u'a', u'highly', u'ordered,', u'smooth,', u'sine', u'wavelike', u'pattern', u'of', u'heart', u'rhythm', u'activity\\u2014heart', u'rhythm', u'coherence', u'(Figure', u'1).', u'In', u'such', u'positive', u'affective', u'states,', u'the', u'heart', u'transmits', u'an', u'ordered', u'and', u'harmonious', u'signal', u'to', u'the', u'higher', u'brain', u'centers', u'(Figure', u'2),', u'facilitating', u'cognitive', u'and', u'emotion', u'regulation', u'abilities', u'and', u'typically', u'producing', u'increased', u'emotional', u'stability', u'and', u'enhanced', u'attention,', u'memory', u'recall,', u'comprehension,', u'reasoning', u'ability,', u'creativity,', u'and', u'task', u'performance', u'(see', u'research', u'reviewed', u'in', u'McCraty', u'et', u'al,', u'2009).15', u'This', u'is', u'a', u'particularly', u'important', u'point', u'in', u'understanding', u'the', u'operative', u'mechanism', u'of', u'the', u'HeartMath', u'techniques', u'taught', u'in', u'the', u'EHS', u'program.', u'Afferent', u'pathways', u'by', u'which', u'heart', u'activity', u'affects', u'brain', u'function.', u'Furthermore,', u'sustained', u'positive', u'emotions', u'induce', u'a', u'system-wide', u'shift', u'to', u'psychophysiological', u'coherence,15,41', u'a', u'state', u'in', u'which', u'the', u'brain,', u'nervous', u'system,', u'and', u'entire', u'body', u'operate', u'with', u'increased', u'synchronization', u'and', u'harmony', u'(Figure', u'3).', u'Physiological', u'correlates', u'of', u'the', u'coherence', u'state', u'include', u'increased', u'synchronization', u'between', u'the', u'2', u'branches', u'of', u'the', u'autonomic', u'nervous', u'system;', u'a', u'shift', u'in', u'autonomic', u'balance', u'toward', u'increased', u'parasympathetic', u'activity;', u'increased', u'vascular', u'system', u'resonance;', u'increased', u'heart-brain', u'synchronization', u'(the', u\"brain's\", u'\\u03b1', u'rhythms', u'exhibit', u'greater', u'synchronicity', u'with', u'the', u'heartbeat);', u'and', u'entrainment', u'between', u'the', u'heart', u'rhythm', u'and', u'other', u'physiological', u'oscillatory', u'systems.', u'The', u'coherence', u'state', u'is', u'also', u'marked', u'by', u'reduced', u'perceptions', u'of', u'emotional', u'stress,', u'enhanced', u'positive', u'emotional', u'experience,', u'and', u'improved', u'cognitive', u'function', u'and', u'task', u'performance.15,41', u'Moreover,', u'studies', u'have', u'shown', u'that', u'psychophysiological', u'states', u'such', u'as', u'coherence', u'that', u'naturally', u'enhance', u'para-sympathetic', u'activity', u'play', u'an', u'important', u'role', u'in', u'facilitating', u\"children's\", u'development', u'of', u'effective', u'emotion', u'regulation,', u'prosocial', u'behavior,', u'and', u'cognitive', u'function.49,50', u'Entrainment', u'of', u'physiological', u'systems', u'during', u'psychophysiological', u'coherence.', u'Abbreviations:', u'AMP,', u'amplitude;', u'BPM,', u'beats', u'per', u'minute;', u'HRV,', u'heart', u'rate', u'variability;', u'PTT,', u'pulse', u'transit', u'time.', u'A', u'pioneering', u'discovery', u'was', u'that', u'the', u'psychophysiological', u'coherence', u'state', u'can', u'be', u'intentionally', u'generated.', u'This', u'shift', u'to', u'coherence', u'can', u'be', u'achieved', u'by', u'using', u'a', u'positive', u'emotion-based', u'system', u'of', u'easy-to-use', u'tools', u'and', u'techniques.51,52(See', u'Figure', u'1', u'for', u'a', u'real-time', u'example', u'of', u'this', u'shift.)', u'Briefly,', u'these', u'techniques', u'couple', u'an', u'intentional', u'shift', u'in', u'attention', u'to', u'the', u'physical', u'area', u'of', u'the', u'heart', u'with', u'the', u'self-activation', u'of', u'a', u'positive', u'emotion', u'like', u'love', u'or', u'appreciation.', u'This', u'rapidly', u'initiates', u'a', u'distinct', u'shift', u'to', u'increased', u'coherence', u'in', u'the', u\"heart's\", u'pattern', u'of', u'rhythmic', u'activity.', u'In', u'turn,', u'this', u'produces', u'a', u'change', u'in', u'the', u'pattern', u'of', u'afferent', u'cardiac', u'signals', u'sent', u'to', u'the', u'brain,', u'which', u'reinforces', u'the', u'self-generated', u'positive', u'emotional', u'shift', u'and', u'makes', u'it', u'easier', u'to', u'sustain.', u'Typically,', u'the', u'shift', u'to', u'coherence', u'induces', u'enhancements', u'in', u'perception', u'and', u'cognition', u'that', u'enable', u'more', u'effective', u'memory,', u'reasoning,', u'decision', u'making,', u'and', u'action', u'when', u'confronted', u'with', u'stressful', u'or', u'challenging', u'situations.', u'Furthermore,', u'with', u'regular', u'practice,', u'these', u'physiological,', u'emotional,', u'and', u'cognitive', u'patterns', u'become', u'increasingly', u'familiar', u'to', u'the', u'brain,', u'ultimately', u'establishing', u'a', u'new', u'set', u'point', u'by', u'which', u'the', u'system', u'then', u'strives', u'to', u'maintain', u'these', u'upgraded,', u'healthier', u'patterns', u'of', u'psycho-physiological', u'function.', u'The', u'occurrence', u'of', u'such', u'a', u'psychophysiological', u'\\u201crepatterning\\u201d', u'process', u'facilitated', u'by', u'the', u'HeartMath', u'system', u'of', u'coherence-building', u'techniques', u'is', u'supported', u'by', u'studies', u'conducted', u'in', u'diverse', u'populations,', u'documenting', u'enduring', u'improvements', u'in', u'health,', u'emotional', u'well-being,', u'attitudes,', u'behaviors,', u'and', u'relationships', u'in', u'individuals', u'who', u'practiced', u'these', u'techniques', u'over', u'several', u\"months'\", u'time.53\\u201356', u'Research', u'also', u'supports', u'the', u'efficacy', u'of', u'this', u'approach', u'in', u'educational', u'settings,', u'where', u'the', u'introduction', u'of', u'programs', u'incorporating', u'coherence-building', u'tools', u'and', u'techniques', u'at', u'the', u'elementary,', u'middle', u'school,', u'high', u'school,', u'college,', u'and', u'graduate', u'levels', u'has', u'been', u'demonstrated', u'to', u'improve', u'emotional', u'disposition,', u'psychosocial', u'functioning,', u'learning,', u'test', u'anxiety', u'management,', u'and', u'academic', u'performance.43,45,46,53,57', u'Controlled', u'laboratory', u'experiments', u'using', u'electrophysiological', u'measures', u'have', u'also', u'shown', u'that', u'both', u'middle', u'school', u'and', u'high', u'school', u'students', u'can', u'acquire', u'the', u'ability', u'to', u'self-activate', u'the', u'coherence', u'state', u'by', u'using', u'the', u'HeartMath', u'emotion', u'self-regulation', u'tools', u'and', u'that', u'they', u'are', u'able', u'to', u'effectively', u'apply', u'this', u'skill', u'during', u'a', u'stressful', u'or', u'challenging', u'situation.46,53', u'The', u'study', u'evolved', u'informally', u'as', u'a', u'research', u'opportunity', u'resulting', u'from', u'discussions', u'between', u\"IHM's\", u'education', u'division', u'staff', u'and', u'officials', u'in', u'the', u'Salt', u'Lake', u'City,', u'Utah,', u'School', u'District.', u'The', u'study', u'was', u'conducted', u'in', u'the', u'2006\\u20132007', u'school', u'year', u'on', u'all', u'preschool', u'classes', u'in', u'the', u'district', u'and', u'employed', u'a', u'quasi-experimental,', u'longitudinal', u'field', u'research', u'design', u'with', u'intervention', u'and', u'control', u'groups.', u'The', u'Creative', u'Curriculum', u'Assessment', u'instrument', u'(TCCA)', u'was', u'administered', u'by', u'teachers,', u'who', u'evaluated', u'each', u'child', u'on', u'50', u'items', u'measuring', u'student', u'growth', u'on', u'4', u'development', u'dimensions\\u2014social/emotional,', u'physical,', u'cognitive,', u'and', u'language', u'development58\\u2014at', u'3', u'measurement', u'moments', u'over', u'the', u'course', u'of', u'the', u'school', u'year.', u'There', u'were', u'a', u'total', u'of', u'19', u'schools', u'in', u'the', u'study,', u'each', u'with', u'one', u'preschool', u'class.', u'Students', u'in', u'the', u'preschool', u'classes', u'were', u'divided', u'into', u'intervention', u'and', u'control', u'group', u'samples,', u'in', u'which', u'classes', u'in', u'the', u'former', u'were', u'specifically', u'selected', u'to', u'target', u'children', u'of', u'lower', u'socioeconomic', u'and', u'ethnic', u'minority', u'family', u'backgrounds.', u'Three', u'preschool', u'classes', u'constituted', u'the', u'intervention', u'group', u'to', u'which', u'the', u'EHS', u'program', u'was', u'provided;', u'the', u'total', u'student', u'count', u'for', u'these', u'classes', u'was', u'66', u'preschoolers.a', u'Sixteen', u'preschool', u'classes', u'from', u'the', u'remaining', u'schools', u'constituted', u'the', u'control', u'group,', u'which', u'had', u'a', u'total', u'student', u'count', u'of', u'309.', u'The', u'study', u'hypothesis', u'was', u'that,', u'relative', u'to', u'the', u'control', u'group,', u'children', u'in', u'the', u'intervention', u'group', u'would', u'exhibit', u'an', u'increased', u'level', u'of', u'development', u'along', u'the', u'4', u'TCCA', u'development', u'dimensions', u'of', u'psychosocial', u'growth\\u2014social', u'and', u'emotional,', u'physical,', u'cognitive,', u'and', u'language', u'development\\u2014following', u'exposure', u'to', u'the', u'EHS', u'program', u'over', u'the', u'school', u'year', u'study', u'period.', u'In', u'late', u'January', u'2007,', u'two', u'members', u'of', u\"IHM's\", u'Education', u'Division', u'conducted', u'a', u'1-day', u'training', u'for', u'teachers', u'selected', u'to', u'introduce', u'the', u'EHS', u'program', u'into', u'their', u'preschool', u'classes.', u'The', u'goal', u'of', u'the', u'training', u'was', u'to', u'provide', u'the', u'teachers', u'with', u'a', u'working', u'familiarity', u'with', u'the', u'scientific', u'foundation', u'of', u'the', u'HeartMath', u'System', u'as', u'well', u'as', u'the', u'EHS', u'concepts,', u'tools,', u'techniques,', u'and', u'materials', u'prior', u'to', u'their', u'beginning', u'classroom', u'instruction.', u'Teachers', u'then', u'delivered', u'the', u'EHS', u'program', u'(presented', u'in', u'summary', u'form', u'in', u'Table', u'1)', u'to', u'their', u'students', u'throughout', u'the', u'rest', u'of', u'the', u'school', u'year', u'through', u'the', u'end', u'of', u'May', u'2007.', u'TCCA', u'instrument', u'has', u'been', u'psychometrically', u'validated', u'as', u'an', u'assessment', u'instrument', u'and', u'is', u'widely', u'used', u'in', u'schools', u'throughout', u'the', u'United', u'States.', u'It', u'was', u'adopted', u'by', u'the', u'Salt', u'Lake', u'City', u'School', u'District', u'as', u'a', u'standardized', u'means', u'of', u'systematically', u'assessing', u'the', u'psychosocial', u'development', u'of', u'all', u'preschool', u'students', u'in', u'the', u'19', u'schools', u'in', u'the', u'district.', u'The', u'TCCA', u'is', u'organized', u'into', u'4', u'distinct', u'dimensions', u'covering', u'the', u'social/emotional,', u'physical,', u'cognitive,', u'and', u'language', u'areas', u'of', u'a', u\"child's\", u'development.', u'Each', u'dimension', u'is', u'divided', u'into', u'subcategories', u'and', u'then', u'measurement', u'items', u'on', u'which', u'the', u'teacher', u'evaluates', u'and', u'scores', u'each', u'child.', u'Altogether,', u'there', u'are', u'50', u'measurement', u'items\\u201413', u'in', u'social/emotional', u'development,', u'8', u'in', u'physical', u'development,', u'16', u'in', u'cognitive', u'development,', u'and', u'13', u'in', u'language', u'development.', u'For', u'each', u'item,', u'the', u'teachers', u'assessed', u'and', u'scored', u'each', u\"child's\", u'development', u'on', u'a', u'4-point', u'competency/proficiency', u'rating', u'scale:', u'0', u'=', u'Forerunners;', u'1', u'=', u'Step', u'I;', u'2', u'=', u'Step', u'II;', u'3', u'=', u'Step', u'III.b', u'Over', u'the', u'2006\\u20132007', u'school', u'year,', u'the', u'teachers', u'completed', u'the', u'TCCA', u'3', u'times:', u'the', u'first', u'(baseline', u'measurement)', u'in', u'October,', u'2006;', u'the', u'second', u'(preintervention', u'measurement)', u'in', u'early', u'January,', u'2007;', u'and', u'the', u'third', u'(postintervention', u'measurement)', u'at', u'the', u'end', u'of', u'April,', u'2007.', u'Table', u'2', u'shows', u'the', u'breakdown', u'of', u'the', u'study', u'population', u'in', u'terms', u'of', u'sociodemographic', u'characteristics.', u'Aggregated', u'across', u'the', u'3', u'intervention', u'and', u'16', u'control', u'schools,', u'there', u'were', u'a', u'total', u'of', u'375', u'children', u'in', u'the', u\"study's\", u'sample', u'population,', u'ranging', u'from', u'2.8', u'to', u'4.7', u'years', u'of', u'age.', u'Of', u'these,', u'66', u'(17.6%)', u'were', u'in', u'the', u'intervention', u'group', u'and', u'309', u'(82.4%)', u'were', u'in', u'the', u'control', u'group.', u'The', u'2', u'samples', u'were', u'comparable', u'on', u'both', u'age', u'and', u'gender,', u'with', u'a', u'mean', u'age', u'of', u'3.6', u'years', u'each', u'and', u'with', u'a', u'nearly', u'even', u'division', u'on', u'gender:', u'48%', u'male', u'and', u'52%', u'female', u'for', u'the', u'intervention', u'group', u'and', u'49%', u'male', u'and', u'51%', u'female', u'for', u'the', u'control', u'group.', u'Reflecting', u'sample', u'selection,', u'there', u'is', u'a', u'difference', u'in', u'family', u'socioeconomic', u'status', u'in', u'that', u'while', u'almost', u'two-thirds', u'(64%)', u'of', u'the', u'intervention', u'group', u'received', u'a', u'free', u'lunch', u'from', u'the', u'school', u'district,', u'only', u'half', u'(48%)', u'of', u'the', u'children', u'in', u'the', u'control', u'group', u'did', u'so.', u'Also,', u'there', u'are', u'notable', u'differences', u'in', u'ethnic', u'composition:', u'there', u'was', u'a', u'greater', u'proportion', u'of', u'Hispanic', u'children', u'in', u'the', u'intervention', u'group', u'(65%', u'vs', u'51%)', u'and', u'a', u'much', u'lower', u'proportion', u'of', u'white', u'children', u'(8%', u'vs', u'33%,', u'respectively).', u'Finally,', u'there', u'was', u'a', u'greater', u'range', u'in', u'class', u'size', u'in', u'the', u'control', u'group', u'(11\\u201328', u'children', u'vs', u'18\\u201326,', u'respectively),', u'and', u'the', u'mean', u'class', u'size', u'was', u'slightly', u'smaller', u'in', u'the', u'intervention', u'group', u'(19.31', u'vs', u'22.00).', u'Sociodemographic', u'Characteristics', u'(Time', u'1)', u'of', u'the', u'Whole', u'Sample,', u'Intervention', u'Group,', u'and', u'Control', u'Group', u'Abbreviations:', u'NA,', u'not', u'available;', u'SD,', u'standard', u'deviation.', u'For', u'each', u'development', u'dimension,', u'a', u\"child's\", u'scores', u'on', u'the', u'items', u'involved', u'were', u'aggregated', u'to', u'construct', u'a', u'scale', u'score', u'for', u'that', u'dimension', u'and', u'then', u'aggregated', u'again', u'across', u'all', u'50', u'items', u'to', u'construct', u'a', u'total', u'development', u'scale', u'score.', u'Students', u'were', u'scored', u'on', u'each', u'of', u'the', u'50', u'items', u'using', u'the', u'values', u'on', u'the', u'4-point', u'rating', u'scale.', u'Since', u'the', u'lowest', u'point', u'value', u'on', u'the', u'rating', u'scale', u'was', u'0,', u'the', u'maximum', u'score', u'for', u'any', u'item', u'was', u'3', u'points,', u'which,', u'summed', u'over', u'the', u'50', u'items,', u'yields', u'a', u'total', u'possible', u'development', u'scale', u'score', u'of', u'150', u'points.', u'Using', u'the', u'whole', u'sample,', u'we', u'conducted', u'an', u'item', u'analysis', u'and', u'a', u'validity', u'and', u'reliability', u'of', u'measurement', u'analysis', u'of', u'the', u'TCCA', u'instrumentation\\u2014development', u'scales,', u'subcomponents,', u'and', u'individual', u'items', u'(results', u'available', u'in', u'Bradley', u'et', u'al,', u'2009).59', u'Starting', u'with', u'the', u'item', u'analysis,', u'the', u'range', u'of', u'the', u'point-biserial', u'order', u'correlation', u'(pbs', u'[.rho])', u'over', u'the', u'50', u'items', u'across', u'the', u'3', u'measurement', u'moments', u'was', u'0.26', u'to', u'0.82.', u'There', u'were', u'no', u'items', u'with', u'a', u'0', u'or', u'negative', u'pbs', u'[.rho],', u'so', u'all', u'items', u'met', u'the', u'minimum', u'criteria', u'for', u'technically', u'acceptable', u'measurement', u'and', u'indicate', u'an', u'adequate', u'level', u'of', u'discrimination', u'between', u'high-', u'and', u'low-performing', u'children', u'on', u'the', u'assessment.', u'The', u'standard', u'error', u'of', u'measurement', u'(SEM)', u'for', u'the', u'total', u'development', u'score', u'was', u'ff1.05,', u'ff1.29,', u'and', u'ff1.20', u'points', u'for', u'time', u'1', u'(T1),', u'time', u'2', u'(T2),', u'and', u'time', u'3', u'(T3),', u'respectively,', u'and', u'ranged', u'from', u'ff0.15', u'to', u'0.44', u'for', u'the', u'4', u'development', u'dimensions', u'over', u'all', u'3', u'measurement', u'moments\\u2014all', u'well', u'within', u'psychometrically', u'acceptable', u'limits.', u'Turning', u'to', u'the', u'results', u'of', u'the', u'validity', u'and', u'reliability', u'of', u'measurement', u'for', u'the', u'total', u'development', u'score,', u'the', u'T1,', u'T2,', u'and', u'T3', u\"Cronbach's\", u'\\u03b1', u'reliability', u'coefficients', u'were', u'all', u'high', u'(0.97,', u'0.98,', u'and', u'0.98,', u'respectively).', u'With', u'the', u'exception', u'of', u'somewhat', u'lower', u'\\u03b1', u'coefficients', u'for', u'physical', u'development', u'(0.80,', u'0.86,', u'and', u'0.86),', u'high', u'\\u03b1', u'coefficients', u'also', u'were', u'observed', u'on', u'the', u'other', u'3', u'development', u'dimensions', u'(ranging', u'from', u'0.92', u'to', u'0.95).', u'Though', u'lower', u'\\u03b1', u'coefficients', u'were', u'observed', u'for', u'the', u'subcomponents', u'within', u'each', u'of', u'the', u'4', u'development', u'dimensions', u'(ranging', u'from', u'0.71', u'to', u'0.93),', u'they', u'were,', u'with', u'3', u'exceptions', u'(gross', u'motor,', u'T1,', u'and', u'fine', u'motor,', u'T1,', u'and', u'T2),', u'all', u'above', u'0.80.', u'Overall,', u'the', u'results', u'indicate', u'a', u'high', u'degree', u'of', u'internal', u'consistency.', u'We', u'also', u'conducted', u'a', u'factor', u'analysis', u'with', u'varimax', u'rotation', u'to', u'evaluate', u'the', u'degree', u'of', u'convergent', u'and', u'discriminant', u'validity', u'in', u'the', u'EHS', u'study', u'data.', u'Though', u'there', u'were', u'some', u'exceptions,', u'the', u'factors', u'and', u'loadings', u'and', u'item', u'classifications', u'are', u'generally', u'consistent', u'with', u'the', u'results', u'of', u'the', u'original', u'validation', u'study.', u'In', u'short,', u'the', u'results', u'of', u'these', u'analyses', u'indicate', u'that', u'the', u'baseline,', u'preintervention,', u'and', u'postintervention', u'measures', u'appear', u'to', u'have', u'psychometric', u'integrity', u'as', u'measurement', u'constructs.', u'The', u'line', u'graph', u'in', u'Figure', u'4', u'plots', u'the', u'results', u'of', u'these', u'measurement', u'procedures', u'for', u'the', u'whole', u'study', u\"population's\", u'mean', u'total', u'development', u'score', u'and', u'mean', u'scores', u'for', u'the', u'4', u'development', u'dimensions', u'at', u'the', u'3', u'moments', u'of', u'measurement.', u'Clearly', u'evident', u'is', u'a', u'strong', u'upward', u'trend', u'in', u'development', u'on', u'all', u'5', u'measures', u'over', u'the', u'3', u'time', u'points.', u'Thus,', u'the', u'mean', u'total', u'development', u'score', u'rose', u'from', u'47.71', u'at', u'baseline', u'to', u'90.71', u'at', u'the', u'preintervention', u'moment', u'to', u'124.15', u'at', u'the', u'postintervention', u'measurement', u'moment:', u'a', u'T1-to-T3', u'increase', u'of', u'160.22%.', u'For', u'the', u'development', u'dimensions,', u'the', u'greatest', u'increase', u'in', u'mean', u'score', u'observed', u'was', u'for', u'cognitive', u'development,', u'13.90', u'to', u'38.79', u'(an', u'increase', u'of', u'179.06%)', u'whereas', u'the', u'lowest', u'increase', u'was', u'for', u'physical', u'development', u'(9.29', u'to', u'21.56,', u'an', u'increase', u'of', u'132.08%).', u'Line', u'Graph', u'of', u'5', u'Development', u'Scales', u'(Mean', u'Score)', u'for', u'Entire', u'Sample', u'Population', u'by', u'Measurement', u'Moment.', u'Table', u'3', u'presents', u'the', u'results', u'of', u'a', u'1-way', u'analysis', u'of', u'variance', u'(ANOVA)', u'of', u'differences', u'in', u'mean', u'score', u'by', u'intervention', u'status', u'on', u'the', u'5', u'development', u'scales', u'at', u'baseline', u'broken', u'down', u'by', u'gender,', u'ethnicity,', u'and', u'socioeconomic', u'status.', u'Starting', u'with', u'the', u'results', u'for', u'intervention', u'status,', u'significant', u'differences', u'on', u'all', u'5', u'scales', u'(P', u'<', u'.01)', u'with', u'a', u'moderate', u'or', u'large', u'effect', u'size', u'(ES,c', u'0.41\\u20130.66)', u'were', u'observed', u'between', u'the', u'control', u'group', u'and', u'the', u'intervention', u'group.', u'Though', u'there', u'are', u'no', u'differences', u'by', u'gender,', u'there', u'are', u'significant', u'differences', u'mostly', u'in', u'the', u'moderate', u'effect', u'size', u'range', u'(0.30\\u201349)', u'favoring', u'white', u'children', u'over', u'those', u'with', u'Hispanic', u'or', u'other', u'ethnic', u'affiliation', u'on', u'all', u'development', u'scales', u'(P', u'<', u'.001)', u'except', u'physical', u'development.', u'A', u'similar', u'pattern', u'is', u'observed', u'on', u'the', u'indicator', u'of', u'socioeconomic', u'status:', u'the', u'non\\u2013free', u'lunch', u'children', u'had', u'significantly', u'higher', u'development', u'scores', u'than', u'the', u'free-lunch', u'children', u'on', u'all', u'scales', u'(P', u'<', u'.05)', u'except', u'that', u'for', u'physical', u'development.', u'Baseline', u'(Time', u'1)', u'Analysis', u'of', u'Variance', u'of', u'Development', u'Scales', u'by', u'Intervention', u'Grouping', u'and', u'by', u'Gender,', u'Ethnicity,', u'and', u'Family', u'Socioeconomic', u'Statusa', u'Single-factor', u'ANOVA.', u'Abbreviations:', u'ANOVA,', u'analysis', u'of', u'variance;', u'ES,', u'effect', u'size;', u'F,', u'ANOVA', u'test', u'statistic;', u'NS,', u'not', u'significant;', u'SEM,', u'standard', u'error', u'of', u'measurement;', u'Sq,', u'square.', u'Two', u'points', u'emerge', u'from', u'these', u'results:', u'first,', u'that', u'the', u'intervention', u'and', u'control', u'groups', u'were', u'not', u'well', u'matched', u'at', u'baseline', u'on', u'the', u'5', u'development', u'scales;', u'second,', u'that', u'in', u'the', u'analysis', u'that', u'follows,', u'it', u'was', u'necessary', u'to', u'control', u'for', u'the', u'effects', u'of', u'ethnicity', u'and', u'free-lunch', u'status', u'in', u'the', u'event', u'that', u'pre-to-postintervention', u'differences', u'in', u'development', u'are', u'observed', u'between', u'the', u'intervention', u'and', u'control', u'groups.', u'In', u'the', u'analysis', u'of', u'the', u'effects', u'of', u'the', u'EHS', u'intervention,', u'we', u'conducted', u'2', u'analyses.', u'The', u'first\\u2014a', u'within-groups', u'analysis\\u2014was', u'conducted', u'on', u'the', u'intervention', u'and', u'control', u'groups', u'separately', u'in', u'order', u'to', u'investigate', u'the', u'degree', u'of', u'pre-post', u'change', u'in', u'development', u'within', u'each', u'group.', u'The', u'second\\u2014a', u'between-groups', u'analysis\\u2014', u'was', u'conducted', u'to', u'identify', u'changes', u'in', u'development', u'in', u'the', u'intervention', u'group', u'that', u'could', u'be', u'attributed', u'to', u'any', u'observed', u'effects', u'of', u'the', u'EHS', u'intervention', u'by', u'comparing', u'the', u'differences', u'in', u'pre-post', u'changes', u'in', u'development', u'between', u'the', u'2', u'groups.', u'For', u'the', u'within-groups', u'analysis,', u'we', u'employed', u'a', u'within-subjects', u'repeated', u'measures', u'procedure', u'on', u'the', u'5', u'development', u'scales', u'to', u'investigate', u'the', u'changes', u'in', u'development', u'in', u'the', u'2', u'periods', u'up', u'to', u'and', u'then', u'following', u'the', u'EHS', u'intervention\\u2014T1', u'to', u'T2', u'and', u'T2', u'to', u'T3,', u'respectively.', u'Though', u'a', u'lower', u'rate', u'of', u'development', u'in', u'the', u'preintervention', u'period', u'(T1', u'to', u'T2)', u'was', u'expected', u'in', u'the', u'intervention', u'group', u'relative', u'to', u'the', u'control', u'group,', u'given', u'the', u\"former's\", u'disadvantaged', u'status', u'on', u'the', u'baseline', u'measures,', u'a', u'higher', u'rate', u'was', u'expected', u'following', u'exposure', u'to', u'the', u'EHS', u'intervention.', u'However,', u'as', u'shown', u'in', u'Table', u'4,', u'a', u'different', u'pattern', u'of', u'results', u'was', u'observed.', u'Within-subjects', u'Repeated', u'Measures', u'Analysis', u'of', u'Change', u'in', u'Development', u'Scales', u'(Mean', u'Score)', u'for', u'Intervention', u'and', u'Control', u'Groups', u'Abbreviations:', u'ES,', u'effect', u'size;', u'SD,', u'standard', u'deviation;', u'Sq,', u'square.', u'Across', u'all', u'5', u'development', u'scales,', u'though', u'a', u'significant', u'increase', u'in', u'mean', u'score', u'(P', u'<', u'.001,', u'on', u'all', u'measures)', u'of', u'an', u'extremely', u'large', u'ES', u'(ES', u'ranges', u'from', u'1.17\\u20132.81', u'over', u'all', u'measures)', u'was', u'observed', u'in', u'both', u'time', u'periods', u'for', u'each', u'group,', u'the', u'greatest', u'increase', u'in', u'development', u'occurred', u'in', u'the', u'first', u'period,', u'T1', u'to', u'T2.', u'This', u'pattern', u'is', u'typified', u'by', u'the', u'total', u'development', u'data.', u'Thus,', u'the', u'results', u'for', u'the', u'intervention', u'group', u'show', u'that', u'the', u'greatest', u'increase', u'in', u'development', u'occurred', u'in', u'the', u'first', u'period,', u'before', u'the', u'EHS', u'intervention', u'(T1-T2', u'D', u'mean', u'score', u'=', u'53.15', u'points,', u'ES', u'2.73;', u'T2-T3', u'D', u'mean', u'score', u'=', u'38.69', u'points,', u'ES', u'1.84).', u'Although', u'somewhat', u'smaller', u'in', u'magnitude,', u'a', u'similar', u'pattern', u'was', u'observed', u'for', u'the', u'control', u'group', u'(T1-T2', u'D', u'mean', u'score', u'=', u'40.64', u'points,', u'ES', u'=', u'1.91;', u'T2-T3', u'D', u'mean', u'score', u'=', u'32.42', u'points,', u'ES', u'=', u'1.43).', u'There', u'are', u'2', u'points', u'of', u'interest', u'here.', u'One', u'is', u'that', u'this', u'pattern', u'is', u'similar', u'in', u'both', u'groups.', u'This', u'suggests', u'some', u'underlying', u'commonality,', u'such', u'as', u'the', u'initial', u'novelty', u'of', u'children', u'first', u'entering', u'a', u'new,', u'stimulating', u'social', u'environment,', u'the', u'preschool', u'class.', u'It', u'could', u'be', u'expected', u'that', u'after', u'the', u'children', u'experience', u'an', u'accelerated', u'growth', u'rate,', u'they', u'then', u'adapt', u'as', u'the', u'school', u'environment', u'becomes', u'more', u'familiar.', u'The', u'second', u'point', u'is', u'that', u'although', u'the', u'pattern', u'is', u'similar', u'in', u'both', u'groups,', u'there', u'is', u'a', u'more', u'elevated', u'growth', u'in', u'the', u'intervention', u'group', u'during', u'the', u'first', u'period', u'both', u'in', u'relation', u'to', u'the', u'control', u'group', u'in', u'the', u'first', u'period', u'and', u'also', u'in', u'relation', u'to', u'the', u'intervention', u\"group's\", u'rate', u'of', u'growth', u'in', u'the', u'second', u'period.', u'A', u'plausible', u'explanation', u'is', u'that', u'this', u'pattern', u'in', u'the', u'intervention', u'group', u'children', u'may', u'have', u'resulted', u'from', u'an', u'even', u'more', u'novel', u'experience', u'of', u'a', u'nurturing,', u'growth-promoting', u'teacher', u'and', u'the', u'psychosocially', u'stimulating', u'preschool', u'environment', u'relative', u'to', u'the', u'disadvantaged', u'circumstances', u'of', u'an', u'ethnic', u'minority', u'and/or', u'lower', u'socioeconomic', u'family', u'background', u'characteristic', u'of', u'most', u'children', u'in', u'this', u'group.', u'An', u'alternative', u'explanation', u'for', u'the', u'pattern', u'is', u'the', u'possibility', u'of', u'a', u'Hawthorne', u'effect:', u'namely,', u'that', u'the', u'intervention', u'group', u'teachers', u'may', u'have', u'(consciously', u'or', u'unconsciously)', u'inflated', u'the', u'ratings', u'of', u'their', u'students', u'in', u'the', u'preintervention', u'period.', u'Unfortunately,', u'there', u'were', u'insufficient', u'cases', u'with', u'the', u'required', u'combination', u'of', u'ethnosocioeconomic', u'characteristics', u'to', u'investigate', u'the', u'first', u'explanation', u'posited', u'above', u'for', u'the', u'elevated', u'rate', u'of', u'development', u'observed.', u'However,', u'we', u'were', u'able', u'to', u'investigate', u'the', u'question', u'of', u'a', u'potential', u'Hawthorne', u'effect,', u'the', u'results', u'of', u'which', u'are', u'presented', u'below.', u'Even', u'with', u'this', u'pattern,', u'the', u'smaller', u'degree', u'of', u'change', u'in', u'the', u'second', u'period', u'was', u'still', u'very', u'large', u'(ES', u'range', u'1.17\\u20131.99)', u'and', u'highly', u'significant', u'(P', u'<', u'.001)', u'across', u'the', u'5', u'measures', u'in', u'both', u'groups.', u'Determining', u'how', u'much', u'of', u'this', u'increase', u'in', u'development', u'in', u'the', u'intervention', u'group', u'is', u'attributable', u'to', u'the', u'effects', u'of', u'the', u'EHS', u'program', u'requires', u'a', u'between-groups', u'comparison', u'of', u'the', u'2', u'groups,', u'in', u'which', u'any', u'differences', u'in', u'the', u'measures', u'of', u'development', u'at', u'the', u'baseline', u'(T1)', u'and', u'preintervention', u'(T2)', u'moments', u'are', u'statistically', u'controlled.', u'We', u'turn', u'to', u'this', u'all-important', u'question', u'next.', u'The', u'primary', u'statistical', u'analysis', u'technique', u'used', u'to', u'investigate', u'pre-post', u'changes', u'in', u'development', u'was', u'analysis', u'of', u'covariance', u'(ANCOVA).', u'An', u'important', u'advantage', u'of', u'ANCOVA', u'is', u'that', u'the', u'baseline', u'(T1)', u'and', u'preintervention', u'(T2)', u'differences', u'on', u'the', u'development', u'measures', u'between', u'the', u'intervention', u'and', u'control', u'groups', u'are', u'statistically', u'adjusted', u'to', u'make', u'them', u'comparable', u'before', u'the', u'change', u'effects', u'are', u'estimated.', u'This', u'is', u'accomplished', u'by', u'treating', u'them', u'as', u'covariates', u'in', u'the', u'statistical', u'model.', u'We', u'begin', u'with', u'the', u'results', u'by', u'intervention', u'status', u'before', u'moving', u'to', u'the', u'breakdowns', u'by', u'gender,', u'ethnicity,', u'and', u'family', u'socioeconomic', u'background.', u'Figure', u'5', u'and', u'Table', u'5', u'present', u'the', u'results', u'for', u'the', u'5', u'development', u'scales', u'and', u'the', u'10', u'subcomponents', u'by', u'intervention', u'status.', u'Clearly', u'evident', u'is', u'the', u'strong', u'consistent', u'pattern', u'of', u'moderate', u'to', u'large,', u'significant', u'differences', u'on', u'all', u'15', u'measures', u'of', u'development,', u'favoring', u'the', u'intervention', u'group', u'over', u'the', u'control', u'group.', u'On', u'10', u'of', u'the', u'15', u'measures,', u'including', u'4', u'of', u'the', u'5', u'development', u'scales,', u'the', u'magnitude', u'of', u'the', u'difference', u'was', u'large', u'and', u'highly', u'significant', u'(ES', u'>', u'0.60,', u'P', u'<', u'.001).', u'More', u'specifically,', u'from', u'the', u'adjusted', u'means', u'on', u'the', u'5', u'development', u'scales,', u'a', u'significant', u'difference', u'with', u'a', u'large', u'ES', u'was', u'observed', u'favoring', u'the', u'intervention', u'group', u'on', u'the', u'total', u'development', u'scale', u'(130.96', u'vs', u'122.79,', u'respectively;', u'ES', u'0.81,', u'P', u'<', u'.001)', u'and', u'on', u'each', u'of', u'the', u'social/emotional', u'development', u'(34.95', u'vs', u'31.90,', u'ES', u'0.97,', u'P', u'<', u'.001),', u'physical', u'development', u'(22.59', u'vs', u'21.35,', u'ES', u'0.79,', u'P', u'<', u'.001),', u'cognitive', u'development', u'(40.58', u'vs', u'38.41,', u'ES', u'0.55,', u'P', u'<', u'.01),', u'and', u'language', u'development', u'(33.74', u'vs', u'30.99,', u'ES', u'0.73', u'P', u'<', u'.001)', u'scales.', u'At', u'the', u'subcomponent', u'level,', u'6', u'of', u'the', u'10', u'constructs', u'had', u'differences', u'favoring', u'the', u'intervention', u'group', u'that', u'were', u'large', u'in', u'terms', u'of', u'ES', u'and', u'highly', u'significant:', u'sense', u'of', u'self,', u'ES', u'1.05,', u'P', u'<', u'.001;', u'responsibility', u'for', u'self', u'and', u'others,', u'ES', u'0.61,', u'P', u'<', u'.001;', u'prosocial', u'behavior,', u'ES', u'0.94,', u'P', u'<', u'.001;', u'fine', u'motor,', u'ES', u'0.68,', u'P', u'<', u'.001;', u'learning', u'and', u'problem', u'solving,', u'ES', u'0.65,', u'P', u'<', u'.001;', u'and', u'reading', u'and', u'writing,', u'ES', u'0.84,', u'P', u'<', u'.001.', u'Adjusted', u'means', u'showing', u'results', u'of', u'analysis', u'of', u'covariance', u'of', u'intervention', u'effects', u'on', u'development', u'measures', u'comparing', u'intervention', u'and', u'control', u'groups.', u'Results', u'of', u'Analysis', u'of', u'Covariance', u'of', u'Intervention', u'Effects', u'on', u'Development', u'Measures', u'Comparing', u'Intervention', u'and', u'Control', u'Groupsa', u'ANCOVA:', u'covariates', u'fall', u'and', u'winter', u'baseline', u'scores.', u'Abbreviations:', u'Adj,', u'adjusted;', u'CI,', u'confidence', u'interval;', u'ES,', u'effect', u'size;', u'F,', u'ANOVA', u'test', u'statistic;', u'SEM,', u'standard', u'error', u'of', u'measurement;', u'Sq,', u'square.', u'To', u'investigate', u'the', u'degree', u'to', u'which', u'these', u'observed', u'differences', u'in', u'development', u'were', u'not', u'mediated', u'by', u'one', u'or', u'more', u'intervening', u'sociodemographic', u'factors', u'identified', u'as', u'significant', u'at', u'baseline,', u'an', u'ANOVA', u'was', u'conducted', u'on', u'the', u'5', u'development', u'scales', u'controlling', u'for', u'gender,', u'ethnic', u'status,', u'and', u'socioeconomic', u'family', u'background', u'(free-lunch', u'status).', u'The', u'results', u'are', u'presented', u'in', u'Table', u'6.', u'Analysis', u'of', u'Covariance', u'of', u'Intervention', u'Effects', u'on', u'Development', u'Scales', u'Comparing', u'Intervention', u'and', u'Control', u'Groups', u'by', u'Gender,', u'Ethnicity,', u'and', u'Socioeconomic', u'Statusa', u'ANCOVA:', u'covariates', u'fall', u'and', u'winter', u'baseline', u'scores.', u'Abbreviations:', u'CI,', u'confidence', u'interval;', u'F,', u'ANOVA', u'test', u'statistic;', u'ES,', u'effect', u'size;', u'NS,', u'not', u'significant;', u'SEM,', u'standard', u'error', u'of', u'measurement.', u'Beginning', u'with', u'the', u'results', u'(adjusted', u'means)', u'for', u'the', u'total', u'development', u'scale,', u'a', u'consistent', u'pattern', u'of', u'moderate', u'to', u'large,', u'significant', u'differences', u'is', u'observed', u'favoring', u'the', u'intervention', u'over', u'the', u'control', u'group:', u'for', u'boys', u'(128.10', u'vs', u'121.35,', u'ES', u'0.47,', u'P', u'<', u'.05),', u'girls', u'(133.876', u'vs', u'124.42,', u'ES', u'0.65,', u'P', u'<', u'.001),', u'Hispanic', u'children', u'(129.60', u'vs', u'121.22,', u'ES', u'0.63,', u'P', u'<', u'.001),', u'white', u'children', u'(130.62', u'vs', u'121.87,', u'ES', u'0.44,', u'P', u'<', u'.05),', u'free-lunch', u'recipients', u'(131.61', u'vs', u'125.29,', u'ES', u'0.56,', u'P', u'<', u'.01),', u'and', u'non\\u2013free', u'lunch', u'recipients', u'(130.09', u'vs', u'120.33,', u'ES', u'0.57,', u'P', u'<', u'.01).', u'These', u'results', u'suggest', u'a', u'markedly', u'greater', u'level', u'of', u'development', u'for', u'children', u'with', u'these', u'characteristics', u'who', u'were', u'exposed', u'to', u'the', u'EHS', u'program', u'than', u'those', u'who', u'were', u'not.', u'Moving', u'to', u'the', u'4', u'development', u'scales,', u'for', u'girls,', u'Hispanic', u'children,', u'and', u'free', u'lunch', u'students,', u'there', u'is', u'a', u'pattern', u'of', u'a', u'significantly', u'greater', u'increase', u'in', u'development', u'in', u'the', u'intervention', u'group', u'compared', u'to', u'the', u'control', u'group', u'on', u'all', u'4', u'scales.', u'With', u'the', u'exception', u'of', u'the', u'cognitive', u'development', u'scale,', u'the', u'same', u'pattern', u'is', u'observed', u'for', u'boys', u'and', u'non\\u2013free', u'lunch', u'students.', u'For', u'white', u'students,', u'though,', u'this', u'difference', u'is', u'evident', u'only', u'on', u'2', u'dimensions\\u2014physical', u'development', u'and', u'language', u'development.', u'We', u'conducted', u'another', u'ANCOVA', u'to', u'investigate', u'the', u'degree', u'to', u'which', u'the', u'observed', u'differences', u'between', u'the', u'2', u'groups', u'of', u'children', u'were', u'not', u'confounded', u'by', u'an', u'underlying', u'difference', u'in', u'class', u'size', u'(results', u'not', u'shown;', u'available', u'in', u'Bradley', u'et', u'al,', u'2009).59', u'To', u'conduct', u'the', u'study,', u'we', u'constructed', u'a', u'matched-group', u'comparison', u'by', u'selecting', u'classes', u'from', u'the', u'control', u'group', u'sample', u'that', u'were', u'close', u'to', u'or', u'within', u'the', u'class', u'size', u'range', u'(18\\u201324', u'children)', u'of', u'the', u'3', u'classes', u'in', u'the', u'intervention', u'group.', u'There', u'were', u'4', u'classes', u'in', u'the', u'control', u'group', u'(total', u'n', u'=', u'90)', u'with', u'a', u'class', u'size', u'of', u'between', u'17', u'and', u'26', u'children,', u'and', u'we', u'selected', u'these', u'for', u'the', u'matched-group', u'comparison.', u'Coincidentally,', u'these', u'7', u'classes', u'also', u'were', u'within', u'the', u'same', u'range', u'on', u'mean', u'baseline', u'total', u'development', u'score', u'(35.78\\u201342.71', u'points).', u'This', u'enabled', u'us', u'to', u'simultaneously', u'control', u'for', u'the', u'effects', u'of', u'baseline', u'differences', u'between', u'the', u'intervention', u'and', u'control', u'group', u'on', u'both', u'class', u'size', u'and', u'total', u'development,', u'providing', u'for', u'a', u'somewhat', u'more', u'rigorous', u'matched-groups', u'analysis.', u'As', u'previously,', u'to', u'control', u'for', u'any', u'differences', u'in', u'development', u'between', u'the', u'2', u'groups', u'in', u'the', u'preintervention', u'period,', u'development', u'scores', u'at', u'T1', u'and', u'T2', u'were', u'deployed', u'as', u'covariates', u'in', u'the', u'statistical', u'model.', u'A', u'notable,', u'significant', u'difference', u'in', u'the', u'pre-post', u'increase', u'in', u'the', u'mean', u'total', u'development', u'score', u'is', u'observed', u'for', u'the', u'intervention', u'group', u'over', u'the', u'matched-group', u'sample', u'from', u'the', u'control', u'group', u'(123.68', u'vs', u'115.93,', u'respectively,', u'ES', u'0.61,', u'P', u'<', u'.001).', u'A', u'similar', u'difference', u'is', u'evident', u'for', u'3', u'of', u'the', u'4', u'development', u'dimensions:', u'social/emotional', u'development', u'(33.14', u'vs', u'29.53,', u'ES', u'0.81,', u'P', u'<', u'.001);', u'physical', u'development', u'(21.86', u'vs', u'20.74,', u'ES', u'0.55,', u'P', u'<', u'.01),', u'and', u'language', u'development', u'(31.43', u'vs', u'28.60,', u'ES', u'0.63', u'P', u'<', u'.001).', u'In', u'short,', u'when', u'baseline', u'differences', u'in', u'class', u'size', u'and', u'total', u'development', u'are', u'controlled,', u'there', u'is', u'still', u'compelling', u'evidence', u'of', u'markedly', u'greater', u'development', u'in', u'the', u'children', u'who', u'participated', u'in', u'the', u'EHS', u'program', u'than', u'in', u'those', u'who', u'did', u'not.', u'As', u'the', u'final', u'step', u'in', u'the', u'primary', u'analysis,', u'we', u'conducted', u'a', u'split-half', u'sample', u'analysis', u'(results', u'not', u'shown;', u'available', u'in', u'Bradley', u'et', u'al,', u'2009).59', u'In', u'a', u'typical', u'application,', u'the', u'procedure', u'involves', u'randomly', u'dividing', u'the', u'study', u'sample', u'population', u'into', u'halves', u'and', u'then', u'repeating', u'the', u'analysis', u'separately', u'on', u'each', u'half-sample.', u'This', u'enables', u'a', u'check', u'on', u'the', u'statistical', u'integrity', u'of', u'nonrandom', u'samples', u'and', u'also', u'provides', u'some', u'indication', u'of', u'the', u'likely', u'generalizability', u'of', u'results.', u'To', u'conduct', u'this', u'analysis,', u'we', u'randomly', u'divided', u'the', u'intervention', u'and', u'control', u'groups', u'into', u'2', u'approximately', u'equal', u'subgroups', u'each', u'and', u'then', u'repeated', u'the', u'pre-post', u'ANCOVA', u'comparison', u'on', u'each', u'of', u'the', u'two', u'half-sample', u'pairings,', u'accordingly:', u'viz,', u'random', u'split', u'(RS)', u'1:', u'first', u'intervention', u'subgroup', u'vs', u'1st', u'control', u'subgroup;', u'RS2:', u'second', u'intervention', u'subgroup', u'vs', u'second', u'control', u'subgroup.', u'As', u'an', u'extra', u'precaution,', u'we', u'not', u'only', u'conducted', u'the', u'analysis', u'on', u'the', u'5', u'development', u'scales', u'and', u'but', u'also', u'included', u'the', u'10', u'subcomponents', u'of', u'the', u'4', u'development', u'dimensions', u'as', u'well.', u'Beginning', u'with', u'the', u'5', u'development', u'scales,', u'a', u'comparison', u'of', u'the', u'results', u'for', u'RS1', u'to', u'those', u'for', u'RS2', u'found', u'that,', u'with', u'one', u'exception', u'(cognitive', u'development', u'scale),', u'a', u'pattern', u'of', u'moderate', u'to', u'large,', u'significant', u'differences', u'favoring', u'the', u'intervention', u'group', u'on', u'the', u'other', u'4', u'development', u'measures', u'was', u'evident', u'in', u'both', u'ANCOVAs.', u'This', u'suggests', u'that', u'the', u'intervention', u'results', u'on', u'the', u'total', u'development', u'scale', u'and', u'the', u'social/emotional,', u'physical,', u'and', u'language', u'development', u'scales', u'appear', u'to', u'be', u'robust,', u'are', u'unlikely', u'to', u'be', u'the', u'result', u'of', u'sample', u'bias,', u'and', u'are', u'probably', u'generalizable', u'to', u'children', u'with', u'similar', u'characteristics.', u'To', u'investigate', u'the', u'key', u'question', u'of', u'a', u'pre-postintervention', u'effect,', u'we', u'used', u'a', u'rigorous', u'multivariate', u'procedure\\u2014ANCOVA\\u2014in', u'order', u'to', u'be', u'statistically', u'confident', u'that', u'any', u'observed', u'pre-postintervention', u'differences', u'could', u'not', u'be', u'the', u'result', u'of', u'differences', u'at', u'baseline', u'between', u'the', u'2', u'groups.', u'This', u'procedure', u'revealed', u'a', u'strong', u'pattern', u'of', u'differences', u'favoring', u'the', u'intervention', u'group', u'children', u'on', u'the', u'5', u'development', u'dimension', u'scales', u'as', u'well', u'as', u'on', u'the', u'10', u'subcomponents.', u'This', u'intervention', u'effect', u'also', u'was', u'observed', u'on', u'the', u'total', u'development', u'scale', u'for', u'each', u'of', u'the', u'sociodemographic', u'categories', u'examinedd', u'(male,', u'female,', u'Hispanic,', u'white,', u'free', u'lunch,', u'and', u'non\\u2013free', u'lunch)', u'and', u'also', u'for', u'female,', u'Hispanic,', u'and', u'free-lunch', u'on', u'all', u'4', u'development', u'dimension', u'scales', u'and', u'for', u'whites', u'on', u'the', u'physical', u'development', u'and', u'language', u'development', u'scales.', u'These', u'results', u'are', u'consistent', u'with', u'the', u'findings', u'of', u'prior', u'studies', u'on', u'the', u'implementation', u'of', u'programs', u'using', u'similar', u'emotion', u'self-regulation', u'techniques', u'in', u'elementary,', u'middle,', u'and', u'high', u'schools', u'and', u'tertiary', u'education.43,45,46,53,57', u'The', u'strong', u'evidence', u'of', u'an', u'EHS', u'intervention', u'effect', u'appears', u'robust.', u'Both', u'the', u'matched-groups', u'analysis', u'(in', u'which', u'we', u'controlled', u'for', u'baseline', u'differences', u'in', u'class', u'size', u'and', u'total', u'development', u'score)', u'and', u'the', u'random', u'split-half', u'sample', u'analysis', u'found', u'essentially', u'the', u'same', u'prepostintervention', u'differences', u'in', u'development', u'favoring', u'the', u'intervention', u'group', u'on', u'the', u'total', u'development', u'scale,', u'and', u'also', u'on', u'3', u'of', u'the', u'4', u'development', u'dimension', u'scales\\u2014', u'social/emotional', u'development,', u'physical', u'development,', u'and', u'language', u'development.', u'The', u'random', u'split-half', u'sample', u'results', u'are', u'noteworthy', u'in', u'that', u'they', u'suggest', u'that', u'on', u'these', u'development', u'measures,', u'it', u'is', u'unlikely', u'that', u'the', u'differences', u'between', u'the', u'2', u'groups', u'are', u'due', u'to', u'sample', u'bias', u'and', u'are', u'probably', u'generalizable', u'to', u'children', u'with', u'similar', u'characteristics', u'and', u'in', u'similar', u'educational', u'contexts', u'as', u'those', u'in', u'the', u'intervention', u'group.', u'Overall,', u'the', u'strong,', u'consistent', u'pattern', u'of', u'positive', u'pre-to-postintervention', u'results', u'provides', u'compelling', u'evidence', u'of', u'the', u'efficacy', u'of', u'the', u'EHS', u'program', u'in', u'promoting', u'greater', u'development', u'across', u'the', u'5', u'primary', u'measures\\u2014total', u'development,', u'social/emotional', u'development,', u'physical', u'development,', u'cognitive', u'development,', u'and', u'language', u'development.', u'The', u'study', u'evolved', u'as', u'an', u'adjunct', u'investigation', u'to', u'the', u'research', u'already', u'being', u'conducted', u'on', u'the', u'development', u'of', u'preschoolers', u'in', u'all', u'schools', u'in', u'the', u'Salt', u'Lake', u'City', u'School', u'District.', u'Some', u'limitations', u'came', u'with', u'this', u'research', u'strategy.', u'One', u'limitation', u'concerns', u'the', u'generalizability', u'of', u'the', u\"study's\", u'results.', u'There', u'are', u'2', u'potential', u'issues:', u'(1)', u'the', u'lack', u'of', u'randomization', u'in', u'sample', u'selection', u'and', u'intervention/control', u'group', u'assignment', u'and', u'(2)', u'the', u'degree', u'to', u'which', u'the', u'study', u'population', u'is', u'broadly', u'representative', u'of', u'the', u'population', u'of', u'preschoolers', u'in', u'the', u'United', u'States', u'as', u'a', u'whole.', u'Though', u'the', u'lack', u'of', u'randomization', u'for', u'sample', u'selection', u'is', u'not', u'an', u'issue,', u'because', u'all', u'19', u'schools', u'in', u'the', u'Salt', u'Lake', u'City', u'School', u'District', u'were', u'included,', u'it', u'is', u'a', u'limitation', u'of', u'the', u'criterion-reference', u'procedure', u'used', u'to', u'assign', u'intervention', u'or', u'control', u'group', u'status.', u'Even', u'so,', u'the', u'results', u'from', u'the', u'random', u'split-half', u'sample', u'analysis', u'suggest,', u'in', u'broad', u'terms,', u'that', u'the', u'primary', u'findings', u'appear', u'to', u'be', u'generalizable', u'to', u'preschool', u'children', u'in', u'similar', u'sociogeographic', u'contexts', u'and', u'with', u'similar', u'sociodemographic', u'characteristics.', u'Concerning', u'the', u'second', u'issue,', u'further', u'research', u'will', u'be', u'necessary', u'on', u'samples', u'that', u'are', u'more', u'representative', u'of', u'US', u'preschool', u'children', u'as', u'a', u'whole', u'in', u'order', u'to', u'confirm', u'the', u'efficacy', u'of', u'the', u'EHS', u'program', u'in', u'promoting', u'growth', u'and', u'development', u'more', u'broadly.', u'Another', u'limitation', u'was', u'that', u'the', u'teachers', u'were', u'not', u'completely', u'blinded', u'to', u'the', u\"study's\", u'goals', u'and', u'desired', u'outcomes', u'and', u'therefore', u'could', u'have', u'consciously', u'or', u'unconsciously', u'acted', u'to', u'affect', u'the', u'results.', u'Although', u'we', u'found', u'little', u'evidence', u'of', u'scoring', u'bias', u'in', u'the', u\"teachers'\", u'ratings,', u'we', u'cannot', u'definitively', u'rule', u'out', u'such', u'an', u'artifact.', u'A', u'final', u'limitation', u'is', u'that', u'the', u\"children's\", u'scores', u'are', u'all', u'based', u'on', u'observation,', u'evaluation,', u'and', u'rating', u'from', u'a', u'single', u'source:', u'their', u'teachers.', u'Although', u'we', u'were', u'mostly', u'able', u'to', u'address', u'the', u'basic', u'psychometric', u'issues', u'of', u'rating', u'consistency,', u'measurement', u'validity,', u'reliability,', u'and', u'discrimination', u'in', u'the', u'item', u'analysis', u'we', u'performed,', u'future', u'studies', u'should', u'be', u'conducted', u'using', u'at', u'least', u'2', u'independent', u'observers', u'to', u'rate', u'each', u\"child's\", u'development', u'on', u'the', u'measurement', u'items.', u'Of', u'the', u'key', u'socioemotional', u'competencies', u'in', u'early', u'childhood', u'that', u'lay', u'the', u'foundation', u'for', u'future', u'development', u'and', u'the', u'potential', u'for', u'adult', u'psychosocial', u'growth,', u'well-being,', u'and', u'accomplishment,', u'emotional', u'self-regulation', u'is', u'core.16,17', u'Yet', u'as', u'noted', u'at', u'the', u'outset,', u'a', u'disturbing', u'proportion', u'of', u'preschool', u'children,', u'especially', u'those', u'from', u'ethnic', u'minority', u'and', u'low', u'socioeconomic', u'family', u'backgrounds,', u'lack', u'the', u'fundamental', u'socioemotional', u'skills', u'needed', u'to', u'learn', u'and', u'function', u'effectively', u'at', u'school.', u'Although', u'the', u'EHS', u'program', u'was', u'developed', u'with', u'the', u'broader', u'goal', u'of', u'enhancing', u'the', u'psychosocial', u'development', u'of', u'all', u'preschool', u'children,', u'it', u'was', u'expected', u'that', u'the', u'program', u'would', u'have', u'particular', u'application', u'in', u'facilitating', u'development', u'in', u'children', u'from', u'disadvantaged', u'family', u'backgrounds', u'and', u'circumstances.', u'Despite', u'the', u'limitations', u'noted', u'above,', u'the', u'results', u'are', u'striking', u'in', u'that', u'there', u'is', u'strong', u'evidence', u'of', u'an', u'intervention', u'effect.', u'First,', u'across', u'all', u'of', u'the', u'analyses', u'performed,', u'a', u'consistent', u'pattern', u'of', u'large,', u'significant', u'differences', u'in', u'growth', u'on', u'the', u'primary', u'development', u'constructs\\u2014total', u'development', u'scale,', u'social/emotional', u'development', u'scale,', u'physical', u'development', u'scale,', u'cognitive', u'development', u'scale,', u'and', u'language', u'development', u'scale,', u'plus', u'their', u'10', u'subcomponents', u'(all', u'but', u'2', u'subcomponents', u'had', u'a', u'large', u'effect', u'size)\\u2014is', u'evident', u'for', u'the', u'children', u'receiving', u'the', u'EHS', u'intervention', u'relative', u'to', u'those', u'in', u'the', u'control', u'group', u'who', u'did', u'not.', u'The', u'magnitude', u'of', u'development', u'observed', u'for', u'the', u'intervention-group', u'children', u'is', u'particularly', u'striking,', u'as', u'they', u'started', u'the', u'study', u'with', u'a', u'significant', u'development', u'handicap', u'relative', u'to', u'their', u'peers', u'in', u'the', u'control', u'group.', u'Yet', u'after', u'participating', u'in', u'the', u'EHS', u'program,', u'they', u'had', u'surpassed', u'the', u\"latter's\", u'development', u'growth', u'by', u'the', u'end', u'of', u'the', u'study.', u'A', u'second', u'important', u'finding', u'is', u'the', u'consistent', u'pattern', u'of', u'pre-to-postintervention', u'differences', u'in', u'total', u'development', u'score', u'between', u'the', u'2', u'groups', u'for', u'all', u'of', u'the', u'sociodemographic', u'categories', u'investigated.', u'Importantly,', u'given', u'the', u\"study's\", u'targeting', u'of', u'ethnic-minority', u'and', u'low\\u2013', u'socioeconomic', u'status', u'students,', u'the', u'evidence', u'shows', u'that', u'the', u'EHS', u'program', u'was', u'effective', u'in', u'boosting', u'the', u'development', u'of', u'boys', u'(with', u'the', u'exception', u'of', u'cognitive', u'development),', u'girls,', u'Hispanic', u'children,', u'and', u'free-lunch', u'students', u'in', u'the', u'intervention', u'group', u'on', u'the', u'4', u'development', u'dimensions\\u2014social/emotional,', u'physical,', u'cognitive,', u'and', u'language\\u2014beyond', u'that', u'of', u'their', u'peers', u'in', u'the', u'control', u'group.', u'And', u'it', u'was', u'effective', u'for', u'non\\u2013free', u'lunch', u'and', u'white', u'students', u'in', u'the', u'intervention', u'group,', u'with', u'the', u'exception', u'of', u'cognitive', u'development', u'and', u'language', u'development', u'scores,', u'respectively.', u'A', u'series', u'of', u'additional', u'analyses', u'found', u'that', u'these', u'differences', u'do', u'not', u'appear', u'to', u'be', u'mediated', u'by', u'classroom', u'size', u'or', u'explained', u'by', u'baseline', u'differences', u'in', u'development', u'between', u'the', u'2', u'groups', u'of', u'children.', u'Further,', u'the', u'evidence', u'from', u'a', u'random', u'split-half', u'sample', u'analysis', u'corroborates', u'the', u'results', u'for', u'the', u'whole', u'intervention', u'and', u'control', u'group', u'samples', u'and', u'indicates', u'that', u'the', u'findings', u'for', u'all', u'but', u'1', u'of', u'the', u'5', u'development', u'scales', u'(cognitive', u'development)', u'are', u'robust', u'and', u'likely', u'generalizable', u'to', u'children', u'of', u'comparable', u'sociodemographic', u'characteristics.', u'In', u'sum,', u'the', u'strong,', u'consistent', u'pattern', u'of', u'positive', u'results', u'observed', u'across', u'all', u'analyses', u'is', u'compelling', u'evidence', u'of', u'the', u'efficacy', u'of', u'the', u'EHS', u'program', u'in', u'significantly', u'facilitating', u'a', u'marked', u'growth', u'in', u'development', u'in', u'preschool', u'children.', u'An', u'important', u'point', u'to', u'emphasize', u'is', u'that', u'these', u'results', u'are', u'for', u'very', u'young', u'preschool', u'children,', u'96%', u'of', u'whom', u'were', u'between', u'3', u'and', u'4', u'years', u'old.', u'It', u'is', u'both', u'striking', u'and', u'remarkable', u'that', u'children', u'as', u'young', u'as', u'3', u'years', u'can', u'begin', u'to', u'learn', u'and', u'practice', u'the', u'emotion', u'self-regulation', u'skills', u'they', u'were', u'taught', u'in', u'the', u'EHS', u'program,', u'which', u'appears', u'to', u'facilitate', u'their', u'psychosocial', u'development.', u'Given', u'that', u'the', u'age', u'range', u'from', u'3', u'to', u'6', u'years', u'is', u'a', u'period', u'of', u'accelerated', u'neurological', u'growth', u'and', u'psychosocial', u'development,', u'it', u'is', u'likely', u'that', u'the', u'learning', u'and', u'sustained', u'use', u'of', u'these', u'competencies', u'and', u'skills', u'during', u'this', u'important', u'developmental', u'period', u'will', u'readily', u'instantiate', u'a', u'new', u'set', u'point', u'in', u'the', u'young', u\"child's\", u'nervous', u'system', u'for', u'an', u'optimal', u'pattern', u'of', u'psychophysio-logical', u'function', u'and', u'thereby', u'significantly', u'boost', u'the', u'development', u'trajectory', u'of', u'future', u'psychosocial', u'growth.', u'Establishing', u'this', u'key', u'set', u'point', u'early', u'in', u'the', u\"child's\", u'life,', u'when', u'neural', u'connectivity', u'is', u'still', u'highly', u'malleable,', u'and', u'then', u'sustaining', u'it', u'throughout', u'the', u'whole', u'educational', u'process', u'with', u'programs', u'building', u'on', u'these', u'foundational', u'skills', u'sets', u'the', u'child', u'on', u'a', u'thriving', u'life', u'course', u'of', u'health,', u'well-being,', u'achievement,', u'and', u'social', u'responsibility.', u'Correspondingly,', u'the', u'integration', u'of', u'programs', u'designed', u'to', u'foster', u'socioemotional', u'competence', u'into', u'educational', u'curricula\\u2014beginning', u'in', u'preschool\\u2014', u'should', u'help', u'prevent', u'manifestation', u'of', u'much', u'of', u'the', u'psychosocial', u'dysfunction', u'and', u'pathology', u'that', u'not', u'only', u'robs', u'individuals', u'of', u'a', u'fulfilling', u'life', u'but', u'also', u'results', u'in', u'an', u'enormous', u'cost', u'to', u'our', u'society.', u'Development', u'of', u'the', u'Early', u'HeartSmarts', u'(EHS)', u'program', u'was', u'made', u'possible', u'by', u'a', u'generous', u'grant', u'from', u'the', u'Kalliopeia', u'Foundation,', u'San', u'Rafael,', u'California.', u'We', u'are', u'grateful', u'to', u'the', u'Salt', u'Lake', u'City', u'School', u'District', u'personnel', u'for', u'their', u'willingness', u'to', u'sponsor', u'and', u'implement', u'the', u'EHS', u'evaluation,', u'in', u'particular', u'Dr', u'Patrick', u'Galvin', u'and', u'Ms', u'Donna', u'Anderson', u'for', u'their', u'roles', u'in', u'designing', u'and', u'carrying', u'out', u'data', u'collection', u'for', u'the', u'study.', u'We', u'also', u'thank', u'the', u'teachers', u'in', u'the', u'study,', u'especially', u'those', u'who', u'taught', u'the', u'classes', u'included', u'in', u'the', u'intervention', u'group,', u'and', u'we', u'extend', u'our', u'appreciation', u'to', u'all', u'the', u'children', u'who', u'participated', u'in', u'the', u'study.', u'Jeffrey', u'Goelitz', u'of', u'Institute', u'of', u'HeartMath', u'(IHM)', u'coordinated', u'all', u'aspects', u'of', u'the', u'study', u'with', u'the', u'Salt', u'Lake', u'City', u'School', u'District.', u'We', u'are', u'indebted', u'to', u'Drs', u'Karl', u'H.', u'Pribram', u'and', u'Allan', u'N.', u'Schore', u'for', u'providing', u'helpful', u'comments', u'on', u'an', u'earlier', u'draft', u'of', u'this', u'report.', u'Finally,', u'it', u'should', u'be', u'noted', u'that', u'Dr', u'Raymond', u'Bradley', u'and', u'Dana', u'Tomasino', u'are', u'independent', u'research', u'consultants', u'to', u'IHM,', u'whose', u'involvement', u'in', u'the', u'EHS', u'study', u'began', u'in', u'2009', u'after', u'the', u'data', u'were', u'collected.', u'aThe', u'selection', u'of', u'intervention', u'group', u'schools', u'was', u'made', u'by', u'members', u'of', u'the', u'Salt', u'Lake', u'City', u'School', u'District', u'staff.', u'bThe', u'rating', u'process', u'requires', u'the', u'teacher', u'to', u'identify', u'the', u'developmental', u'level', u'of', u'each', u'child', u'for', u'each', u'item', u'using', u'a', u'4-point', u'scale.', u'The', u'proficiency', u'requirements', u'for', u'each', u'item', u'(Table', u'1)', u'are', u'phrased', u'in', u'terms', u'of', u'specific', u'behaviors', u'and', u'functional', u'areas', u'(with', u'exemplars)', u'anchored', u'to', u'each', u'level', u'of', u'the', u'rating', u'scale.', u'The', u'Forerunner', u'level', u'represents', u'behaviors', u'that', u'may', u'indicate', u'a', u'developmental', u'delay', u'or', u'that', u'a', u'child', u'has', u'not', u'previously', u'been', u'exposed', u'to', u'that', u'skill', u'and', u'is', u'scored', u'to', u'emphasize', u'the', u\"child's\", u'strengths', u'upon', u'which', u'future', u'development', u'and', u'instruction', u'can', u'build.', u'While', u'Step', u'III', u'represents', u'complete', u'mastery', u'of', u'a', u'particular', u'goal,', u'Step', u'I', u'and', u'Step', u'II', u'represent', u'distinct', u'successive', u'phases', u'of', u'development', u'a', u'child', u'moves', u'through', u'on', u'the', u'way', u'to', u'mastery.', u'cEffect', u'size', u'(ES)', u'was', u'computed', u'by', u'dividing', u'the', u'mean', u'difference', u'by', u'the', u'pooled', u'standard', u'deviation.', u'Following', u\"Cohen's\", u'(1988)', u'guidelines', u'for', u'interpreting', u'the', u'meaning', u'of', u'the', u'ES', u\"coefficient's\", u'magnitude:', u'<', u'0.10', u'trivial', u'effect;', u'0.10\\u20130.29', u'small', u'effect;', u'0.30\\u20130.49', u'moderate', u'effect;', u'\\u2265', u'0.50', u'large', u'effect.', u'dThere', u'were', u'too', u'few', u'cases', u'in', u'the', u'intervention', u\"group's\", u'\\u201cEthnicity-other\\u201d', u'category', u'(n', u'=', u'5)', u'for', u'this', u'analysis.', u'Validity', u'and', u'Reliability', u'of', u'Measurement', u'Analysis,', u'Time', u'1', u'to', u'Time', u'3', u'Abbreviations:', u'Min,', u'minimum;', u'max,', u'maximum;', u'SD,', u'standard', u'deviation;', u'SEM,', u'standard', u'error', u'of', u'measurement.']\n"
       ]
      }
     ],
     "prompt_number": 13
    },
    {
     "cell_type": "markdown",
     "metadata": {},
     "source": [
      "## Searching for cities\n",
      "\n",
      "We can search through, say, the body text for strings matching city names in the city list. It might make more sense to split the paragraphs into words though, and search each word. Or even to split each paragraph into sentences, and split each sentence into words, because then you can look in each paragraph or sentence for relevant countries for the city.\n",
      "\n",
      "Just searching `bodytext` gets us:"
     ]
    },
    {
     "cell_type": "code",
     "collapsed": false,
     "input": [
      "for row_index, row in cities.iterrows():\n",
      "    name = row.loc['name']\n",
      "    count = bodytext.count(name)\n",
      "    if count > 0:\n",
      "        country = cities.loc[row_index, \"countrycode\"]\n",
      "        print '%s occurs %i times. Country code: %s' %(name, count, country)"
     ],
     "language": "python",
     "metadata": {},
     "outputs": [
      {
       "output_type": "stream",
       "stream": "stdout",
       "text": [
        "San Rafael occurs 1 times. Country code: AR\n",
        "See occurs 1 times. Country code: AT"
       ]
      },
      {
       "output_type": "stream",
       "stream": "stdout",
       "text": [
        "\n",
        "Young occurs 1 times. Country code: AU"
       ]
      },
      {
       "output_type": "stream",
       "stream": "stdout",
       "text": [
        "\n",
        "Asse occurs 2 times. Country code: BE"
       ]
      },
      {
       "output_type": "stream",
       "stream": "stdout",
       "text": [
        "\n",
        "As occurs 6 times. Country code: BE\n",
        "Toma occurs 1 times. Country code: BF\n",
        "Ha occurs 3 times. Country code: BT"
       ]
      },
      {
       "output_type": "stream",
       "stream": "stdout",
       "text": [
        "\n",
        "Raymond occurs 1 times. Country code: CA"
       ]
      },
      {
       "output_type": "stream",
       "stream": "stdout",
       "text": [
        "\n",
        "Ins occurs 2 times. Country code: CH"
       ]
      },
      {
       "output_type": "stream",
       "stream": "stdout",
       "text": [
        "\n",
        "Basel occurs 1 times. Country code: CH\n",
        "Dama occurs 1 times. Country code: CN"
       ]
      },
      {
       "output_type": "stream",
       "stream": "stdout",
       "text": [
        "\n",
        "Dama occurs 1 times. Country code: CN\n",
        "Dana occurs 1 times. Country code: CN"
       ]
      },
      {
       "output_type": "stream",
       "stream": "stdout",
       "text": [
        "\n",
        "San Rafael occurs 1 times. Country code: CO\n",
        "Cali occurs 1 times. Country code: CO"
       ]
      },
      {
       "output_type": "stream",
       "stream": "stdout",
       "text": [
        "\n",
        "San Rafael occurs 1 times. Country code: CR\n",
        "San Rafael occurs 1 times. Country code: CR\n",
        "San Rafael occurs 1 times. Country code: CR\n",
        "San Rafael occurs 1 times. Country code: CR\n",
        "Kissing occurs 1 times. Country code: DE"
       ]
      },
      {
       "output_type": "stream",
       "stream": "stdout",
       "text": [
        "\n",
        "Karl occurs 1 times. Country code: DE\n",
        "Kall occurs 1 times. Country code: DE\n",
        "Goel occurs 1 times. Country code: DE"
       ]
      },
      {
       "output_type": "stream",
       "stream": "stdout",
       "text": [
        "\n",
        "Furth occurs 3 times. Country code: DE\n",
        "Furth occurs 3 times. Country code: DE\n",
        "Give occurs 1 times. Country code: DK"
       ]
      },
      {
       "output_type": "stream",
       "stream": "stdout",
       "text": [
        "\n",
        "Salt occurs 12 times. Country code: ES"
       ]
      },
      {
       "output_type": "stream",
       "stream": "stdout",
       "text": [
        "\n",
        "Ea occurs 7 times. Country code: ES"
       ]
      },
      {
       "output_type": "stream",
       "stream": "stdout",
       "text": [
        "\n",
        "Bot occurs 1 times. Country code: ES"
       ]
      },
      {
       "output_type": "stream",
       "stream": "stdout",
       "text": [
        "\n",
        "Bea occurs 2 times. Country code: ES\n",
        "Bas occurs 2 times. Country code: ES\n",
        "Ba occurs 3 times. Country code: FJ"
       ]
      },
      {
       "output_type": "stream",
       "stream": "stdout",
       "text": [
        "\n",
        "Ta occurs 10 times. Country code: FM\n",
        "Us occurs 2 times. Country code: FR"
       ]
      },
      {
       "output_type": "stream",
       "stream": "stdout",
       "text": [
        "\n",
        "Don occurs 1 times. Country code: FR"
       ]
      },
      {
       "output_type": "stream",
       "stream": "stdout",
       "text": [
        "\n",
        "Brie occurs 1 times. Country code: FR"
       ]
      },
      {
       "output_type": "stream",
       "stream": "stdout",
       "text": [
        "\n",
        "Allan occurs 1 times. Country code: FR"
       ]
      },
      {
       "output_type": "stream",
       "stream": "stdout",
       "text": [
        "\n",
        "Over occurs 4 times. Country code: GB"
       ]
      },
      {
       "output_type": "stream",
       "stream": "stdout",
       "text": [
        "\n",
        "Lea occurs 1 times. Country code: GB"
       ]
      },
      {
       "output_type": "stream",
       "stream": "stdout",
       "text": [
        "\n",
        "Bradley occurs 4 times. Country code: GB"
       ]
      },
      {
       "output_type": "stream",
       "stream": "stdout",
       "text": [
        "\n",
        "Wa occurs 5 times. Country code: GH"
       ]
      },
      {
       "output_type": "stream",
       "stream": "stdout",
       "text": [
        "\n",
        "Ho occurs 6 times. Country code: GH\n",
        "Tab occurs 8 times. Country code: HU"
       ]
      },
      {
       "output_type": "stream",
       "stream": "stdout",
       "text": [
        "\n",
        "Uta occurs 4 times. Country code: ID"
       ]
      },
      {
       "output_type": "stream",
       "stream": "stdout",
       "text": [
        "\n",
        "Duri occurs 1 times. Country code: ID"
       ]
      },
      {
       "output_type": "stream",
       "stream": "stdout",
       "text": [
        "\n",
        "Ba occurs 3 times. Country code: ID"
       ]
      },
      {
       "output_type": "stream",
       "stream": "stdout",
       "text": [
        "\n",
        "Un occurs 3 times. Country code: IN"
       ]
      },
      {
       "output_type": "stream",
       "stream": "stdout",
       "text": [
        "\n",
        "Uta occurs 4 times. Country code: IT"
       ]
      },
      {
       "output_type": "stream",
       "stream": "stdout",
       "text": [
        "\n",
        "Soci occurs 4 times. Country code: IT"
       ]
      },
      {
       "output_type": "stream",
       "stream": "stdout",
       "text": [
        "\n",
        "Re occurs 11 times. Country code: IT"
       ]
      },
      {
       "output_type": "stream",
       "stream": "stdout",
       "text": [
        "\n",
        "Follo occurs 1 times. Country code: IT\n",
        "Este occurs 2 times. Country code: IT"
       ]
      },
      {
       "output_type": "stream",
       "stream": "stdout",
       "text": [
        "\n",
        "Bra occurs 4 times. Country code: IT"
       ]
      },
      {
       "output_type": "stream",
       "stream": "stdout",
       "text": [
        "\n",
        "Don occurs 1 times. Country code: IT"
       ]
      },
      {
       "output_type": "stream",
       "stream": "stdout",
       "text": [
        "\n",
        "Alto occurs 1 times. Country code: IT\n",
        "Rea occurs 1 times. Country code: IT"
       ]
      },
      {
       "output_type": "stream",
       "stream": "stdout",
       "text": [
        "\n",
        "San occurs 1 times. Country code: ML"
       ]
      },
      {
       "output_type": "stream",
       "stream": "stdout",
       "text": [
        "\n",
        "San Rafael occurs 1 times. Country code: MX"
       ]
      },
      {
       "output_type": "stream",
       "stream": "stdout",
       "text": [
        "\n",
        "Grou occurs 6 times. Country code: NL"
       ]
      },
      {
       "output_type": "stream",
       "stream": "stdout",
       "text": [
        "\n",
        "Ski occurs 1 times. Country code: NO\n",
        "Mo occurs 6 times. Country code: NO\n",
        "As occurs 6 times. Country code: NO"
       ]
      },
      {
       "output_type": "stream",
       "stream": "stdout",
       "text": [
        "\n",
        "San Rafael occurs 1 times. Country code: PE"
       ]
      },
      {
       "output_type": "stream",
       "stream": "stdout",
       "text": [
        "\n",
        "Tomas occurs 1 times. Country code: PE\n",
        "San Rafael occurs 1 times. Country code: PE"
       ]
      },
      {
       "output_type": "stream",
       "stream": "stdout",
       "text": [
        "\n",
        "San Rafael occurs 1 times. Country code: PH"
       ]
      },
      {
       "output_type": "stream",
       "stream": "stdout",
       "text": [
        "\n",
        "San Rafael occurs 1 times. Country code: PH\n",
        "San Rafael occurs 1 times. Country code: PH\n",
        "San Rafael occurs 1 times. Country code: PH\n",
        "San Rafael occurs 1 times. Country code: PH\n",
        "San Rafael occurs 1 times. Country code: PH\n",
        "San Rafael occurs 1 times. Country code: PH\n",
        "San Rafael occurs 1 times. Country code: PH\n",
        "Real occurs 1 times. Country code: PH\n",
        "Real occurs 1 times. Country code: PH\n",
        "Real occurs 1 times. Country code: PT"
       ]
      },
      {
       "output_type": "stream",
       "stream": "stdout",
       "text": [
        "\n",
        "Tur occurs 1 times. Country code: RO"
       ]
      },
      {
       "output_type": "stream",
       "stream": "stdout",
       "text": [
        "\n",
        "Soci occurs 4 times. Country code: RO\n",
        "Brad occurs 4 times. Country code: RO"
       ]
      },
      {
       "output_type": "stream",
       "stream": "stdout",
       "text": [
        "\n",
        "Uni occurs 2 times. Country code: RU"
       ]
      },
      {
       "output_type": "stream",
       "stream": "stdout",
       "text": [
        "\n",
        "Tim occurs 4 times. Country code: RU\n",
        "Chara occurs 1 times. Country code: RU"
       ]
      },
      {
       "output_type": "stream",
       "stream": "stdout",
       "text": [
        "\n",
        "Ed occurs 1 times. Country code: SE"
       ]
      },
      {
       "output_type": "stream",
       "stream": "stdout",
       "text": [
        "\n",
        "Bo occurs 2 times. Country code: SL"
       ]
      },
      {
       "output_type": "stream",
       "stream": "stdout",
       "text": [
        "\n",
        "Tak occurs 2 times. Country code: TH"
       ]
      },
      {
       "output_type": "stream",
       "stream": "stdout",
       "text": [
        "\n",
        "Li occurs 1 times. Country code: TH\n",
        "Han occurs 1 times. Country code: TR"
       ]
      },
      {
       "output_type": "stream",
       "stream": "stdout",
       "text": [
        "\n",
        "Han occurs 1 times. Country code: TR\n",
        "Of occurs 2 times. Country code: TR"
       ]
      },
      {
       "output_type": "stream",
       "stream": "stdout",
       "text": [
        "\n",
        "Lake City occurs 12 times. Country code: US"
       ]
      },
      {
       "output_type": "stream",
       "stream": "stdout",
       "text": [
        "\n",
        "Bear occurs 2 times. Country code: US\n",
        "Hawthorne occurs 2 times. Country code: US\n",
        "Hawthorne occurs 2 times. Country code: US\n",
        "Lake City occurs 12 times. Country code: US"
       ]
      },
      {
       "output_type": "stream",
       "stream": "stdout",
       "text": [
        "\n",
        "Alto occurs 1 times. Country code: US\n",
        "Lake City occurs 12 times. Country code: US"
       ]
      },
      {
       "output_type": "stream",
       "stream": "stdout",
       "text": [
        "\n",
        "Raymond occurs 1 times. Country code: US\n",
        "Ball occurs 1 times. Country code: US"
       ]
      },
      {
       "output_type": "stream",
       "stream": "stdout",
       "text": [
        "\n",
        "California occurs 1 times. Country code: US\n",
        "Anderson occurs 1 times. Country code: US"
       ]
      },
      {
       "output_type": "stream",
       "stream": "stdout",
       "text": [
        "\n",
        "California occurs 1 times. Country code: US\n",
        "Raymond occurs 1 times. Country code: US"
       ]
      },
      {
       "output_type": "stream",
       "stream": "stdout",
       "text": [
        "\n",
        "Dana occurs 1 times. Country code: US\n",
        "Anderson occurs 1 times. Country code: US"
       ]
      },
      {
       "output_type": "stream",
       "stream": "stdout",
       "text": [
        "\n",
        "Lake City occurs 12 times. Country code: US\n",
        "Lake City occurs 12 times. Country code: US\n",
        "Alto occurs 1 times. Country code: US"
       ]
      },
      {
       "output_type": "stream",
       "stream": "stdout",
       "text": [
        "\n",
        "Anderson occurs 1 times. Country code: US\n",
        "Boyd occurs 1 times. Country code: US\n",
        "Converse occurs 1 times. Country code: US\n",
        "Donna occurs 1 times. Country code: US\n",
        "Early occurs 6 times. Country code: US\n",
        "Howe occurs 3 times. Country code: US\n",
        "Lake City occurs 12 times. Country code: US"
       ]
      },
      {
       "output_type": "stream",
       "stream": "stdout",
       "text": [
        "\n",
        "Bradley occurs 4 times. Country code: US\n",
        "Anderson occurs 1 times. Country code: US"
       ]
      },
      {
       "output_type": "stream",
       "stream": "stdout",
       "text": [
        "\n",
        "Converse occurs 1 times. Country code: US\n",
        "Tea occurs 3 times. Country code: US"
       ]
      },
      {
       "output_type": "stream",
       "stream": "stdout",
       "text": [
        "\n",
        "Brea occurs 1 times. Country code: US"
       ]
      },
      {
       "output_type": "stream",
       "stream": "stdout",
       "text": [
        "\n",
        "Hawthorne occurs 2 times. Country code: US\n",
        "San Rafael occurs 1 times. Country code: US"
       ]
      },
      {
       "output_type": "stream",
       "stream": "stdout",
       "text": [
        "\n",
        "Lake City occurs 12 times. Country code: US\n",
        "Hawthorne occurs 2 times. Country code: US"
       ]
      },
      {
       "output_type": "stream",
       "stream": "stdout",
       "text": [
        "\n",
        "Anderson occurs 1 times. Country code: US\n",
        "Star occurs 3 times. Country code: US\n",
        "Salt Lake City occurs 12 times. Country code: US"
       ]
      },
      {
       "output_type": "stream",
       "stream": "stdout",
       "text": [
        "\n",
        "Raymond occurs 1 times. Country code: US\n",
        "Y occurs 5 times. Country code: US"
       ]
      },
      {
       "output_type": "stream",
       "stream": "stdout",
       "text": [
        "\n",
        "Young occurs 1 times. Country code: UY\n",
        "Pop occurs 1 times. Country code: UZ\n",
        "Bo occurs 2 times. Country code: VN"
       ]
      },
      {
       "output_type": "stream",
       "stream": "stdout",
       "text": [
        "\n",
        "Dete occurs 1 times. Country code: ZW"
       ]
      },
      {
       "output_type": "stream",
       "stream": "stdout",
       "text": [
        "\n"
       ]
      }
     ],
     "prompt_number": 11
    },
    {
     "cell_type": "markdown",
     "metadata": {},
     "source": [
      "Searching the list of split words we get:"
     ]
    },
    {
     "cell_type": "code",
     "collapsed": false,
     "input": [
      "for row_index, row in cities.iterrows():\n",
      "    name = row.loc['name']\n",
      "    count = 0\n",
      "    if name in wordlist:\n",
      "        count += 1\n",
      "    if count > 0:\n",
      "        country = cities.loc[row_index, \"countrycode\"]\n",
      "        print '%s occurs %i times. Country code: %s' %(name, count, country)"
     ],
     "language": "python",
     "metadata": {},
     "outputs": [
      {
       "output_type": "stream",
       "stream": "stdout",
       "text": [
        "Young occurs 1 times. Country code: AU\n",
        "As occurs 1 times. Country code: BE"
       ]
      },
      {
       "output_type": "stream",
       "stream": "stdout",
       "text": [
        "\n",
        "Raymond occurs 1 times. Country code: CA"
       ]
      },
      {
       "output_type": "stream",
       "stream": "stdout",
       "text": [
        "\n",
        "Dana occurs 1 times. Country code: CN"
       ]
      },
      {
       "output_type": "stream",
       "stream": "stdout",
       "text": [
        "\n",
        "Kissing occurs 1 times. Country code: DE"
       ]
      },
      {
       "output_type": "stream",
       "stream": "stdout",
       "text": [
        "\n",
        "Karl occurs 1 times. Country code: DE\n",
        "Salt occurs 1 times. Country code: ES"
       ]
      },
      {
       "output_type": "stream",
       "stream": "stdout",
       "text": [
        "\n",
        "Allan occurs 1 times. Country code: FR"
       ]
      },
      {
       "output_type": "stream",
       "stream": "stdout",
       "text": [
        "\n",
        "Over occurs 1 times. Country code: GB"
       ]
      },
      {
       "output_type": "stream",
       "stream": "stdout",
       "text": [
        "\n",
        "Bradley occurs 1 times. Country code: GB"
       ]
      },
      {
       "output_type": "stream",
       "stream": "stdout",
       "text": [
        "\n",
        "Este occurs 1 times. Country code: IT"
       ]
      },
      {
       "output_type": "stream",
       "stream": "stdout",
       "text": [
        "\n",
        "San occurs 1 times. Country code: ML"
       ]
      },
      {
       "output_type": "stream",
       "stream": "stdout",
       "text": [
        "\n",
        "As occurs 1 times. Country code: NO"
       ]
      },
      {
       "output_type": "stream",
       "stream": "stdout",
       "text": [
        "\n",
        "Of occurs 1 times. Country code: TR"
       ]
      },
      {
       "output_type": "stream",
       "stream": "stdout",
       "text": [
        "\n",
        "Bear occurs 1 times. Country code: US"
       ]
      },
      {
       "output_type": "stream",
       "stream": "stdout",
       "text": [
        "\n",
        "Hawthorne occurs 1 times. Country code: US"
       ]
      },
      {
       "output_type": "stream",
       "stream": "stdout",
       "text": [
        "\n",
        "Hawthorne occurs 1 times. Country code: US\n",
        "Raymond occurs 1 times. Country code: US"
       ]
      },
      {
       "output_type": "stream",
       "stream": "stdout",
       "text": [
        "\n",
        "Ball occurs 1 times. Country code: US"
       ]
      },
      {
       "output_type": "stream",
       "stream": "stdout",
       "text": [
        "\n",
        "Anderson occurs 1 times. Country code: US"
       ]
      },
      {
       "output_type": "stream",
       "stream": "stdout",
       "text": [
        "\n",
        "Raymond occurs 1 times. Country code: US"
       ]
      },
      {
       "output_type": "stream",
       "stream": "stdout",
       "text": [
        "\n",
        "Dana occurs 1 times. Country code: US\n",
        "Anderson occurs 1 times. Country code: US"
       ]
      },
      {
       "output_type": "stream",
       "stream": "stdout",
       "text": [
        "\n",
        "Anderson occurs 1 times. Country code: US"
       ]
      },
      {
       "output_type": "stream",
       "stream": "stdout",
       "text": [
        "\n",
        "Boyd occurs 1 times. Country code: US\n",
        "Donna occurs 1 times. Country code: US\n",
        "Early occurs 1 times. Country code: US\n",
        "Bradley occurs 1 times. Country code: US"
       ]
      },
      {
       "output_type": "stream",
       "stream": "stdout",
       "text": [
        "\n",
        "Anderson occurs 1 times. Country code: US"
       ]
      },
      {
       "output_type": "stream",
       "stream": "stdout",
       "text": [
        "\n",
        "Hawthorne occurs 1 times. Country code: US"
       ]
      },
      {
       "output_type": "stream",
       "stream": "stdout",
       "text": [
        "\n",
        "Hawthorne occurs 1 times. Country code: US"
       ]
      },
      {
       "output_type": "stream",
       "stream": "stdout",
       "text": [
        "\n",
        "Anderson occurs 1 times. Country code: US"
       ]
      },
      {
       "output_type": "stream",
       "stream": "stdout",
       "text": [
        "\n",
        "Raymond occurs 1 times. Country code: US"
       ]
      },
      {
       "output_type": "stream",
       "stream": "stdout",
       "text": [
        "\n",
        "Young occurs 1 times. Country code: UY"
       ]
      },
      {
       "output_type": "stream",
       "stream": "stdout",
       "text": [
        "\n"
       ]
      }
     ],
     "prompt_number": 12
    }
   ],
   "metadata": {}
  }
 ]
}