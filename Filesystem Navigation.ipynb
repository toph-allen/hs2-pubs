{
 "metadata": {
  "name": ""
 },
 "nbformat": 3,
 "nbformat_minor": 0,
 "worksheets": [
  {
   "cells": [
    {
     "cell_type": "markdown",
     "metadata": {},
     "source": [
      "# Filesystem Navigation\n",
      "\n",
      "Playing around with bits of Python\u2014mostly in `os`\u2014which let you walk around the filesystem. The purpose of this is to get a list of files through which to iterate and scrape."
     ]
    },
    {
     "cell_type": "code",
     "collapsed": false,
     "input": [
      "import os\n",
      "import numpy as np\n",
      "from pandas import Series, DataFrame\n",
      "import pandas as pd\n",
      "import bs4\n",
      "\n",
      "datadir = 'data/'\n",
      "articledir = datadir + 'articles/'\n",
      "testdir = datadir + 'testarticles/'\n",
      "geonamedir = datadir + 'geonames/'"
     ],
     "language": "python",
     "metadata": {},
     "outputs": [],
     "prompt_number": 1
    },
    {
     "cell_type": "code",
     "collapsed": false,
     "input": [
      "os.getcwd()"
     ],
     "language": "python",
     "metadata": {},
     "outputs": [
      {
       "metadata": {},
       "output_type": "pyout",
       "prompt_number": 2,
       "text": [
        "'/Users/toph/Dropbox/repositories/hotspots2-pubs'"
       ]
      }
     ],
     "prompt_number": 2
    },
    {
     "cell_type": "code",
     "collapsed": false,
     "input": [
      "os.listdir(testdir)"
     ],
     "language": "python",
     "metadata": {},
     "outputs": [
      {
       "metadata": {},
       "output_type": "pyout",
       "prompt_number": 3,
       "text": [
        "['.DS_Store',\n",
        " 'Adv_Virol',\n",
        " 'BMJ',\n",
        " 'Ecotoxicology',\n",
        " 'Emerg_Infect_Dis',\n",
        " 'Glob_Adv_Health_Med']"
       ]
      }
     ],
     "prompt_number": 3
    },
    {
     "cell_type": "code",
     "collapsed": false,
     "input": [
      "# This gets the relative paths of all the articles within a subdirectory\n",
      "articlepaths = []\n",
      "for (dirpath, dirs, files) in os.walk(testdir):\n",
      "    for filename in files:\n",
      "        reldir = os.path.relpath(dirpath)\n",
      "        relfile = os.path.join(reldir, filename)\n",
      "        if os.path.splitext(relfile)[1] == '.nxml':\n",
      "            articlepaths.append(relfile)"
     ],
     "language": "python",
     "metadata": {},
     "outputs": [],
     "prompt_number": 4
    },
    {
     "cell_type": "code",
     "collapsed": false,
     "input": [
      "articlepaths"
     ],
     "language": "python",
     "metadata": {},
     "outputs": [
      {
       "metadata": {},
       "output_type": "pyout",
       "prompt_number": 5,
       "text": [
        "['data/testarticles/Adv_Virol/Adv_Virol_2010_Sep_21_2010_649315.nxml',\n",
        " 'data/testarticles/Adv_Virol/Adv_Virol_2011_Jul_31_2011_609465.nxml',\n",
        " 'data/testarticles/BMJ/BMJ_2008_Dec_4_337_a2533.nxml',\n",
        " 'data/testarticles/BMJ/BMJ_2008_Dec_8_337_a2396.nxml',\n",
        " 'data/testarticles/Ecotoxicology/Ecotoxicology_2012_May_16_21(4)_933-972.nxml',\n",
        " 'data/testarticles/Ecotoxicology/Ecotoxicology_2012_May_5_21(4)_1084-1093.nxml',\n",
        " 'data/testarticles/Emerg_Infect_Dis/Emerg_Infect_Dis_1995_Apr-Jun_1(2)_64-65.nxml',\n",
        " 'data/testarticles/Emerg_Infect_Dis/Emerg_Infect_Dis_1995_Jan-Mar_1(1)_31-33.nxml',\n",
        " 'data/testarticles/Glob_Adv_Health_Med/Glob_Adv_Health_Med_2012_Mar_1_1(1)_102-121.nxml',\n",
        " 'data/testarticles/Glob_Adv_Health_Med/Glob_Adv_Health_Med_2012_Mar_1_1(1)_36-50.nxml']"
       ]
      }
     ],
     "prompt_number": 5
    },
    {
     "cell_type": "code",
     "collapsed": false,
     "input": [
      "os.path.splitext(articlepaths[0])[1]"
     ],
     "language": "python",
     "metadata": {},
     "outputs": [
      {
       "metadata": {},
       "output_type": "pyout",
       "prompt_number": 6,
       "text": [
        "'.nxml'"
       ]
      }
     ],
     "prompt_number": 6
    },
    {
     "cell_type": "code",
     "collapsed": false,
     "input": [
      "for article in articlepaths[0:5]:\n",
      "    x = open(article, 'r')\n",
      "    f = x.read(200)\n",
      "    print article\n",
      "    print f\n",
      "    x.close()"
     ],
     "language": "python",
     "metadata": {},
     "outputs": [
      {
       "output_type": "stream",
       "stream": "stdout",
       "text": [
        "data/testarticles/Adv_Virol/Adv_Virol_2010_Sep_21_2010_649315.nxml\n",
        "<!DOCTYPE article PUBLIC \"-//NLM//DTD JATS (Z39.96) Journal Archiving and Interchange DTD v1.0 20120330//EN\" \"JATS-archivearticle1.dtd\">\n",
        "<article xmlns:xlink=\"http://www.w3.org/1999/xlink\" xmlns:mml=\"\n",
        "data/testarticles/Adv_Virol/Adv_Virol_2011_Jul_31_2011_609465.nxml\n",
        "<!DOCTYPE article PUBLIC \"-//NLM//DTD JATS (Z39.96) Journal Archiving and Interchange DTD v1.0 20120330//EN\" \"JATS-archivearticle1.dtd\">\n",
        "<article xmlns:xlink=\"http://www.w3.org/1999/xlink\" xmlns:mml=\"\n",
        "data/testarticles/BMJ/BMJ_2008_Dec_4_337_a2533.nxml\n",
        "<!DOCTYPE article PUBLIC \"-//NLM//DTD Journal Archiving and Interchange DTD v2.3 20070202//EN\" \"archivearticle.dtd\">\n",
        "<article xmlns:xlink=\"http://www.w3.org/1999/xlink\" xmlns:mml=\"http://www.w3.org/19\n",
        "data/testarticles/BMJ/BMJ_2008_Dec_8_337_a2396.nxml\n",
        "<!DOCTYPE article PUBLIC \"-//NLM//DTD Journal Archiving and Interchange DTD v2.3 20070202//EN\" \"archivearticle.dtd\">\n",
        "<article xmlns:xlink=\"http://www.w3.org/1999/xlink\" xmlns:mml=\"http://www.w3.org/19\n",
        "data/testarticles/Ecotoxicology/Ecotoxicology_2012_May_16_21(4)_933-972.nxml\n",
        "<!DOCTYPE article PUBLIC \"-//NLM//DTD JATS (Z39.96) Journal Archiving and Interchange DTD v1.0 20120330//EN\" \"JATS-archivearticle1.dtd\">\n",
        "<article xmlns:mml=\"http://www.w3.org/1998/Math/MathML\" xmlns:x\n"
       ]
      }
     ],
     "prompt_number": 7
    },
    {
     "cell_type": "code",
     "collapsed": false,
     "input": [
      "import pubs\n",
      "reload(pubs)\n",
      "from pubs import *"
     ],
     "language": "python",
     "metadata": {},
     "outputs": [],
     "prompt_number": 18
    },
    {
     "cell_type": "code",
     "collapsed": false,
     "input": [
      "articlepaths = get_article_paths(testdir)\n",
      "articlepaths"
     ],
     "language": "python",
     "metadata": {},
     "outputs": [
      {
       "metadata": {},
       "output_type": "pyout",
       "prompt_number": 20,
       "text": [
        "['data/testarticles/Adv_Virol/Adv_Virol_2010_Sep_21_2010_649315.nxml',\n",
        " 'data/testarticles/Adv_Virol/Adv_Virol_2011_Jul_31_2011_609465.nxml',\n",
        " 'data/testarticles/BMJ/BMJ_2008_Dec_4_337_a2533.nxml',\n",
        " 'data/testarticles/BMJ/BMJ_2008_Dec_8_337_a2396.nxml',\n",
        " 'data/testarticles/Ecotoxicology/Ecotoxicology_2012_May_16_21(4)_933-972.nxml',\n",
        " 'data/testarticles/Ecotoxicology/Ecotoxicology_2012_May_5_21(4)_1084-1093.nxml',\n",
        " 'data/testarticles/Emerg_Infect_Dis/Emerg_Infect_Dis_1995_Apr-Jun_1(2)_64-65.nxml',\n",
        " 'data/testarticles/Emerg_Infect_Dis/Emerg_Infect_Dis_1995_Jan-Mar_1(1)_31-33.nxml',\n",
        " 'data/testarticles/Glob_Adv_Health_Med/Glob_Adv_Health_Med_2012_Mar_1_1(1)_102-121.nxml',\n",
        " 'data/testarticles/Glob_Adv_Health_Med/Glob_Adv_Health_Med_2012_Mar_1_1(1)_36-50.nxml']"
       ]
      }
     ],
     "prompt_number": 20
    }
   ],
   "metadata": {}
  }
 ]
}