{
 "metadata": {
  "name": ""
 },
 "nbformat": 3,
 "nbformat_minor": 0,
 "worksheets": [
  {
   "cells": [
    {
     "cell_type": "markdown",
     "metadata": {},
     "source": [
      "# First try\n",
      "\n",
      "This is the first attempt at a hacky script that searches a single paper for mentions of cities with a population greater than 1000."
     ]
    },
    {
     "cell_type": "markdown",
     "metadata": {},
     "source": [
      "## To do\n",
      "\n",
      "1. Import a paper in beautiful soup\n",
      "2. Search for the paper for things in cities"
     ]
    },
    {
     "cell_type": "markdown",
     "metadata": {},
     "source": [
      "## Importing things and setting up\n",
      "\n",
      "We're going to import our modules and create a few variables for directories."
     ]
    },
    {
     "cell_type": "code",
     "collapsed": false,
     "input": [
      "import os\n",
      "import numpy as np\n",
      "from pandas import Series, DataFrame\n",
      "import pandas as pd\n",
      "import bs4\n",
      "\n",
      "datadir = ('data/')\n",
      "articledir = ('articles/')\n",
      "geonamedir = ('geonames/')"
     ],
     "language": "python",
     "metadata": {
      "slideshow": {
       "slide_type": "-"
      }
     },
     "outputs": [],
     "prompt_number": 2
    },
    {
     "cell_type": "markdown",
     "metadata": {},
     "source": [
      "## Reading city name data"
     ]
    },
    {
     "cell_type": "code",
     "collapsed": false,
     "input": [
      "cityfile = 'cities1000.txt'\n",
      "colnames = ['geonameid', 'name', 'asciiname', 'alternatenames',\n",
      "            'latitude', 'longitude', 'featureclass', 'featurecode',\n",
      "            'countrycode', 'cc2', 'admin1code', 'admin2code',\n",
      "            'admin3code', 'admin4code', 'population', 'elevation',\n",
      "            'dem', 'timezone', 'modificationdate']\n",
      "cities = pd.io.parsers.read_table(datadir + geonamedir + cityfile,\n",
      "                                  header=None,\n",
      "                                  names=colnames)"
     ],
     "language": "python",
     "metadata": {},
     "outputs": [
      {
       "output_type": "stream",
       "stream": "stderr",
       "text": [
        "/usr/local/Cellar/python/2.7.6/Frameworks/Python.framework/Versions/2.7/lib/python2.7/site-packages/pandas/io/parsers.py:1050: DtypeWarning: Columns (12,13) have mixed types. Specify dtype option on import or set low_memory=False.\n",
        "  data = self._reader.read(nrows)\n"
       ]
      }
     ],
     "prompt_number": 3
    },
    {
     "cell_type": "markdown",
     "metadata": {},
     "source": [
      "I'm not sure what that warning means but I'm not particularly worried about it at current time."
     ]
    },
    {
     "cell_type": "markdown",
     "metadata": {},
     "source": [
      "## Reading a single paper"
     ]
    },
    {
     "cell_type": "code",
     "collapsed": false,
     "input": [
      "journal = 'Emerg_Infect_Dis/'\n",
      "paperfile = 'Emerg_Infect_Dis_2005_Dec_11(12)_1887-1893.nxml'\n",
      "paperxml = open(datadir + articledir + journal + paperfile, 'r')\n",
      "paper = bs4.BeautifulSoup(paperxml, 'lxml')"
     ],
     "language": "python",
     "metadata": {},
     "outputs": [],
     "prompt_number": 7
    },
    {
     "cell_type": "markdown",
     "metadata": {},
     "source": [
      "We can now use the method `paper.find_all()` to pull the text of a particular tag in the journal. Tags of interest include:\n",
      "\n",
      "- \"front\", which includes front matter i.e. author location etc.\n",
      "- \"abstract\"\n",
      "- \"body\""
     ]
    },
    {
     "cell_type": "code",
     "collapsed": false,
     "input": [
      "front = paper.find_all('front')"
     ],
     "language": "python",
     "metadata": {},
     "outputs": [],
     "prompt_number": 65
    },
    {
     "cell_type": "code",
     "collapsed": false,
     "input": [
      "fronttext = front[0].get_text()\n",
      "fronttext = fronttext.encode('utf-8')\n",
      "fronttext"
     ],
     "language": "python",
     "metadata": {},
     "outputs": [
      {
       "metadata": {},
       "output_type": "pyout",
       "prompt_number": 66,
       "text": [
        "'Emerg Infect DisEmerging Infect. DisEIDEmerging Infectious Diseases1080-60401080-6059Centers for Disease Control and Prevention16485475336765105-090810.3201/eid1112.050908ResearchResearchPandemic Strain of Foot-and-Mouth Disease Virus Serotype OFoot-and-Mouth Disease Virus Serotype OKnowlesNick J.*SamuelAlan R.*DaviesPaul R.*MidgleyRebecca J.*ValarcherJean-Fran\\xc3\\xa7ois**Institute for Animal Health, Pirbright, United KingdomAddress for correspondence: Nick J. Knowles, Institute for Animal Health, Pirbright Laboratory, Ash Rd, Pirbright, Woking, Surrey, GU24 0NF, UK; fax: 44-1483-232448; email: nick.knowles@bbsrc.ac.uk122005111218871893The PanAsia strain is spreading explosively in Asia and extending to parts of Africa and Europe.A particular genetic lineage of foot-and-mouth disease virus (FMDV) serotype O, which we have named the PanAsia strain, was responsible for an explosive pandemic in Asia and extended to parts of Africa and Europe from 1998 to 2001. In 2000 and 2001, this virus strain caused outbreaks in the Republic of Korea, Japan, Russia, Mongolia, South Africa, the United Kingdom, Republic of Ireland, France, and the Netherlands, countries which last experienced FMD outbreaks decades before (ranging from 1934 for Korea to 1984 for the Netherlands). Although the virus has been controlled in all of these normally FMD-free or sporadically infected countries, it appears to be established throughout much of southern Asia, with geographically separated lineages evolving independently. A pandemic such as this is a rare phenomenon but demonstrates the ability of newly emerging FMDV strains to spread rapidly throughout a wide region and invade countries previously free from the disease.Keywords: AphthovirusEpidemiology, MolecularFoot-and-Mouth Disease VirusMolecular Sequence DataPhylogenyPicornaviridae, Research'"
       ]
      }
     ],
     "prompt_number": 66
    },
    {
     "cell_type": "markdown",
     "metadata": {},
     "source": [
      "## Iterating through the list of cities"
     ]
    },
    {
     "cell_type": "code",
     "collapsed": false,
     "input": [
      "for row_index, row in cities.iterrows():\n",
      "    name = row.loc['name']\n",
      "    count = fronttext.count(name)\n",
      "    if count > 0:\n",
      "        country = cities.loc[row_index, \"countrycode\"]\n",
      "        print '%s occurs %i times. Country code: %s' %(name, count, country)"
     ],
     "language": "python",
     "metadata": {},
     "outputs": [
      {
       "output_type": "stream",
       "stream": "stdout",
       "text": [
        "Mol occurs 2 times. Country code: BE\n",
        "As occurs 6 times. Country code: BE\n",
        "Surrey occurs 1 times. Country code: CA"
       ]
      },
      {
       "output_type": "stream",
       "stream": "stdout",
       "text": [
        "\n",
        "Ins occurs 2 times. Country code: CH"
       ]
      },
      {
       "output_type": "stream",
       "stream": "stdout",
       "text": [
        "\n",
        "Lab occurs 1 times. Country code: CN"
       ]
      },
      {
       "output_type": "stream",
       "stream": "stdout",
       "text": [
        "\n",
        "Ala occurs 1 times. Country code: CN"
       ]
      },
      {
       "output_type": "stream",
       "stream": "stdout",
       "text": [
        "\n",
        "Rus occurs 1 times. Country code: ES"
       ]
      },
      {
       "output_type": "stream",
       "stream": "stdout",
       "text": [
        "\n",
        "Pau occurs 1 times. Country code: ES"
       ]
      },
      {
       "output_type": "stream",
       "stream": "stdout",
       "text": [
        "\n",
        "Russ occurs 1 times. Country code: FR"
       ]
      },
      {
       "output_type": "stream",
       "stream": "stdout",
       "text": [
        "\n",
        "Pau occurs 1 times. Country code: FR"
       ]
      },
      {
       "output_type": "stream",
       "stream": "stdout",
       "text": [
        "\n",
        "Eu occurs 2 times. Country code: FR"
       ]
      },
      {
       "output_type": "stream",
       "stream": "stdout",
       "text": [
        "\n",
        "Woking occurs 1 times. Country code: GB"
       ]
      },
      {
       "output_type": "stream",
       "stream": "stdout",
       "text": [
        "\n",
        "Knowle occurs 2 times. Country code: GB"
       ]
      },
      {
       "output_type": "stream",
       "stream": "stdout",
       "text": [
        "\n",
        "Ash occurs 1 times. Country code: GB"
       ]
      },
      {
       "output_type": "stream",
       "stream": "stdout",
       "text": [
        "\n",
        "Ash occurs 1 times. Country code: GB\n",
        "Vir occurs 3 times. Country code: HR"
       ]
      },
      {
       "output_type": "stream",
       "stream": "stdout",
       "text": [
        "\n",
        "Kore occurs 2 times. Country code: ID"
       ]
      },
      {
       "output_type": "stream",
       "stream": "stdout",
       "text": [
        "\n",
        "Pau occurs 1 times. Country code: ID"
       ]
      },
      {
       "output_type": "stream",
       "stream": "stdout",
       "text": [
        "\n",
        "Pau occurs 1 times. Country code: ID\n",
        "Un occurs 2 times. Country code: IN"
       ]
      },
      {
       "output_type": "stream",
       "stream": "stdout",
       "text": [
        "\n",
        "Mon occurs 1 times. Country code: IN"
       ]
      },
      {
       "output_type": "stream",
       "stream": "stdout",
       "text": [
        "\n",
        "Pau occurs 1 times. Country code: IT"
       ]
      },
      {
       "output_type": "stream",
       "stream": "stdout",
       "text": [
        "\n",
        "Stra occurs 1 times. Country code: IT"
       ]
      },
      {
       "output_type": "stream",
       "stream": "stdout",
       "text": [
        "\n",
        "Russi occurs 1 times. Country code: IT"
       ]
      },
      {
       "output_type": "stream",
       "stream": "stdout",
       "text": [
        "\n",
        "Re occurs 6 times. Country code: IT\n",
        "Pico occurs 1 times. Country code: IT\n",
        "Ala occurs 1 times. Country code: IT"
       ]
      },
      {
       "output_type": "stream",
       "stream": "stdout",
       "text": [
        "\n",
        "Strai occurs 1 times. Country code: NO"
       ]
      },
      {
       "output_type": "stream",
       "stream": "stdout",
       "text": [
        "\n",
        "Mo occurs 6 times. Country code: NO\n",
        "As occurs 6 times. Country code: NO\n",
        "Asia occurs 5 times. Country code: PE"
       ]
      },
      {
       "output_type": "stream",
       "stream": "stdout",
       "text": [
        "\n",
        "Pau occurs 1 times. Country code: PH"
       ]
      },
      {
       "output_type": "stream",
       "stream": "stdout",
       "text": [
        "\n",
        "Labo occurs 1 times. Country code: PH"
       ]
      },
      {
       "output_type": "stream",
       "stream": "stdout",
       "text": [
        "\n",
        "Asia occurs 5 times. Country code: PH"
       ]
      },
      {
       "output_type": "stream",
       "stream": "stdout",
       "text": [
        "\n",
        "Rebe occurs 1 times. Country code: PH\n",
        "Rus occurs 1 times. Country code: RO"
       ]
      },
      {
       "output_type": "stream",
       "stream": "stdout",
       "text": [
        "\n",
        "Pir occurs 3 times. Country code: RO\n",
        "Mol occurs 2 times. Country code: RS"
       ]
      },
      {
       "output_type": "stream",
       "stream": "stdout",
       "text": [
        "\n",
        "Uni occurs 2 times. Country code: RU\n",
        "Vi occurs 3 times. Country code: SE"
       ]
      },
      {
       "output_type": "stream",
       "stream": "stdout",
       "text": [
        "\n",
        "Mongo occurs 1 times. Country code: TD"
       ]
      },
      {
       "output_type": "stream",
       "stream": "stdout",
       "text": [
        "\n",
        "Davie occurs 1 times. Country code: US"
       ]
      },
      {
       "output_type": "stream",
       "stream": "stdout",
       "text": [
        "\n",
        "Republic occurs 2 times. Country code: US"
       ]
      },
      {
       "output_type": "stream",
       "stream": "stdout",
       "text": [
        "\n",
        "King occurs 2 times. Country code: US\n",
        "Republic occurs 2 times. Country code: US"
       ]
      },
      {
       "output_type": "stream",
       "stream": "stdout",
       "text": [
        "\n",
        "Center occurs 1 times. Country code: US\n",
        "Center occurs 1 times. Country code: US"
       ]
      },
      {
       "output_type": "stream",
       "stream": "stdout",
       "text": [
        "\n",
        "King occurs 2 times. Country code: US"
       ]
      },
      {
       "output_type": "stream",
       "stream": "stdout",
       "text": [
        "\n",
        "Center occurs 1 times. Country code: US"
       ]
      },
      {
       "output_type": "stream",
       "stream": "stdout",
       "text": [
        "\n",
        "Paul occurs 1 times. Country code: US"
       ]
      },
      {
       "output_type": "stream",
       "stream": "stdout",
       "text": [
        "\n",
        "Center occurs 1 times. Country code: US\n",
        "Republic occurs 2 times. Country code: US"
       ]
      },
      {
       "output_type": "stream",
       "stream": "stdout",
       "text": [
        "\n"
       ]
      }
     ],
     "prompt_number": 67
    }
   ],
   "metadata": {}
  }
 ]
}